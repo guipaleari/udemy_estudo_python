{
 "cells": [
  {
   "cell_type": "code",
   "execution_count": 24,
   "metadata": {},
   "outputs": [
    {
     "name": "stdout",
     "output_type": "stream",
     "text": [
      "1\n",
      "2\n",
      "3\n",
      "4\n",
      "5\n"
     ]
    }
   ],
   "source": [
    "# Usando o Enquanto → WHILE:\n",
    "count = 1\n",
    "while count <= 5:\n",
    "    print(count)\n",
    "    count += 1\n"
   ]
  },
  {
   "cell_type": "code",
   "execution_count": 25,
   "metadata": {},
   "outputs": [
    {
     "name": "stdout",
     "output_type": "stream",
     "text": [
      "1\n",
      "2\n",
      "3\n",
      "4\n",
      "5\n",
      "6\n",
      "7\n",
      "8\n",
      "9\n",
      "10\n",
      "\n",
      "\n",
      "1\n",
      "2\n",
      "3\n",
      "4\n",
      "5\n",
      "6\n",
      "7\n",
      "8\n",
      "9\n",
      "10\n",
      "\n",
      "\n",
      "11\n",
      "10\n",
      "9\n",
      "8\n",
      "7\n",
      "6\n",
      "5\n",
      "4\n",
      "3\n",
      "2\n",
      "\n",
      "\n",
      "1\n",
      "4\n",
      "7\n",
      "10\n"
     ]
    }
   ],
   "source": [
    "# Usando o Para → FOR:\n",
    "for n in range(0, 10): # for(início, parada, incremento opcional)\n",
    "    print(n+1) # ← o python ignora o último valor do intervalo\n",
    "print('\\n')\n",
    "\n",
    "for n in range(1, 11): \n",
    "    print(n)\n",
    "print('\\n')\n",
    "\n",
    "for n in range(10, 0, -1): # for(início, parada, incremento opcional que pode ser negativo)\n",
    "    print(n+1) # ← o python ignora o último valor do intervalo\n",
    "print('\\n')\n",
    "\n",
    "for n in range(0, 10, 3): # for(início, parada, incremento opcional)\n",
    "    print(n+1) # ← o python ignora o último valor do intervalo"
   ]
  },
  {
   "cell_type": "code",
   "execution_count": 26,
   "metadata": {},
   "outputs": [
    {
     "name": "stdout",
     "output_type": "stream",
     "text": [
      "0\n",
      "1\n",
      "2\n",
      "3\n"
     ]
    }
   ],
   "source": [
    "# Usando a Parada → BREAK:\n",
    "for n in range(0, 11):\n",
    "    if n==4:\n",
    "        break # Parar ao chegar no 4\n",
    "    print(n)"
   ]
  },
  {
   "cell_type": "code",
   "execution_count": 27,
   "metadata": {},
   "outputs": [
    {
     "name": "stdout",
     "output_type": "stream",
     "text": [
      "0\n",
      "1\n",
      "2\n",
      "3\n",
      "5\n",
      "6\n",
      "7\n",
      "8\n",
      "9\n",
      "10\n"
     ]
    }
   ],
   "source": [
    "# Usando a Continuação → CONTINUE:\n",
    "for n in range(0, 11):\n",
    "    if n==4:\n",
    "        continue # Pular ao chegar no 4\n",
    "    print(n)"
   ]
  },
  {
   "cell_type": "code",
   "execution_count": 9,
   "metadata": {},
   "outputs": [
    {
     "name": "stdout",
     "output_type": "stream",
     "text": [
      "1\n",
      "3\n",
      "4\n",
      "5\n",
      "6\n",
      "7\n"
     ]
    }
   ],
   "source": [
    "#Teste para combinar as duas condições:\n",
    "continuar = input('Digite um número para continuar')\n",
    "continuar = int(continuar)\n",
    "parar = input('Digite um número para parar')\n",
    "parar = int(parar)\n",
    "\n",
    "for n in range(1, 11):\n",
    "    if n == continuar:\n",
    "        continue\n",
    "    elif n == parar:\n",
    "        break\n",
    "    print(n)"
   ]
  },
  {
   "cell_type": "code",
   "execution_count": null,
   "metadata": {},
   "outputs": [],
   "source": []
  }
 ],
 "metadata": {
  "kernelspec": {
   "display_name": "Python 3.9.12 ('base')",
   "language": "python",
   "name": "python3"
  },
  "language_info": {
   "codemirror_mode": {
    "name": "ipython",
    "version": 3
   },
   "file_extension": ".py",
   "mimetype": "text/x-python",
   "name": "python",
   "nbconvert_exporter": "python",
   "pygments_lexer": "ipython3",
   "version": "3.9.12"
  },
  "orig_nbformat": 4,
  "vscode": {
   "interpreter": {
    "hash": "bb1809f004956f83e96d80832f161ee3c7ade7e4954ac58ab47f4200d7846305"
   }
  }
 },
 "nbformat": 4,
 "nbformat_minor": 2
}

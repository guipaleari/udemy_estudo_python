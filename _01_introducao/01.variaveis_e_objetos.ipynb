{
 "cells": [
  {
   "cell_type": "code",
   "execution_count": 1,
   "metadata": {},
   "outputs": [
    {
     "name": "stdout",
     "output_type": "stream",
     "text": [
      "#Inteiro 1\n",
      "#Float: 1.1\n",
      "#String: Python\n",
      "#Lógica True\n",
      "#Lógica False\n"
     ]
    }
   ],
   "source": [
    "# Inteiro:\n",
    "x = 1\n",
    "print('#Inteiro:', x)\n",
    "\n",
    "# Float:\n",
    "y = 1.1\n",
    "print('#Float:', y)\n",
    "\n",
    "# String:\n",
    "z = 'Python'\n",
    "print('#String:', z)\n",
    "\n",
    "# Lógica\n",
    "a = True\n",
    "b = False\n",
    "print('#Lógica:', a)\n",
    "print('#Lógica:', b)"
   ]
  },
  {
   "cell_type": "code",
   "execution_count": 2,
   "metadata": {},
   "outputs": [
    {
     "name": "stdout",
     "output_type": "stream",
     "text": [
      "30.0\n"
     ]
    }
   ],
   "source": [
    "#Calculadora:\n",
    "x = 10\n",
    "y = 20\n",
    "z = 100\n",
    "w = (x + y) * z /100\n",
    "print(w)"
   ]
  },
  {
   "cell_type": "code",
   "execution_count": 3,
   "metadata": {},
   "outputs": [
    {
     "name": "stdout",
     "output_type": "stream",
     "text": [
      "Este texto será exibido no console: \n",
      "10\n",
      "Agora este texto com duas variáveis:  10  +  20  =  30\n"
     ]
    }
   ],
   "source": [
    "# Exibir texto no Console:\n",
    "print('Este texto será exibido no console: ')\n",
    "print(x)\n",
    "\n",
    "print('Agora este texto com duas variáveis: ', x, \" + \", y, ' = ', x+y)"
   ]
  },
  {
   "cell_type": "code",
   "execution_count": 4,
   "metadata": {},
   "outputs": [
    {
     "name": "stdout",
     "output_type": "stream",
     "text": [
      "<class 'int'>\n",
      "<class 'float'>\n",
      "<class 'str'>\n",
      "<class 'bool'>\n"
     ]
    }
   ],
   "source": [
    "# Para averiguar o tipo da variável, basta usar o comando \"type\":\n",
    "e = 1\n",
    "print(type(e))\n",
    "\n",
    "f = 1.1\n",
    "print(type(f))\n",
    "\n",
    "g = 'Texto string'\n",
    "print(type(g))\n",
    "\n",
    "h = True\n",
    "print(type(h))"
   ]
  },
  {
   "cell_type": "code",
   "execution_count": 5,
   "metadata": {},
   "outputs": [
    {
     "name": "stdout",
     "output_type": "stream",
     "text": [
      "Digite um número: \n",
      "<class 'str'>\n",
      "<class 'str'>\n",
      "Digite um número:  2\n",
      "<class 'str'>\n"
     ]
    }
   ],
   "source": [
    "# Entrada de valores para o usuário digitar:\n",
    "print('Digite um número: ')\n",
    "i = input()\n",
    "print(type(i))\n",
    "\n",
    "#De forma mais simplificada:\n",
    "i = input(\"Digite um número: \")\n",
    "print(type(i))\n",
    "\n",
    "#De forma mais simplificada:\n",
    "input(print(\"Digite um número: \", i))\n",
    "print(type(i))"
   ]
  },
  {
   "cell_type": "code",
   "execution_count": 6,
   "metadata": {},
   "outputs": [
    {
     "name": "stdout",
     "output_type": "stream",
     "text": [
      "<class 'str'>\n",
      "<class 'int'>\n",
      "<class 'float'>\n"
     ]
    }
   ],
   "source": [
    "# Agora convertendo os valores para Inteiro:\n",
    "var = input('Digite o valor: ')\n",
    "print(type(var))\n",
    "\n",
    "var = int(var)\n",
    "print(type(var))\n",
    "\n",
    "var = float(var)\n",
    "print(type(var))"
   ]
  },
  {
   "cell_type": "code",
   "execution_count": 1,
   "metadata": {},
   "outputs": [
    {
     "name": "stdout",
     "output_type": "stream",
     "text": [
      "<class 'str'>\n",
      "João Paulo\n",
      "J\n",
      "o\n",
      "ã\n",
      "o\n",
      "João\n",
      "Paulo\n",
      "10\n",
      "joão paulo\n",
      "JOÃO PAULO\n",
      "João paulo\n",
      "True\n",
      "3\n",
      "2\n",
      "True\n",
      "False\n"
     ]
    }
   ],
   "source": [
    "#Types em variáveis:\n",
    "nome = \"João Paulo\"\n",
    "print(type(nome)) #tipagem dinâmica → a variável assume o tipo depedendo\n",
    "\n",
    "print(nome) #pense em uma folha quadriculada, onde cada letra fica em um quadradinho, neste caso, é exibido todo o conteúdo\n",
    "print(nome[0]) #aqui é exibido quadradinho por quadradinho\n",
    "print(nome[1]) #aqui tb\n",
    "print(nome[2]) #aqui tb\n",
    "print(nome[3]) #aqui tb\n",
    "print(nome[0:4]) #aqui é exibida uma sequência finita de quadradinhos\n",
    "print(nome[5:]) #aqui é exibida a partir de um quadradinho em diante\n",
    "print(len(nome)) #aqui conta a quantidade de quadradinhos\n",
    "print(nome.lower()) #aqui padrozinha o conteúdo todo em minúsculo\n",
    "print(nome.upper()) #aqui padrozinha o conteúdo todo em maiúsculo\n",
    "print(nome.capitalize()) #aqui deixa apenas a primeira em maiúscula\n",
    "print('J' in nome) #valida se há 'J' no nome\n",
    "print(nome.count('o')) #conta a quantidade de 'o' no nome\n",
    "print(nome.count('a') + nome.count('ã')) #soma a quantidade de caracteres diferentes\n",
    "print(nome.startswith('J')) #valida se o conteúdo começa com J\n",
    "print(nome.endswith('J')) #valida se o conteúdo termina com J"
   ]
  }
 ],
 "metadata": {
  "kernelspec": {
   "display_name": "Python 3",
   "language": "python",
   "name": "python3"
  },
  "language_info": {
   "codemirror_mode": {
    "name": "ipython",
    "version": 3
   },
   "file_extension": ".py",
   "mimetype": "text/x-python",
   "name": "python",
   "nbconvert_exporter": "python",
   "pygments_lexer": "ipython3",
   "version": "3.11.1"
  },
  "orig_nbformat": 4,
  "vscode": {
   "interpreter": {
    "hash": "5238573367df39f7286bb46f9ff5f08f63a01a80960060ce41e3c79b190280fa"
   }
  }
 },
 "nbformat": 4,
 "nbformat_minor": 2
}

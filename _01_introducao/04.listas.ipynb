{
 "cells": [
  {
   "cell_type": "code",
   "execution_count": 20,
   "metadata": {},
   "outputs": [
    {
     "name": "stdout",
     "output_type": "stream",
     "text": [
      "Lista 1:  [1, 2, 3, 4, 5]\n",
      "Lista 2:  [1, 2.1, '3', '4', True]\n",
      "Lista 3:  [1, 2.1, [11, 12, 13], 'a', False]\n",
      "Lista 4:  [1, 2, 3, 4, 5, 6, 7, 8, 9, 10]\n",
      " Tamanho da lista 1:  5 \n",
      " Tamanho da lista 2:  5 \n",
      " Tamanho da lista 3:  5  ← a lista dentro da lista é considerada um único elemento\n",
      " Tamanho da lista 4:  10\n"
     ]
    }
   ],
   "source": [
    "# Lista simples\n",
    "lista1 = [1, 2, 3, 4, 5]\n",
    "print('Lista 1: ', lista1)\n",
    "\n",
    "# Lista agregando vários TYPES:\n",
    "lista2 = [1, 2.1, \"3\", '4', True]\n",
    "print('Lista 2: ',lista2)\n",
    "\n",
    "# Lista com lista dentro:\n",
    "lista3 = [1, 2.1, [11, 12, 13], 'a', False]\n",
    "print('Lista 3: ', lista3)\n",
    "\n",
    "# Lista usando o RANGE:\n",
    "lista4 = list(range(1, 11))\n",
    "print('Lista 4: ', lista4)\n",
    "\n",
    "# Medir o comprimento da lista:\n",
    "print(' Tamanho da lista 1: ', len(lista1), '\\n',\n",
    "'Tamanho da lista 2: ', len(lista2), '\\n',\n",
    "'Tamanho da lista 3: ', len(lista3), ' ← a lista dentro da lista é considerada um único elemento\\n',\n",
    "'Tamanho da lista 4: ', len(lista4))"
   ]
  },
  {
   "cell_type": "code",
   "execution_count": 33,
   "metadata": {},
   "outputs": [
    {
     "name": "stdout",
     "output_type": "stream",
     "text": [
      "Acessando o primeiro item na posição zero:  1 \n",
      "\n",
      "Acessando o segundo item na posição um:  2.1 \n",
      "\n",
      "Acessando o terceiro item na posição dois:  [11, 12, 13] \n",
      "(trazendo a lista dentro da lista)\n"
     ]
    }
   ],
   "source": [
    "# Acessar um elemento da lista:\n",
    "print('Acessando o primeiro item na posição zero: ', lista1[0], '\\n')\n",
    "print('Acessando o segundo item na posição um: ', lista2[1], '\\n')\n",
    "print('Acessando o terceiro item na posição dois: ', lista3[2], '\\n(trazendo a lista dentro da lista)')"
   ]
  },
  {
   "cell_type": "code",
   "execution_count": 34,
   "metadata": {},
   "outputs": [
    {
     "name": "stdout",
     "output_type": "stream",
     "text": [
      "[10, 2, 3, 4, 5]\n"
     ]
    }
   ],
   "source": [
    "# Alterando determinado elemento pela posição na lista:\n",
    "lista1[0] = 10 # de 1 → para 10\n",
    "print(lista1)"
   ]
  },
  {
   "cell_type": "code",
   "execution_count": 46,
   "metadata": {},
   "outputs": [
    {
     "name": "stdout",
     "output_type": "stream",
     "text": [
      "[1, 2, 3, 4, 5, 6, 7, 8, 9, 10]\n",
      "[1, 2, 3, 4, 5, 6, 7, 8, 9, 10]\n",
      "[1, 2, 3, 4, 5, 6, 7, 8, 9, 10]\n",
      "[1, 2, 3, 4, 5, 6, 7, 8, 9, 10]\n",
      "[1, 2, 3, 4, 5, 6, 7, 8, 9, 10]\n",
      "[1, 2, 3, 4, 5, 6, 7, 8, 9, 10]\n",
      "[1, 2, 3, 4, 5, 6, 7, 8, 9, 10]\n",
      "[1, 2, 3, 4, 5, 6, 7, 8, 9, 10]\n",
      "[1, 2, 3, 4, 5, 6, 7, 8, 9, 10]\n",
      "[1, 2, 3, 4, 5, 6, 7, 8, 9, 10]\n",
      "\n",
      "\n",
      "1\n",
      "2\n",
      "3\n",
      "4\n",
      "5\n",
      "6\n",
      "7\n",
      "8\n",
      "9\n",
      "10\n",
      "\n",
      "\n",
      "2\n",
      "3\n",
      "4\n",
      "5\n",
      "6\n",
      "7\n",
      "8\n",
      "9\n",
      "10\n",
      "11\n"
     ]
    }
   ],
   "source": [
    "# Percorrendo a lista:\n",
    "for n in range(0, len(lista4)):\n",
    "    print(lista4)\n",
    "print('\\n')\n",
    "\n",
    "for n in range(0, len(lista4)):\n",
    "    print(lista4[n])\n",
    "print('\\n')\n",
    "\n",
    "for n in range(0, len(lista4)):\n",
    "    print(lista4[n]+1)"
   ]
  },
  {
   "cell_type": "code",
   "execution_count": null,
   "metadata": {},
   "outputs": [],
   "source": []
  }
 ],
 "metadata": {
  "kernelspec": {
   "display_name": "Python 3.9.12 ('base')",
   "language": "python",
   "name": "python3"
  },
  "language_info": {
   "codemirror_mode": {
    "name": "ipython",
    "version": 3
   },
   "file_extension": ".py",
   "mimetype": "text/x-python",
   "name": "python",
   "nbconvert_exporter": "python",
   "pygments_lexer": "ipython3",
   "version": "3.9.12"
  },
  "orig_nbformat": 4,
  "vscode": {
   "interpreter": {
    "hash": "bb1809f004956f83e96d80832f161ee3c7ade7e4954ac58ab47f4200d7846305"
   }
  }
 },
 "nbformat": 4,
 "nbformat_minor": 2
}

{
 "cells": [
  {
   "cell_type": "markdown",
   "metadata": {},
   "source": [
    "# Numpy: \n",
    "\n",
    "É a biblioteca fundamental de python, usado para executar computação científica. Ele fornece matrizes (arrays) multidimensionais de alto desempenho e ferramentas para lidar com eles. \n",
    "Uma matriz numpy é uma grade de valores (do mesmo tipo) que são indexados por uma tupla de inteiros positivos, arrays numpy são rápidos, fáceis de entender e dão aos usuários o direito de realizar cálculos entre os arrays.\n",
    "\n",
    "https://acervolima.com/diferenca-entre-pandas-vs-numpy/\n",
    "\n"
   ]
  },
  {
   "cell_type": "code",
   "execution_count": 1,
   "metadata": {},
   "outputs": [],
   "source": [
    "# Importar NUMPY e apelidar como NP:\n",
    "import numpy as np"
   ]
  },
  {
   "cell_type": "code",
   "execution_count": 2,
   "metadata": {},
   "outputs": [
    {
     "name": "stdout",
     "output_type": "stream",
     "text": [
      "[12 34 26 18 10]\n",
      "<class 'numpy.ndarray'>\n"
     ]
    }
   ],
   "source": [
    "# Criar uma Matriz Unidimensional → ARRAY:\n",
    "matriz = np.array([12, 34, 26, 18, 10])\n",
    "print(matriz)\n",
    "print(type(matriz))"
   ]
  },
  {
   "cell_type": "code",
   "execution_count": 3,
   "metadata": {},
   "outputs": [
    {
     "name": "stdout",
     "output_type": "stream",
     "text": [
      "[1. 2. 3.]\n",
      "<class 'numpy.ndarray'>\n",
      "[1 2 3]\n",
      "<class 'numpy.ndarray'>\n"
     ]
    }
   ],
   "source": [
    "# Criar uma matriz (ARRAY) com um type específico:\n",
    "matriz_float = np.array([1, 2, 3], dtype = np.float64)\n",
    "print(matriz_float)\n",
    "print(type(matriz_float))\n",
    "\n",
    "matriz_int = np.array([1, 2, 3], dtype = np.int32)\n",
    "print(matriz_int)\n",
    "print(type(matriz_int))"
   ]
  },
  {
   "cell_type": "code",
   "execution_count": 4,
   "metadata": {},
   "outputs": [
    {
     "name": "stdout",
     "output_type": "stream",
     "text": [
      "[ 1.4       3.6      -5.1       9.42      4.999999]\n",
      "[ 1  3 -5  9  4]\n",
      "[1 2 3 4]\n",
      "[1. 2. 3. 4.]\n"
     ]
    }
   ],
   "source": [
    "# Converter o tipo da matriz (ARRAY):\n",
    "# De float\n",
    "matriz_nova = np.array([1.4, 3.6, -5.1, 9.42, 4.999999])\n",
    "print(matriz_nova)\n",
    "\n",
    "# Para int\n",
    "matriz_nova_int = matriz_nova.astype(np.int32)\n",
    "print(matriz_nova_int)\n",
    "\n",
    "# O inverso também pode ser feito:\n",
    "mt1 = np.array([1, 2, 3, 4])\n",
    "print(mt1)\n",
    "mt2 = mt1.astype(float)\n",
    "print(mt2)"
   ]
  },
  {
   "cell_type": "code",
   "execution_count": 5,
   "metadata": {},
   "outputs": [
    {
     "name": "stdout",
     "output_type": "stream",
     "text": [
      "[[ 7  2 23]\n",
      " [12 27  4]\n",
      " [ 5 34 23]]\n"
     ]
    }
   ],
   "source": [
    "# Criar uma Matriz Bidimensional → ARRAY:\n",
    "matriz_bidimensional = np.array([[7, 2 , 23], [12, 27, 4], [5, 34, 23]])\n",
    "print(matriz_bidimensional)"
   ]
  },
  {
   "cell_type": "code",
   "execution_count": 6,
   "metadata": {},
   "outputs": [
    {
     "name": "stdout",
     "output_type": "stream",
     "text": [
      "[[         0 1072693248]\n",
      " [         0 1073741824]\n",
      " [         0 1074266112]] \n",
      "\n",
      "[[0. 0. 0.]\n",
      " [0. 0. 0.]\n",
      " [0. 0. 0.]\n",
      " [0. 0. 0.]] \n",
      "\n",
      "[[1. 1. 1. 1. 1. 1. 1.]\n",
      " [1. 1. 1. 1. 1. 1. 1.]\n",
      " [1. 1. 1. 1. 1. 1. 1.]\n",
      " [1. 1. 1. 1. 1. 1. 1.]\n",
      " [1. 1. 1. 1. 1. 1. 1.]] \n",
      "\n",
      "[[1. 0. 0. 0. 0.]\n",
      " [0. 1. 0. 0. 0.]\n",
      " [0. 0. 1. 0. 0.]\n",
      " [0. 0. 0. 1. 0.]\n",
      " [0. 0. 0. 0. 1.]]\n"
     ]
    }
   ],
   "source": [
    "# Criar Matrizes Tipificadas:\n",
    "\n",
    "# Matriz Vazia: significa que elas começam não inicializadas (não que são vazias):\n",
    "vazio = np.empty([3, 2], dtype = int)\n",
    "print(vazio, '\\n')\n",
    "\n",
    "# Matriz com valores zerados:\n",
    "zero = np.zeros([4, 3])\n",
    "print(zero, '\\n')\n",
    "\n",
    "# Matriz com valores em um:\n",
    "um = np.ones([5, 7])\n",
    "print(um, '\\n')\n",
    "\n",
    "# Matriz com valores apenas na diagonal:\n",
    "diagonal = np.eye(5)\n",
    "print(diagonal)"
   ]
  },
  {
   "cell_type": "code",
   "execution_count": 7,
   "metadata": {},
   "outputs": [
    {
     "name": "stdout",
     "output_type": "stream",
     "text": [
      "[0.16392736 0.42400148 0.28381087 0.91110537 0.81035129] \n",
      "\n",
      "[ 0.9643716  -0.40281659 -2.28764441 -0.4060029  -0.20843205] \n",
      "\n",
      "[[4.64094775 6.72357857 1.96836456 2.61083271]\n",
      " [6.49358074 5.067283   2.48986799 2.68255526]\n",
      " [6.67505425 7.06599472 3.77509909 4.41249811]] \n",
      "\n"
     ]
    }
   ],
   "source": [
    "# Criar números aleatórios para simulações → RANDOM:\n",
    "\n",
    "# Números entre 0 e 1:\n",
    "random1 = np.random.random(5)\n",
    "print(random1, '\\n')\n",
    "\n",
    "# Números aleatórios com distribuição norlam contendo negativos:\n",
    "random2 = np.random.randn(5)\n",
    "print(random2, '\\n')\n",
    "\n",
    "# Números aleatóricos com 3 linhas x 4 colunas:\n",
    "random3 = 10 * np.random.random((3, 4)) # ← multiplica-se por 10 para o número ficar tão pequeno\n",
    "print(random3, '\\n')"
   ]
  },
  {
   "cell_type": "code",
   "execution_count": 8,
   "metadata": {},
   "outputs": [
    {
     "name": "stdout",
     "output_type": "stream",
     "text": [
      "[0.51182162 0.9504637  0.14415961]\n",
      "[[8 9 2 3]\n",
      " [8 4 2 8]\n",
      " [2 4 6 5]]\n"
     ]
    }
   ],
   "source": [
    "# Gerar números aleatórios a partir de sementes estáticas:\n",
    "semente = np.random.default_rng(1)\n",
    "aleatorio1 = semente.random(3)\n",
    "print(aleatorio1)\n",
    "\n",
    "# Agora em números inteiros:\n",
    "aleatorio2 = semente.integers(10, size = (3, 4))\n",
    "print(aleatorio2)\n"
   ]
  },
  {
   "cell_type": "code",
   "execution_count": 9,
   "metadata": {},
   "outputs": [
    {
     "name": "stdout",
     "output_type": "stream",
     "text": [
      "[11 12 13 14 15 16 17 18 19 20]\n"
     ]
    }
   ],
   "source": [
    "# Remover repetições e deixar dados únicos → UNIQUE:\n",
    "j = np.array([11, 12, 13, 14, 15, 16, 17, 12, 13, 11, 18, 19, 20])\n",
    "j = np.unique(j)\n",
    "print(j)"
   ]
  },
  {
   "cell_type": "code",
   "execution_count": 10,
   "metadata": {},
   "outputs": [
    {
     "name": "stdout",
     "output_type": "stream",
     "text": [
      "[[17 22 43]\n",
      " [27 22 43]\n",
      " [15 24 32]] \n",
      "\n",
      "27 \n",
      "\n",
      "(3, 3)\n"
     ]
    }
   ],
   "source": [
    "# Criar uma Matriz Bidimensional → ARRAY:\n",
    "k = np.array([[17, 22, 43], [27, 22, 43], [15, 24, 32]])\n",
    "print(k, '\\n')\n",
    "\n",
    "# Mostrar um elemebto específico da matriz:\n",
    "print(k[1][0], '\\n') # ← [linha] e [coluna]\n",
    "\n",
    "# Mostrar o tamanho das dimensões da matriz:\n",
    "print(k.shape)"
   ]
  },
  {
   "cell_type": "code",
   "execution_count": 17,
   "metadata": {},
   "outputs": [
    {
     "name": "stdout",
     "output_type": "stream",
     "text": [
      "43\n",
      "15\n",
      "245\n",
      "27.222\n",
      "9.6584\n",
      "[[4.12310563 4.69041576 6.55743852]\n",
      " [5.19615242 4.69041576 6.55743852]\n",
      " [3.87298335 4.89897949 5.65685425]]\n",
      "[[2.41549528e+07 3.58491285e+09 4.72783947e+18]\n",
      " [5.32048241e+11 3.58491285e+09 4.72783947e+18]\n",
      " [3.26901737e+06 2.64891221e+10 7.89629602e+13]]\n"
     ]
    }
   ],
   "source": [
    "# Funções Matemáticas na Matriz Bidimensional:\n",
    "\n",
    "# Maior → MAX:\n",
    "print(k.max())\n",
    "\n",
    "# Menor → MIN:\n",
    "print(k.min())\n",
    "\n",
    "# Somar → SUM:\n",
    "print(k.sum())\n",
    "\n",
    "# Média → MEAN:\n",
    "print(round(k.mean(),3)) # ← Arredondar → ROUND(x, 2)\n",
    "\n",
    "# Desvio Padrão (Standard Deviation) → STD:\n",
    "print(round(k.std(), 4))\n",
    "\n",
    "# Raiz Quadrada → SQRT:\n",
    "print(np.sqrt(k))\n",
    "\n",
    "# Exponencial → EXP:\n",
    "print(np.exp(k)) # ← calcula a partir da constante de Euler = 2,718281 elevado à variável"
   ]
  },
  {
   "cell_type": "code",
   "execution_count": 21,
   "metadata": {},
   "outputs": [
    {
     "name": "stdout",
     "output_type": "stream",
     "text": [
      "[101 102 103 104 105 106] \n",
      "\n",
      "102\n",
      "[101 102]\n",
      "[102 103 104 105 106]\n",
      "[104 105 106]\n"
     ]
    }
   ],
   "source": [
    "# Extrair elementos da matriz → ARRAY:\n",
    "m = np.array([101, 102, 103, 104, 105, 106])\n",
    "print(m, '\\n')\n",
    "\n",
    "# Exibir pela posição:\n",
    "print(m[1])\n",
    "\n",
    "# Exibir dentro de um intervalo:\n",
    "print(m[0:2])\n",
    "\n",
    "# Exibir tudo a partir de uma posição:\n",
    "print(m[1:])\n",
    "\n",
    "# Exibir a partir do final de determinarda posição:\n",
    "print(m[-3:])"
   ]
  },
  {
   "cell_type": "code",
   "execution_count": 30,
   "metadata": {},
   "outputs": [
    {
     "name": "stdout",
     "output_type": "stream",
     "text": [
      "[[4 5]\n",
      " [6 1]\n",
      " [7 4]] \n",
      "\n",
      "Apenas a linha 1:  [4 5]\n",
      "Apenas a linha 2:  [6 1]\n",
      "Apenas a linha 3:  [7 4] \n",
      "\n",
      "Apenas a coluna 1:  [4 6 7]\n",
      "Apenas a coluna 2:  [5 1 4] \n",
      "\n"
     ]
    }
   ],
   "source": [
    "# Extração de linhas e colunas:\n",
    "mm = np.array([[4, 5], [6, 1], [7, 4]])\n",
    "print(mm, '\\n')\n",
    "\n",
    "print('Apenas a linha 1: ', mm[0, :])\n",
    "print('Apenas a linha 2: ', mm[1, :])\n",
    "print('Apenas a linha 3: ', mm[2, :], '\\n')\n",
    "\n",
    "print('Apenas a coluna 1: ', mm[:, 0])\n",
    "print('Apenas a coluna 2: ', mm[:, 1], '\\n')\n"
   ]
  },
  {
   "cell_type": "code",
   "execution_count": 40,
   "metadata": {},
   "outputs": [
    {
     "name": "stdout",
     "output_type": "stream",
     "text": [
      "[[2 3]\n",
      " [4 5]] \n",
      "\n",
      "[[1 2]\n",
      " [3 4]] \n",
      "\n",
      "[[30 30]\n",
      " [50 50]\n",
      " [70 70]]\n"
     ]
    }
   ],
   "source": [
    "# Somar e Multiplicar Matrizes:\n",
    "n = np.array([[1, 2], [3, 4]])\n",
    "o = np.array([[1, 1], [1, 1]])\n",
    "\n",
    "# SOMAR:\n",
    "soma = n + o\n",
    "print(soma, '\\n')\n",
    "\n",
    "# MULTIPLICAR:\n",
    "multiplica = n * o\n",
    "print(multiplica, '\\n')\n",
    "\n",
    "# Exemplo com tamanhos diferentes de matrizes:\n",
    "p = np.array([[10, 20], [30, 40], [50, 60]])\n",
    "q = np.array([20, 10])\n",
    "print(p+q)"
   ]
  },
  {
   "cell_type": "code",
   "execution_count": 47,
   "metadata": {},
   "outputs": [
    {
     "name": "stdout",
     "output_type": "stream",
     "text": [
      "[[ 0  1  2  3  4]\n",
      " [ 5  6  7  8  9]\n",
      " [10 11 12 13 14]] \n",
      "\n",
      "[[ 0  5 10]\n",
      " [ 1  6 11]\n",
      " [ 2  7 12]\n",
      " [ 3  8 13]\n",
      " [ 4  9 14]] \n",
      "\n",
      "[[ 0  5 10]\n",
      " [ 1  6 11]\n",
      " [ 2  7 12]\n",
      " [ 3  8 13]\n",
      " [ 4  9 14]]\n"
     ]
    }
   ],
   "source": [
    "# Criar uma matriz com 15 elementos → ARANGE:\n",
    "# Definir forma da matriz 3 x 5 → RESHAPE:\n",
    "f = np.arange(15).reshape(3, 5)\n",
    "print(f, '\\n')\n",
    "\n",
    "# Transposição → T:\n",
    "g = f.T\n",
    "print(g, '\\n')\n",
    "\n",
    "# OU Transposição → TRANSPOSE:\n",
    "h = f.transpose(1, 0)\n",
    "print(g)"
   ]
  },
  {
   "cell_type": "code",
   "execution_count": 52,
   "metadata": {},
   "outputs": [
    {
     "name": "stdout",
     "output_type": "stream",
     "text": [
      "[[-0.45876115  0.34998309  1.84639697 -2.27202358]\n",
      " [ 0.21599994 -0.04122392 -0.12532667  0.14965792]\n",
      " [-0.94770351 -1.27255531 -1.65489434  1.50889998]\n",
      " [-0.10388202  0.37633408  0.83226838  0.36872849]] \n",
      "\n",
      "[[False  True  True False]\n",
      " [ True False False  True]\n",
      " [False False False  True]\n",
      " [False  True  True  True]] \n",
      "\n",
      "[[-1  1  1 -1]\n",
      " [ 1 -1 -1  1]\n",
      " [-1 -1 -1  1]\n",
      " [-1  1  1  1]]\n"
     ]
    }
   ],
   "source": [
    "#Expressões Lógicas:\n",
    "# Criar uma matriz aleatória 4x4:\n",
    "v = np.random.randn(4, 4)\n",
    "print(v, '\\n')\n",
    "\n",
    "# Validar maiores e menores que 0:\n",
    "x = (v > 0)\n",
    "print(x, '\\n')\n",
    "\n",
    "# Substituir números por 1 e -1 a partir da validação:\n",
    "z = np.where(x > 0, 1, -1)\n",
    "print(z)"
   ]
  }
 ],
 "metadata": {
  "kernelspec": {
   "display_name": "Python 3.9.12 ('base')",
   "language": "python",
   "name": "python3"
  },
  "language_info": {
   "codemirror_mode": {
    "name": "ipython",
    "version": 3
   },
   "file_extension": ".py",
   "mimetype": "text/x-python",
   "name": "python",
   "nbconvert_exporter": "python",
   "pygments_lexer": "ipython3",
   "version": "3.9.12"
  },
  "orig_nbformat": 4,
  "vscode": {
   "interpreter": {
    "hash": "bb1809f004956f83e96d80832f161ee3c7ade7e4954ac58ab47f4200d7846305"
   }
  }
 },
 "nbformat": 4,
 "nbformat_minor": 2
}

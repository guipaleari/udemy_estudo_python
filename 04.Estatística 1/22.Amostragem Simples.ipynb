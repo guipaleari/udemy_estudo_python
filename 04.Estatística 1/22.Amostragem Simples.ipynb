{
 "cells": [
  {
   "attachments": {},
   "cell_type": "markdown",
   "metadata": {},
   "source": [
    "# Amostragem Simples:\n",
    "\n",
    "A amostragem simples envolve escolher aleatoriamente uma quantidade específica de elementos de um conjunto maior (a população) para obter uma amostra representativa, com cada elemento tendo a mesma chance de ser selecionado.\n",
    "\n",
    "Isso significa que cada unidade tem a mesma chance de ser escolhida para a amostra.\n",
    "\n",
    "Esta é uma das técnicas mais simples e diretas de amostragem, mas pode ser subótima* se a população tiver uma distribuição desigual de características importantes."
   ]
  },
  {
   "cell_type": "markdown",
   "metadata": {},
   "source": [
    "### **Por que usar Amostragem Simples no Python?**\n",
    "\n",
    "* **Economia de tempo e recursos:** Ao invés de analisar toda a população, você trabalha com um grupo menor.\n",
    "* **Facilidade de análise:** Conjuntos de dados menores são mais fáceis de manipular e analisar.\n",
    "* **Generalização:** Se a amostra for bem escolhida, os resultados podem ser generalizados para toda a população."
   ]
  },
  {
   "cell_type": "markdown",
   "metadata": {},
   "source": [
    "### **Conceitos importantes:**\n",
    "\n",
    "* **População:** O conjunto completo de todos os elementos que você quer estudar.\n",
    "* **Amostra:** Um subconjunto da população selecionado para análise.\n",
    "* **Aleatoriedade:** Cada elemento da população tem a mesma chance de ser selecionado.\n",
    "* **Sem reposição:** Um elemento não pode ser selecionado mais de uma vez na mesma amostra.\n",
    "* **Amostragem estratificada:** Divide a população em grupos e seleciona uma amostra proporcional de cada grupo.\n",
    "* **Amostragem por conglomerados:** Divide a população em grupos e seleciona aleatoriamente alguns grupos inteiros."
   ]
  },
  {
   "cell_type": "code",
   "execution_count": 40,
   "metadata": {},
   "outputs": [],
   "source": [
    "import pandas as pd\n",
    "import numpy as np"
   ]
  },
  {
   "cell_type": "markdown",
   "metadata": {},
   "source": [
    "#### ❇️ Exemplo: imagine que são os números de identificação dos alunos"
   ]
  },
  {
   "cell_type": "code",
   "execution_count": 41,
   "metadata": {},
   "outputs": [
    {
     "name": "stdout",
     "output_type": "stream",
     "text": [
      "[  1   2   3   4   5   6   7   8   9  10  11  12  13  14  15  16  17  18\n",
      "  19  20  21  22  23  24  25  26  27  28  29  30  31  32  33  34  35  36\n",
      "  37  38  39  40  41  42  43  44  45  46  47  48  49  50  51  52  53  54\n",
      "  55  56  57  58  59  60  61  62  63  64  65  66  67  68  69  70  71  72\n",
      "  73  74  75  76  77  78  79  80  81  82  83  84  85  86  87  88  89  90\n",
      "  91  92  93  94  95  96  97  98  99 100] \n",
      "\n",
      "20 \n",
      "\n",
      "[12 42 48 55 52 79 49 56 74 77 60 25 19 66  5 62 22 61 27 98] \n",
      "\n",
      "[13 43 49 56 53 80 50 57 75 78 61 26 20 67  6 63 23 62 28 99]\n"
     ]
    }
   ],
   "source": [
    "# Criando uma população \n",
    "populacao = np.arange(1, 101)  # Uma população de 100 alunos\n",
    "print(populacao, \"\\n\")\n",
    "\n",
    "# Tamanho da amostra desejada\n",
    "tamanho_amostra = 20\n",
    "print(tamanho_amostra, \"\\n\")\n",
    "\n",
    "# Gerando índices aleatórios para a amostra\n",
    "indices_amostra = np.random.choice(populacao.size, tamanho_amostra, replace=False)\n",
    "print(indices_amostra, \"\\n\")\n",
    "\n",
    "# Extraindo a amostra da população\n",
    "amostra = populacao[indices_amostra]\n",
    "print(amostra)"
   ]
  },
  {
   "cell_type": "markdown",
   "metadata": {},
   "source": [
    "#### ❇️ Exemplo: usando a famosa base de dados Iris"
   ]
  },
  {
   "cell_type": "code",
   "execution_count": 42,
   "metadata": {},
   "outputs": [
    {
     "data": {
      "text/html": [
       "<div>\n",
       "<style scoped>\n",
       "    .dataframe tbody tr th:only-of-type {\n",
       "        vertical-align: middle;\n",
       "    }\n",
       "\n",
       "    .dataframe tbody tr th {\n",
       "        vertical-align: top;\n",
       "    }\n",
       "\n",
       "    .dataframe thead th {\n",
       "        text-align: right;\n",
       "    }\n",
       "</style>\n",
       "<table border=\"1\" class=\"dataframe\">\n",
       "  <thead>\n",
       "    <tr style=\"text-align: right;\">\n",
       "      <th></th>\n",
       "      <th>sepal length</th>\n",
       "      <th>sepal width</th>\n",
       "      <th>petal length</th>\n",
       "      <th>petal width</th>\n",
       "      <th>class</th>\n",
       "    </tr>\n",
       "  </thead>\n",
       "  <tbody>\n",
       "    <tr>\n",
       "      <th>0</th>\n",
       "      <td>5.1</td>\n",
       "      <td>3.5</td>\n",
       "      <td>1.4</td>\n",
       "      <td>0.2</td>\n",
       "      <td>Iris-setosa</td>\n",
       "    </tr>\n",
       "    <tr>\n",
       "      <th>1</th>\n",
       "      <td>4.9</td>\n",
       "      <td>3.0</td>\n",
       "      <td>1.4</td>\n",
       "      <td>0.2</td>\n",
       "      <td>Iris-setosa</td>\n",
       "    </tr>\n",
       "    <tr>\n",
       "      <th>2</th>\n",
       "      <td>4.7</td>\n",
       "      <td>3.2</td>\n",
       "      <td>1.3</td>\n",
       "      <td>0.2</td>\n",
       "      <td>Iris-setosa</td>\n",
       "    </tr>\n",
       "    <tr>\n",
       "      <th>3</th>\n",
       "      <td>4.6</td>\n",
       "      <td>3.1</td>\n",
       "      <td>1.5</td>\n",
       "      <td>0.2</td>\n",
       "      <td>Iris-setosa</td>\n",
       "    </tr>\n",
       "    <tr>\n",
       "      <th>4</th>\n",
       "      <td>5.0</td>\n",
       "      <td>3.6</td>\n",
       "      <td>1.4</td>\n",
       "      <td>0.2</td>\n",
       "      <td>Iris-setosa</td>\n",
       "    </tr>\n",
       "    <tr>\n",
       "      <th>...</th>\n",
       "      <td>...</td>\n",
       "      <td>...</td>\n",
       "      <td>...</td>\n",
       "      <td>...</td>\n",
       "      <td>...</td>\n",
       "    </tr>\n",
       "    <tr>\n",
       "      <th>145</th>\n",
       "      <td>6.7</td>\n",
       "      <td>3.0</td>\n",
       "      <td>5.2</td>\n",
       "      <td>2.3</td>\n",
       "      <td>Iris-virginica</td>\n",
       "    </tr>\n",
       "    <tr>\n",
       "      <th>146</th>\n",
       "      <td>6.3</td>\n",
       "      <td>2.5</td>\n",
       "      <td>5.0</td>\n",
       "      <td>1.9</td>\n",
       "      <td>Iris-virginica</td>\n",
       "    </tr>\n",
       "    <tr>\n",
       "      <th>147</th>\n",
       "      <td>6.5</td>\n",
       "      <td>3.0</td>\n",
       "      <td>5.2</td>\n",
       "      <td>2.0</td>\n",
       "      <td>Iris-virginica</td>\n",
       "    </tr>\n",
       "    <tr>\n",
       "      <th>148</th>\n",
       "      <td>6.2</td>\n",
       "      <td>3.4</td>\n",
       "      <td>5.4</td>\n",
       "      <td>2.3</td>\n",
       "      <td>Iris-virginica</td>\n",
       "    </tr>\n",
       "    <tr>\n",
       "      <th>149</th>\n",
       "      <td>5.9</td>\n",
       "      <td>3.0</td>\n",
       "      <td>5.1</td>\n",
       "      <td>1.8</td>\n",
       "      <td>Iris-virginica</td>\n",
       "    </tr>\n",
       "  </tbody>\n",
       "</table>\n",
       "<p>150 rows × 5 columns</p>\n",
       "</div>"
      ],
      "text/plain": [
       "     sepal length  sepal width  petal length  petal width           class\n",
       "0             5.1          3.5           1.4          0.2     Iris-setosa\n",
       "1             4.9          3.0           1.4          0.2     Iris-setosa\n",
       "2             4.7          3.2           1.3          0.2     Iris-setosa\n",
       "3             4.6          3.1           1.5          0.2     Iris-setosa\n",
       "4             5.0          3.6           1.4          0.2     Iris-setosa\n",
       "..            ...          ...           ...          ...             ...\n",
       "145           6.7          3.0           5.2          2.3  Iris-virginica\n",
       "146           6.3          2.5           5.0          1.9  Iris-virginica\n",
       "147           6.5          3.0           5.2          2.0  Iris-virginica\n",
       "148           6.2          3.4           5.4          2.3  Iris-virginica\n",
       "149           5.9          3.0           5.1          1.8  Iris-virginica\n",
       "\n",
       "[150 rows x 5 columns]"
      ]
     },
     "execution_count": 42,
     "metadata": {},
     "output_type": "execute_result"
    }
   ],
   "source": [
    "base = pd.read_csv('iris.csv')\n",
    "base #o base.shape aparece embaixo"
   ]
  },
  {
   "cell_type": "code",
   "execution_count": 43,
   "metadata": {},
   "outputs": [],
   "source": [
    "# Semente aleatória para manter os resultados em várias execuções:\n",
    "np.random.seed(2345)\n",
    "\n",
    "# Criar uma lista das amostras aleatórias com 150 com itens de 0 e 1, com reposição de valores e probabilidades equivalentes, \n",
    "# para servir como referência para seleção de apenas alguns itens da população a partir do índice:\n",
    "amostra = np.random.choice(a=[0, 1], size=150, replace=True, p=[0.7, 0.3])  # p = probabilidade"
   ]
  },
  {
   "cell_type": "code",
   "execution_count": 44,
   "metadata": {},
   "outputs": [
    {
     "name": "stdout",
     "output_type": "stream",
     "text": [
      "Tamanho da amostra total: 150\n",
      "\n",
      "Tamanho da amostra = 1: 49\n",
      "\n",
      "Tamanho da amostra = 0: 101\n",
      "\n",
      "Pequena amostra com 150 itens de toda a população:\n",
      " [0 0 0 0 1 0 0 0 1 0 0 1 0 1 0 0 1 0 1 1 1 0 0 1 1 1 0 1 0 0 1 0 0 1 1 0 1\n",
      " 0 0 0 1 0 1 0 0 0 0 0 0 0 1 1 0 0 0 0 0 0 0 0 0 1 0 0 1 0 0 1 0 0 1 0 0 0\n",
      " 0 1 0 1 0 0 1 1 0 0 0 0 0 0 0 0 0 0 1 0 1 1 1 1 1 1 0 0 0 0 0 0 0 0 1 0 0\n",
      " 0 0 0 0 0 0 0 1 0 0 0 0 0 1 1 1 0 1 0 1 1 1 0 0 0 0 0 0 0 0 1 1 0 0 1 1 0\n",
      " 0 1]\n"
     ]
    }
   ],
   "source": [
    "# Verificar o tamanho da amostra:\n",
    "print(\"Tamanho da amostra total:\", len(amostra))\n",
    "\n",
    "# Verificar o tamanho da amostra para valores igual a 1\n",
    "print(\"\\nTamanho da amostra = 1:\", len(amostra[amostra == 1]))\n",
    "\n",
    "# Verificar o tamanho da amostra para valores igual a 0\n",
    "print(\"\\nTamanho da amostra = 0:\", len(amostra[amostra == 0]))\n",
    "\n",
    "# Verificar a amostra com 150 itens de toda a população:\n",
    "print(\"\\nPequena amostra com 150 itens de toda a população:\\n\", (amostra))"
   ]
  },
  {
   "cell_type": "code",
   "execution_count": 45,
   "metadata": {},
   "outputs": [
    {
     "name": "stdout",
     "output_type": "stream",
     "text": [
      "(101, 5)\n",
      "(49, 5)\n",
      "     sepal length  sepal width  petal length  petal width           class\n",
      "0             5.1          3.5           1.4          0.2     Iris-setosa\n",
      "1             4.9          3.0           1.4          0.2     Iris-setosa\n",
      "2             4.7          3.2           1.3          0.2     Iris-setosa\n",
      "3             4.6          3.1           1.5          0.2     Iris-setosa\n",
      "5             5.4          3.9           1.7          0.4     Iris-setosa\n",
      "..            ...          ...           ...          ...             ...\n",
      "140           6.7          3.1           5.6          2.4  Iris-virginica\n",
      "143           6.8          3.2           5.9          2.3  Iris-virginica\n",
      "144           6.7          3.3           5.7          2.5  Iris-virginica\n",
      "147           6.5          3.0           5.2          2.0  Iris-virginica\n",
      "148           6.2          3.4           5.4          2.3  Iris-virginica\n",
      "\n",
      "[101 rows x 5 columns]\n",
      "     sepal length  sepal width  petal length  petal width            class\n",
      "4             5.0          3.6           1.4          0.2      Iris-setosa\n",
      "8             4.4          2.9           1.4          0.2      Iris-setosa\n",
      "11            4.8          3.4           1.6          0.2      Iris-setosa\n",
      "13            4.3          3.0           1.1          0.1      Iris-setosa\n",
      "16            5.4          3.9           1.3          0.4      Iris-setosa\n",
      "18            5.7          3.8           1.7          0.3      Iris-setosa\n",
      "19            5.1          3.8           1.5          0.3      Iris-setosa\n",
      "20            5.4          3.4           1.7          0.2      Iris-setosa\n",
      "23            5.1          3.3           1.7          0.5      Iris-setosa\n",
      "24            4.8          3.4           1.9          0.2      Iris-setosa\n",
      "25            5.0          3.0           1.6          0.2      Iris-setosa\n",
      "27            5.2          3.5           1.5          0.2      Iris-setosa\n",
      "30            4.8          3.1           1.6          0.2      Iris-setosa\n",
      "33            5.5          4.2           1.4          0.2      Iris-setosa\n",
      "34            4.9          3.1           1.5          0.1      Iris-setosa\n",
      "36            5.5          3.5           1.3          0.2      Iris-setosa\n",
      "40            5.0          3.5           1.3          0.3      Iris-setosa\n",
      "42            4.4          3.2           1.3          0.2      Iris-setosa\n",
      "50            7.0          3.2           4.7          1.4  Iris-versicolor\n",
      "51            6.4          3.2           4.5          1.5  Iris-versicolor\n",
      "61            5.9          3.0           4.2          1.5  Iris-versicolor\n",
      "64            5.6          2.9           3.6          1.3  Iris-versicolor\n",
      "67            5.8          2.7           4.1          1.0  Iris-versicolor\n",
      "70            5.9          3.2           4.8          1.8  Iris-versicolor\n",
      "75            6.6          3.0           4.4          1.4  Iris-versicolor\n",
      "77            6.7          3.0           5.0          1.7  Iris-versicolor\n",
      "80            5.5          2.4           3.8          1.1  Iris-versicolor\n",
      "81            5.5          2.4           3.7          1.0  Iris-versicolor\n",
      "92            5.8          2.6           4.0          1.2  Iris-versicolor\n",
      "94            5.6          2.7           4.2          1.3  Iris-versicolor\n",
      "95            5.7          3.0           4.2          1.2  Iris-versicolor\n",
      "96            5.7          2.9           4.2          1.3  Iris-versicolor\n",
      "97            6.2          2.9           4.3          1.3  Iris-versicolor\n",
      "98            5.1          2.5           3.0          1.1  Iris-versicolor\n",
      "99            5.7          2.8           4.1          1.3  Iris-versicolor\n",
      "108           6.7          2.5           5.8          1.8   Iris-virginica\n",
      "118           7.7          2.6           6.9          2.3   Iris-virginica\n",
      "124           6.7          3.3           5.7          2.1   Iris-virginica\n",
      "125           7.2          3.2           6.0          1.8   Iris-virginica\n",
      "126           6.2          2.8           4.8          1.8   Iris-virginica\n",
      "128           6.4          2.8           5.6          2.1   Iris-virginica\n",
      "130           7.4          2.8           6.1          1.9   Iris-virginica\n",
      "131           7.9          3.8           6.4          2.0   Iris-virginica\n",
      "132           6.4          2.8           5.6          2.2   Iris-virginica\n",
      "141           6.9          3.1           5.1          2.3   Iris-virginica\n",
      "142           5.8          2.7           5.1          1.9   Iris-virginica\n",
      "145           6.7          3.0           5.2          2.3   Iris-virginica\n",
      "146           6.3          2.5           5.0          1.9   Iris-virginica\n",
      "149           5.9          3.0           5.1          1.8   Iris-virginica\n"
     ]
    }
   ],
   "source": [
    "# Explicação do código: aqui ele está pegando a lista das amostras aleatórias para conextar com a base da população e selecionar os itens dos indíces quando for 0 ou 1:\n",
    "# Salvar em uma base só amostras iguais a 0\n",
    "base0 = base.loc[amostra == 0]\n",
    "print(base0.shape)\n",
    "\n",
    "# Salvar em uma base só amostras iguais a 1\n",
    "base1 = base.loc[amostra == 1]\n",
    "print(base1.shape)\n",
    "\n",
    "print(base0)\n",
    "print(base1)"
   ]
  }
 ],
 "metadata": {
  "kernelspec": {
   "display_name": "Python 3",
   "language": "python",
   "name": "python3"
  },
  "language_info": {
   "codemirror_mode": {
    "name": "ipython",
    "version": 3
   },
   "file_extension": ".py",
   "mimetype": "text/x-python",
   "name": "python",
   "nbconvert_exporter": "python",
   "pygments_lexer": "ipython3",
   "version": "3.13.0"
  },
  "orig_nbformat": 4,
  "vscode": {
   "interpreter": {
    "hash": "5238573367df39f7286bb46f9ff5f08f63a01a80960060ce41e3c79b190280fa"
   }
  }
 },
 "nbformat": 4,
 "nbformat_minor": 2
}

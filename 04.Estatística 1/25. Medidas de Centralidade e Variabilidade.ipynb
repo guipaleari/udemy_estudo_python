{
 "cells": [
  {
   "cell_type": "markdown",
   "metadata": {},
   "source": [
    "# Medidas de Centralidade e Variabilidade"
   ]
  },
  {
   "cell_type": "markdown",
   "metadata": {},
   "source": [
    "**O que são Medidas de Centralidade e Variabilidade?**\n",
    "\n",
    "Imagine um conjunto de dados como um grupo de pessoas. <br> \n",
    "As medidas de centralidade nos dizem onde está o \"centro\" desse grupo, ou seja, qual o valor que melhor representa todos os outros. <br> \n",
    "Já as medidas de variabilidade nos mostram o quão \"espalhados\" esses dados estão, ou seja, se as pessoas do grupo são muito diferentes umas das outras ou se são bastante parecidas.\n",
    "\n",
    "**Medidas de Centralidade:**\n",
    "* **Média:** É a soma de todos os valores dividida pelo número de valores. É como calcular a nota média de uma prova.\n",
    "* **Mediana:** É o valor que divide os dados em duas partes iguais. É como encontrar o aluno que está exatamente no meio da lista de notas, quando elas estão ordenadas.\n",
    "* **Moda:** É o valor que aparece com mais frequência. É como descobrir qual a nota que mais alunos tiraram.\n",
    "\n",
    "**Medidas de Variabilidade:**\n",
    "* **Variância:** Mede a dispersão dos dados em relação à média. Quanto maior a variância, mais espalhados estão os dados.\n",
    "* **Desvio Padrão:** É a raiz quadrada da variância. Ele é mais fácil de interpretar que a variância, pois está na mesma unidade de medida dos dados.\n",
    "* **Amplitude:** É a diferença entre o maior e o menor valor. Mostra o intervalo total dos dados.\n",
    "* **Quartis:** Dividem os dados em quatro partes iguais. O primeiro quartil (Q1) separa os 25% menores valores, o segundo quartil (Q2) é a mediana e o terceiro quartil (Q3) separa os 25% maiores valores.   \n"
   ]
  },
  {
   "cell_type": "code",
   "execution_count": 2,
   "metadata": {},
   "outputs": [
    {
     "name": "stdout",
     "output_type": "stream",
     "text": [
      "Média: 5.0\n",
      "Mediana: 5.0\n",
      "Moda: 2\n",
      "Variância: 4.0\n",
      "Desvio Padrão: 2.0\n",
      "Amplitude: 6\n"
     ]
    }
   ],
   "source": [
    "import numpy as np\n",
    "\n",
    "# Criando um conjunto de dados\n",
    "dados = [2, 5, 4, 8, 6]\n",
    "\n",
    "# Calculando as medidas\n",
    "media = np.mean(dados)\n",
    "mediana = np.median(dados)\n",
    "moda = np.argmax(np.bincount(dados))\n",
    "variancia = np.var(dados)\n",
    "desvio_padrao = np.std(dados)\n",
    "amplitude = np.max(dados) - np.min(dados)\n",
    "\n",
    "print(\"Média:\", media)\n",
    "print(\"Mediana:\", mediana)\n",
    "print(\"Moda:\", moda)\n",
    "print(\"Variância:\", variancia)\n",
    "print(\"Desvio Padrão:\", desvio_padrao)\n",
    "print(\"Amplitude:\", amplitude)"
   ]
  },
  {
   "cell_type": "code",
   "execution_count": 3,
   "metadata": {},
   "outputs": [
    {
     "data": {
      "image/png": "[encoded data removed]",
      "text/plain": [
       "<Figure size 640x480 with 1 Axes>"
      ]
     },
     "metadata": {},
     "output_type": "display_data"
    }
   ],
   "source": [
    "import matplotlib.pyplot as plt\n",
    "\n",
    "plt.boxplot(dados)\n",
    "plt.show()"
   ]
  },
  {
   "cell_type": "code",
   "execution_count": 18,
   "metadata": {},
   "outputs": [
    {
     "name": "stdout",
     "output_type": "stream",
     "text": [
      "Média do salário dos jogadores: R$ 221111.11\n",
      "Mediana do salário dos jogadores: R$ 140000.0\n",
      "Desvio Padrão do salário dos jogadores: R$ 258615.76\n",
      "Distrubuição do salário dos jogadores: R$ [ 12000.  30000. 140000. 300000. 800000.]\n"
     ]
    },
    {
     "data": {
      "text/plain": [
       "DescribeResult(nobs=9, minmax=(np.int64(12000), np.int64(800000)), mean=np.float64(221111.11111111112), variance=np.float64(66882111111.111115), skewness=np.float64(1.2973680340996616), kurtosis=np.float64(0.7545637453739014))"
      ]
     },
     "execution_count": 18,
     "metadata": {},
     "output_type": "execute_result"
    }
   ],
   "source": [
    "salario_jogadores = [40000, 18000, 12000, 250000, 30000, 140000, 300000, 400000, 800000]\n",
    "\n",
    "print(\"Média do salário dos jogadores: R$\", round(np.mean(salario_jogadores), 2))\n",
    "print(\"Mediana do salário dos jogadores: R$\", round(np.median(salario_jogadores), 2))\n",
    "print(\"Desvio Padrão do salário dos jogadores: R$\", round(np.std(salario_jogadores, ddof = 1), 2))\n",
    "print(\"Distrubuição do salário dos jogadores: R$\", np.quantile(salario_jogadores, [0, 0.25, 0.5, 0.75, 1]))\n",
    "\n",
    "from scipy import stats\n",
    "stats.describe(salario_jogadores)"
   ]
  }
 ],
 "metadata": {
  "kernelspec": {
   "display_name": "Python 3",
   "language": "python",
   "name": "python3"
  },
  "language_info": {
   "codemirror_mode": {
    "name": "ipython",
    "version": 3
   },
   "file_extension": ".py",
   "mimetype": "text/x-python",
   "name": "python",
   "nbconvert_exporter": "python",
   "pygments_lexer": "ipython3",
   "version": "3.13.0"
  },
  "orig_nbformat": 4,
  "vscode": {
   "interpreter": {
    "hash": "5238573367df39f7286bb46f9ff5f08f63a01a80960060ce41e3c79b190280fa"
   }
  }
 },
 "nbformat": 4,
 "nbformat_minor": 2
}

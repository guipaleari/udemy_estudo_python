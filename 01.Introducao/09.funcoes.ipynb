{
 "cells": [
  {
   "cell_type": "code",
   "execution_count": 3,
   "metadata": {},
   "outputs": [
    {
     "name": "stdout",
     "output_type": "stream",
     "text": [
      "Esta é uma função\n"
     ]
    }
   ],
   "source": [
    "# Definir uma função → DEF:\n",
    "def imprimir():\n",
    "    print('Esta é uma função')\n",
    "\n",
    "imprimir()"
   ]
  },
  {
   "cell_type": "code",
   "execution_count": 21,
   "metadata": {},
   "outputs": [
    {
     "name": "stdout",
     "output_type": "stream",
     "text": [
      "Imprimir este texto\n"
     ]
    }
   ],
   "source": [
    "# Definir uma função com uma variável → DEF:\n",
    "def imprimir(txt):\n",
    "    print(txt)\n",
    "    \n",
    "imprimir('Imprimir este texto')"
   ]
  },
  {
   "cell_type": "code",
   "execution_count": 6,
   "metadata": {},
   "outputs": [
    {
     "name": "stdout",
     "output_type": "stream",
     "text": [
      "9\n"
     ]
    }
   ],
   "source": [
    "# Retornar o valor da função → RETURN:\n",
    "def potencia(n):\n",
    "    return n*n\n",
    "\n",
    "x = potencia(3) # ← armazenar o RETURN na variável x\n",
    "print(x)"
   ]
  },
  {
   "cell_type": "code",
   "execution_count": 22,
   "metadata": {},
   "outputs": [
    {
     "name": "stdout",
     "output_type": "stream",
     "text": [
      "10\n",
      "11\n",
      "12\n",
      "13\n",
      "14\n",
      "15\n",
      "16\n",
      "17\n",
      "18\n",
      "19\n",
      "20\n",
      "\n",
      "\n",
      "1\n",
      "2\n",
      "3\n",
      "4\n",
      "5\n",
      "6\n",
      "7\n",
      "8\n",
      "9\n",
      "10\n"
     ]
    }
   ],
   "source": [
    "# Função com mais de um parâmetro e com valores já pré-determinados (default):\n",
    "def intervalo(inicio = 1, fim = 10):\n",
    "    for n in range(inicio, fim+1):\n",
    "        print(n)\n",
    "\n",
    "x = intervalo() # → não precisa inserir o intervalo, pois já está usando os valores padrão\n",
    "\n",
    "y = intervalo(10, 20) # → ao inserir o intervalo, os valores subescrevem os valores padrão\n",
    "print(\"\\n\")"
   ]
  },
  {
   "cell_type": "code",
   "execution_count": null,
   "metadata": {},
   "outputs": [],
   "source": []
  }
 ],
 "metadata": {
  "kernelspec": {
   "display_name": "Python 3",
   "language": "python",
   "name": "python3"
  },
  "language_info": {
   "codemirror_mode": {
    "name": "ipython",
    "version": 3
   },
   "file_extension": ".py",
   "mimetype": "text/x-python",
   "name": "python",
   "nbconvert_exporter": "python",
   "pygments_lexer": "ipython3",
   "version": "3.11.1"
  },
  "orig_nbformat": 4,
  "vscode": {
   "interpreter": {
    "hash": "5238573367df39f7286bb46f9ff5f08f63a01a80960060ce41e3c79b190280fa"
   }
  }
 },
 "nbformat": 4,
 "nbformat_minor": 2
}

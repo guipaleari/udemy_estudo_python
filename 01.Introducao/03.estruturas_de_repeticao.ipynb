{
 "cells": [
  {
   "cell_type": "markdown",
   "metadata": {},
   "source": [
    "# **Estrutura de Repetição**"
   ]
  },
  {
   "cell_type": "markdown",
   "metadata": {},
   "source": [
    "## Executam um bloco de código várias vezes até que determinada condição seja alcançada/ atingida."
   ]
  },
  {
   "cell_type": "markdown",
   "metadata": {},
   "source": [
    "### Loop `while`\n",
    "Executa um bloco de código enquanto uma condição é verdadeira."
   ]
  },
  {
   "cell_type": "markdown",
   "metadata": {},
   "source": [
    "#### **❇️ Exemplo:**"
   ]
  },
  {
   "cell_type": "code",
   "execution_count": 22,
   "metadata": {},
   "outputs": [
    {
     "name": "stdout",
     "output_type": "stream",
     "text": [
      "1\n",
      "2\n",
      "3\n",
      "4\n",
      "5\n"
     ]
    }
   ],
   "source": [
    "count = 1\n",
    "while count <= 5:\n",
    "    print(count)\n",
    "    count += 1\n"
   ]
  },
  {
   "cell_type": "markdown",
   "metadata": {},
   "source": [
    "### Loop `for`\n",
    "Usado para iterar sobre uma sequência (lista, tupla, dicionário, conjunto, ou string)."
   ]
  },
  {
   "cell_type": "markdown",
   "metadata": {},
   "source": [
    "#### **❇️ Exemplo:**"
   ]
  },
  {
   "cell_type": "code",
   "execution_count": 23,
   "metadata": {},
   "outputs": [
    {
     "name": "stdout",
     "output_type": "stream",
     "text": [
      "Ana\n",
      "Bruno\n",
      "Carlos\n"
     ]
    }
   ],
   "source": [
    "# Definindo uma lista de nomes\n",
    "nomes = [\"Ana\", \"Bruno\", \"Carlos\"]\n",
    "\n",
    "# Iniciando um loop 'for' para iterar sobre cada nome na lista\n",
    "for nome in nomes:\n",
    "    # A variável 'nome' assume o valor de cada elemento na lista 'nomes' em cada iteração\n",
    "    # Na primeira iteração, 'nome' será \"Ana\"\n",
    "    # Na segunda iteração, 'nome' será \"Bruno\"\n",
    "    # Na terceira iteração, 'nome' será \"Carlos\"\n",
    "    \n",
    "    # Imprimindo o valor atual de 'nome'\n",
    "    print(nome)"
   ]
  },
  {
   "cell_type": "markdown",
   "metadata": {},
   "source": [
    "#### **❇️ Exemplo:** contar de 1 a 10\n"
   ]
  },
  {
   "cell_type": "markdown",
   "metadata": {},
   "source": [
    "##### **a)** atenção ao `in range` que inicia em 0 e termina em 10, com o print `n+1`"
   ]
  },
  {
   "cell_type": "code",
   "execution_count": 24,
   "metadata": {},
   "outputs": [
    {
     "name": "stdout",
     "output_type": "stream",
     "text": [
      "1\n",
      "2\n",
      "3\n",
      "4\n",
      "5\n",
      "6\n",
      "7\n",
      "8\n",
      "9\n",
      "10\n"
     ]
    }
   ],
   "source": [
    "# Usando o Para → FOR:\n",
    "for n in range(0, 10): # for(início, parada, incremento opcional)\n",
    "    print(n+1) # ← o python ignora o último valor do intervalo"
   ]
  },
  {
   "cell_type": "markdown",
   "metadata": {},
   "source": [
    "##### **b)** atenção ao `in range` que inicia em 1 e termina em 11, com o print `n`"
   ]
  },
  {
   "cell_type": "code",
   "execution_count": 25,
   "metadata": {},
   "outputs": [
    {
     "name": "stdout",
     "output_type": "stream",
     "text": [
      "1\n",
      "2\n",
      "3\n",
      "4\n",
      "5\n",
      "6\n",
      "7\n",
      "8\n",
      "9\n",
      "10\n"
     ]
    }
   ],
   "source": [
    "for n in range(1, 11): \n",
    "    print(n)"
   ]
  },
  {
   "cell_type": "markdown",
   "metadata": {},
   "source": [
    "#### **❇️ Exemplo:** contar ao contrário \n"
   ]
  },
  {
   "cell_type": "code",
   "execution_count": 26,
   "metadata": {},
   "outputs": [
    {
     "name": "stdout",
     "output_type": "stream",
     "text": [
      "11\n",
      "10\n",
      "9\n",
      "8\n",
      "7\n",
      "6\n",
      "5\n",
      "4\n",
      "3\n",
      "2\n"
     ]
    }
   ],
   "source": [
    "for n in range(10, 0, -1): # for(início, parada, incremento opcional que pode ser negativo)\n",
    "    print(n+1) # ← o python ignora o último valor do intervalo"
   ]
  },
  {
   "cell_type": "markdown",
   "metadata": {},
   "source": [
    "#### **❇️ Exemplo:** contar ao pulando números \n"
   ]
  },
  {
   "cell_type": "code",
   "execution_count": 27,
   "metadata": {},
   "outputs": [
    {
     "name": "stdout",
     "output_type": "stream",
     "text": [
      "1\n",
      "3\n",
      "5\n",
      "7\n",
      "9\n"
     ]
    }
   ],
   "source": [
    "for n in range(0, 10, 2): # for(início, parada, incremento opcional)\n",
    "    print(n+1) # ← o python ignora o último valor do intervalo"
   ]
  },
  {
   "cell_type": "code",
   "execution_count": 28,
   "metadata": {},
   "outputs": [
    {
     "name": "stdout",
     "output_type": "stream",
     "text": [
      "0\n",
      "1\n",
      "2\n",
      "3\n"
     ]
    }
   ],
   "source": [
    "# Usando a Parada → BREAK:\n",
    "for n in range(0, 11):\n",
    "    if n==4:\n",
    "        break # Parar ao chegar no 4\n",
    "    print(n)"
   ]
  },
  {
   "cell_type": "code",
   "execution_count": 29,
   "metadata": {},
   "outputs": [
    {
     "name": "stdout",
     "output_type": "stream",
     "text": [
      "0\n",
      "1\n",
      "2\n",
      "3\n",
      "5\n",
      "6\n",
      "7\n",
      "8\n",
      "9\n",
      "10\n"
     ]
    }
   ],
   "source": [
    "# Usando a Continuação → CONTINUE:\n",
    "for n in range(0, 11):\n",
    "    if n==4:\n",
    "        continue # Pular ao chegar no 4\n",
    "    print(n)"
   ]
  },
  {
   "cell_type": "code",
   "execution_count": 30,
   "metadata": {},
   "outputs": [
    {
     "ename": "ValueError",
     "evalue": "invalid literal for int() with base 10: ''",
     "output_type": "error",
     "traceback": [
      "\u001b[1;31m---------------------------------------------------------------------------\u001b[0m",
      "\u001b[1;31mValueError\u001b[0m                                Traceback (most recent call last)",
      "Cell \u001b[1;32mIn[30], line 3\u001b[0m\n\u001b[0;32m      1\u001b[0m \u001b[38;5;66;03m#Teste para combinar as duas condições:\u001b[39;00m\n\u001b[0;32m      2\u001b[0m continuar \u001b[38;5;241m=\u001b[39m \u001b[38;5;28minput\u001b[39m(\u001b[38;5;124m'\u001b[39m\u001b[38;5;124mDigite um número para continuar\u001b[39m\u001b[38;5;124m'\u001b[39m)\n\u001b[1;32m----> 3\u001b[0m continuar \u001b[38;5;241m=\u001b[39m \u001b[38;5;28;43mint\u001b[39;49m\u001b[43m(\u001b[49m\u001b[43mcontinuar\u001b[49m\u001b[43m)\u001b[49m\n\u001b[0;32m      4\u001b[0m parar \u001b[38;5;241m=\u001b[39m \u001b[38;5;28minput\u001b[39m(\u001b[38;5;124m'\u001b[39m\u001b[38;5;124mDigite um número para parar\u001b[39m\u001b[38;5;124m'\u001b[39m)\n\u001b[0;32m      5\u001b[0m parar \u001b[38;5;241m=\u001b[39m \u001b[38;5;28mint\u001b[39m(parar)\n",
      "\u001b[1;31mValueError\u001b[0m: invalid literal for int() with base 10: ''"
     ]
    }
   ],
   "source": [
    "#Teste para combinar as duas condições:\n",
    "continuar = input('Digite um número para continuar')\n",
    "continuar = int(continuar)\n",
    "parar = input('Digite um número para parar')\n",
    "parar = int(parar)\n",
    "\n",
    "for n in range(1, 11):\n",
    "    if n == continuar:\n",
    "        continue\n",
    "    elif n == parar:\n",
    "        break\n",
    "    print(n)"
   ]
  },
  {
   "cell_type": "code",
   "execution_count": null,
   "metadata": {},
   "outputs": [],
   "source": []
  }
 ],
 "metadata": {
  "kernelspec": {
   "display_name": "Python 3",
   "language": "python",
   "name": "python3"
  },
  "language_info": {
   "codemirror_mode": {
    "name": "ipython",
    "version": 3
   },
   "file_extension": ".py",
   "mimetype": "text/x-python",
   "name": "python",
   "nbconvert_exporter": "python",
   "pygments_lexer": "ipython3",
   "version": "3.12.4"
  },
  "orig_nbformat": 4
 },
 "nbformat": 4,
 "nbformat_minor": 2
}

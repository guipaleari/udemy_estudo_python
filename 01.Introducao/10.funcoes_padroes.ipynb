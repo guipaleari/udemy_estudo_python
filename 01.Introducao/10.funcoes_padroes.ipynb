{
 "cells": [
  {
   "cell_type": "code",
   "execution_count": 16,
   "metadata": {},
   "outputs": [
    {
     "name": "stdout",
     "output_type": "stream",
     "text": [
      "200\n",
      "Maior:  45\n",
      "Menor:  1\n",
      "Soma:  108\n",
      "Arredondamento:  2.35\n"
     ]
    }
   ],
   "source": [
    "# Funções internas:\n",
    "print(abs(-200)) # ← abs retorna o valor absoluto\n",
    "lst = [1, 2, 30, 30, 45]\n",
    "print('Maior: ', max(lst))\n",
    "print('Menor: ', min(lst))\n",
    "print('Soma: ', sum(lst))\n",
    "print('Arredondamento: ', round(2.34567, 2 ))\n"
   ]
  },
  {
   "cell_type": "code",
   "execution_count": 17,
   "metadata": {},
   "outputs": [
    {
     "name": "stdout",
     "output_type": "stream",
     "text": [
      "Média:  21.6\n",
      "Mediana:  30\n",
      "Soma:  30\n",
      "Desvio Padrão:  19.346834366376324\n",
      "Variância:  374.3\n"
     ]
    }
   ],
   "source": [
    "# Funções externas:\n",
    "from statistics import *\n",
    "print('Média: ', mean(lst))\n",
    "print('Mediana: ', median(lst))\n",
    "print('Soma: ', mode(lst))\n",
    "print('Desvio Padrão: ', stdev(lst))\n",
    "print('Variância: ', variance(lst))"
   ]
  },
  {
   "cell_type": "code",
   "execution_count": 18,
   "metadata": {},
   "outputs": [
    {
     "name": "stdout",
     "output_type": "stream",
     "text": [
      "<class 'numpy.ndarray'>\n",
      "[[0.66512788 0.81951143 0.80805691 0.53949875 0.90534726 0.06588598\n",
      "  0.01421271 0.91177666]\n",
      " [0.39850401 0.72422226 0.1206153  0.10414996 0.62734692 0.69371852\n",
      "  0.54738862 0.34409549]\n",
      " [0.86411811 0.59526131 0.76300984 0.52136076 0.00734963 0.71096093\n",
      "  0.7782541  0.18325302]\n",
      " [0.73464708 0.12676049 0.49109277 0.45692351 0.11359261 0.60786709\n",
      "  0.46831313 0.39528931]\n",
      " [0.42156532 0.59383218 0.22043449 0.27624405 0.19995786 0.71337963\n",
      "  0.11515197 0.13438593]\n",
      " [0.03749518 0.58271974 0.00228396 0.24704022 0.02147547 0.18733289\n",
      "  0.61902831 0.84231936]\n",
      " [0.82486265 0.11234469 0.74688724 0.60171751 0.41671815 0.37845686\n",
      "  0.54424575 0.50039843]\n",
      " [0.4147444  0.75010532 0.03830192 0.3780229  0.07047451 0.48749076\n",
      "  0.98415443 0.43145605]]\n"
     ]
    }
   ],
   "source": [
    "from numpy import *\n",
    "a = random.random((8, 8))\n",
    "print(type(a))\n",
    "print(a)"
   ]
  },
  {
   "cell_type": "code",
   "execution_count": 35,
   "metadata": {},
   "outputs": [
    {
     "name": "stdout",
     "output_type": "stream",
     "text": [
      "Hello World!\n"
     ]
    }
   ],
   "source": [
    "# Importar outros arquivos em Python\n",
    "from hello import world\n",
    "world()"
   ]
  },
  {
   "cell_type": "code",
   "execution_count": null,
   "metadata": {},
   "outputs": [],
   "source": []
  }
 ],
 "metadata": {
  "kernelspec": {
   "display_name": "Python 3",
   "language": "python",
   "name": "python3"
  },
  "language_info": {
   "codemirror_mode": {
    "name": "ipython",
    "version": 3
   },
   "file_extension": ".py",
   "mimetype": "text/x-python",
   "name": "python",
   "nbconvert_exporter": "python",
   "pygments_lexer": "ipython3",
   "version": "3.11.1"
  },
  "orig_nbformat": 4,
  "vscode": {
   "interpreter": {
    "hash": "5238573367df39f7286bb46f9ff5f08f63a01a80960060ce41e3c79b190280fa"
   }
  }
 },
 "nbformat": 4,
 "nbformat_minor": 2
}

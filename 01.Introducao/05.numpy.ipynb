{
 "cells": [
  {
   "cell_type": "markdown",
   "metadata": {},
   "source": [
    "# Numpy: \n",
    "\n",
    "Um array é uma estrutura para armazenar e recuperar dados. Ele fornece matrizes (arrays) multidimensionais de alto desempenho e ferramentas para lidar com eles. \n",
    "Uma matriz numpy é uma grade de valores (do mesmo tipo) que são indexados por uma tupla de inteiros positivos, arrays numpy são rápidos, fáceis de entender e dão aos usuários o direito de realizar cálculos entre os arrays.<br> <a href = 'https://acervolima.com/diferenca-entre-pandas-vs-numpy/'>referência</a> | <a href = https://numpy.org/doc/stable/user/absolute_beginners.html> numpy.org </a>\n",
    "\n",
    "**O que é:** Um array em NumPy é uma estrutura de dados usada para armazenar múltiplos valores em uma única variável. Eles são semelhantes às listas, mas são muito mais poderosos e eficientes em termos de desempenho.\n",
    "\n",
    "**Quais tipos:**\n",
    "\n",
    "* **1D**: Array de uma dimensão, como uma lista. <br>\n",
    "`array_1d = np.array([1, 2, 3, 4])`\n",
    "\n",
    "\n",
    "* **2D:** Array de duas dimensões, como uma matriz (tabelas). <br>\n",
    "`array_2d = np.array([[1, 2], [3, 4]])`\n",
    "\n",
    "\n",
    "* **nD:** Arrays de n-dimensões para dados mais complexos. <br>\n",
    "`array_3d = np.array([[[1, 2], [3, 4]], [[5, 6], [7, 8]]])`\n",
    "\n",
    "<img src = https://miro.medium.com/v2/resize:fit:4800/format:webp/1*s7Ijt6lfCtqKMxtsleM0-w.png>\n",
    "\n",
    "**Para que servem:** Arrays em NumPy são usados para realizar operações matemáticas e estatísticas de maneira eficiente. Eles suportam operações vetorizadas, o que significa que você pode realizar cálculos em várias entradas simultaneamente.\n",
    "\n",
    "**Prós e contras:**\n",
    "\n",
    "* **Prós:** Desempenho rápido, suporte para operações complexas, eficiente em termos de memória.\n",
    "\n",
    "* **Contras:** Menos flexíveis que listas nativas do Python para algumas operações básicas, requer o uso da biblioteca NumPy.\n",
    "\n",
    "**Quando utilizar:** Utilize arrays em NumPy quando precisar de alto desempenho para cálculos matemáticos, estatísticos ou de manipulação de grandes volumes de dados.\n",
    "\n",
    "**Restrições:**\n",
    "* Todos os elementos da matriz devem ser do mesmo tipo de dados.\n",
    "* Uma vez criado, o tamanho total do array não pode ser alterado.\n",
    "* A forma deve ser “retangular”, não “irregular”; por exemplo, cada linha de uma matriz 2d deve ter o mesmo número de colunas.\n",
    "\n",
    "\n"
   ]
  },
  {
   "cell_type": "markdown",
   "metadata": {},
   "source": [
    "## Matriz **Unidimensional** ou array 1D:"
   ]
  },
  {
   "cell_type": "markdown",
   "metadata": {},
   "source": [
    "**Matriz 1D** (`a`)\n",
    "* **Definição:** Uma matriz 1D é essencialmente uma lista de valores.\n",
    "* **Forma** **(**`.shape`**):** (`a,`)\n",
    "    *  `a`: Número de elementos na matriz."
   ]
  },
  {
   "cell_type": "code",
   "execution_count": 2,
   "metadata": {},
   "outputs": [],
   "source": [
    "import numpy as np"
   ]
  },
  {
   "cell_type": "code",
   "execution_count": 107,
   "metadata": {},
   "outputs": [
    {
     "name": "stdout",
     "output_type": "stream",
     "text": [
      "Dimensões:  1\n",
      "Forma:  (5,)\n",
      "Tamanho:  5\n",
      "Tipo:  <class 'numpy.ndarray'> int64\n",
      "Matriz Unidimencional, axis (a, ):  [12 34 26 18 10]\n"
     ]
    }
   ],
   "source": [
    "matriz_1d = np.array([12, 34, 26, 18, 10])\n",
    "\n",
    "print(\"Dimensões: \", matriz_1d.ndim)\n",
    "print(\"Forma: \", matriz_1d.shape)\n",
    "print(\"Tamanho: \", matriz_1d.size)\n",
    "print(\"Tipo: \", type(matriz_1d), matriz_1d.dtype)\n",
    "print(\"Matriz Unidimencional, axis (a, ): \", matriz_1d)\n"
   ]
  },
  {
   "cell_type": "markdown",
   "metadata": {},
   "source": [
    "### Criar um array com um type específico:"
   ]
  },
  {
   "cell_type": "code",
   "execution_count": 45,
   "metadata": {},
   "outputs": [
    {
     "name": "stdout",
     "output_type": "stream",
     "text": [
      "[1. 2. 3.]\n",
      "<class 'numpy.ndarray'>\n",
      "[1 2 3]\n",
      "<class 'numpy.ndarray'>\n"
     ]
    }
   ],
   "source": [
    "matriz_float = np.array([1, 2, 3], dtype = np.float64)\n",
    "print(matriz_float)\n",
    "print(type(matriz_float))\n",
    "\n",
    "matriz_int = np.array([1, 2, 3], dtype = np.int32)\n",
    "print(matriz_int)\n",
    "print(type(matriz_int))"
   ]
  },
  {
   "cell_type": "markdown",
   "metadata": {},
   "source": [
    "### Converter o tipo da matriz (array):"
   ]
  },
  {
   "cell_type": "code",
   "execution_count": 46,
   "metadata": {},
   "outputs": [
    {
     "name": "stdout",
     "output_type": "stream",
     "text": [
      "[ 1.4       3.6      -5.1       9.42      4.999999]\n",
      "[ 1  3 -5  9  4]\n",
      "[1 2 3 4]\n",
      "[1. 2. 3. 4.]\n"
     ]
    }
   ],
   "source": [
    "# DE: float\n",
    "matriz_nova = np.array([1.4, 3.6, -5.1, 9.42, 4.999999])\n",
    "print(matriz_nova)\n",
    "\n",
    "# PARA: int\n",
    "matriz_nova_int = matriz_nova.astype(np.int32)\n",
    "print(matriz_nova_int)\n",
    "\n",
    "# O inverso também pode ser feito:\n",
    "# DE: int\n",
    "mt1 = np.array([1, 2, 3, 4])\n",
    "print(mt1)\n",
    "\n",
    "# PARA: float\n",
    "mt2 = mt1.astype(float)\n",
    "print(mt2)"
   ]
  },
  {
   "cell_type": "markdown",
   "metadata": {},
   "source": [
    "### Extrair elementos:"
   ]
  },
  {
   "cell_type": "code",
   "execution_count": 137,
   "metadata": {},
   "outputs": [
    {
     "name": "stdout",
     "output_type": "stream",
     "text": [
      "Matriz Index: \n",
      " [ 0↓, 1↓, 2↓, 3↓, 4↓, 5↓] \n",
      " [101 102 103 104 105 106] \n",
      "\n",
      "Exibir pela posição [1]: 102 \n",
      "\n",
      "Exibir dentro de um intervalo [0:2]: [101 102] \n",
      "resgata o valor da coluna 0 e 1; não traz o último valor na coluna 2 \n",
      "\n",
      "Exibir tudo a partir de uma posição [2: ]: [103 104 105 106] \n",
      "\n",
      "Exibir a partir do final de determinarda posição [-2: ]: [105 106]\n"
     ]
    }
   ],
   "source": [
    "m = np.array([101, 102, 103, 104, 105, 106])\n",
    "print(\"Matriz Index: \\n [ 0↓, 1↓, 2↓, 3↓, 4↓, 5↓] \\n\", m, '\\n')\n",
    "\n",
    "print(\"Exibir pela posição [1]:\", m[1], '\\n')\n",
    "\n",
    "print(\"Exibir dentro de um intervalo [0:2]:\", m[0:2], '\\nresgata o valor da coluna 0 e 1; não traz o último valor na coluna 2 \\n')\n",
    "\n",
    "print(\"Exibir tudo a partir de uma posição [2: ]:\", m[2:], '\\n')\n",
    "\n",
    "print(\"Exibir a partir do final de determinarda posição [-2: ]:\", m[-2:])"
   ]
  },
  {
   "cell_type": "markdown",
   "metadata": {},
   "source": [
    "## Matriz **2d** ou array 2D:"
   ]
  },
  {
   "cell_type": "markdown",
   "metadata": {},
   "source": [
    "**Matriz 2D** (`a, b`)\n",
    "* **Definição:** Uma matriz 2D é uma tabela de valores com linhas e colunas.\n",
    "* **Forma (**`.shape`**):** (`a, b`)\n",
    "    * `a`: Número de linhas.\n",
    "    * `b`: Número de colunas."
   ]
  },
  {
   "cell_type": "markdown",
   "metadata": {},
   "source": [
    "### Criação da matriz 2D:"
   ]
  },
  {
   "cell_type": "code",
   "execution_count": 106,
   "metadata": {},
   "outputs": [
    {
     "name": "stdout",
     "output_type": "stream",
     "text": [
      "Dimensões:  2\n",
      "Forma:  (3, 3)\n",
      "Tamanho:  9\n",
      "Tipo:  <class 'numpy.ndarray'> int64\n",
      "Matriz Unidimencional, axis (a, b): \n",
      " [[ 7  2 23]\n",
      " [12 27  4]\n",
      " [ 5 34 23]]\n"
     ]
    }
   ],
   "source": [
    "matriz_2d = np.array([[7, 2 , 23], [12, 27, 4], [5, 34, 23]])\n",
    "\n",
    "print(\"Dimensões: \", matriz_2d.ndim)\n",
    "print(\"Forma: \", matriz_2d.shape)\n",
    "print(\"Tamanho: \", matriz_2d.size)\n",
    "print(\"Tipo: \", type(matriz_2d), matriz_2d.dtype)\n",
    "print(\"Matriz Unidimencional, axis (a, b): \\n\", matriz_2d)\n"
   ]
  },
  {
   "cell_type": "markdown",
   "metadata": {},
   "source": [
    "### Mostrar um elemebto específico da matriz:"
   ]
  },
  {
   "cell_type": "code",
   "execution_count": 63,
   "metadata": {},
   "outputs": [
    {
     "name": "stdout",
     "output_type": "stream",
     "text": [
      "12 \n",
      "\n"
     ]
    }
   ],
   "source": [
    "print(matriz_2d[1][0], '\\n') # ← [linha] e [coluna]"
   ]
  },
  {
   "cell_type": "markdown",
   "metadata": {},
   "source": [
    "### Mostrar o tamanho das dimensões da matriz:"
   ]
  },
  {
   "cell_type": "code",
   "execution_count": 62,
   "metadata": {},
   "outputs": [
    {
     "name": "stdout",
     "output_type": "stream",
     "text": [
      "(3, 3)\n"
     ]
    }
   ],
   "source": [
    "print(matriz_2d.shape)"
   ]
  },
  {
   "cell_type": "markdown",
   "metadata": {},
   "source": [
    "### Funções Matemáticas na Matriz 2d:\n",
    "`max`, `min`, `sum`, `mean`, `std`, `sqrt`, `exp`"
   ]
  },
  {
   "cell_type": "code",
   "execution_count": 35,
   "metadata": {},
   "outputs": [
    {
     "name": "stdout",
     "output_type": "stream",
     "text": [
      "# Está é a matriz 2D: \n",
      " [[ 7  2 23]\n",
      " [12 27  4]\n",
      " [ 5 34 23]] \n",
      "\n",
      "# Valor máximo de toda a matriz:  34 \n",
      "\n",
      "# Valor mínimo de toda a matriz:  2 \n",
      "\n",
      "# A soma de toda a matriz:  137 \n",
      "\n",
      "# A média de toda a matriz:  15.222 \n",
      "\n",
      "# O desvio padrão de toda a matriz:  11.0331 \n",
      "\n",
      "# A raiz quadrada de cada item da matriz: \n",
      " [[2.64575131 1.41421356 4.79583152]\n",
      " [3.46410162 5.19615242 2.        ]\n",
      " [2.23606798 5.83095189 4.79583152]] \n",
      "\n",
      "# Valor exponencial de cada item da matriz: \n",
      " [[1.09663316e+03 7.38905610e+00 9.74480345e+09]\n",
      " [1.62754791e+05 5.32048241e+11 5.45981500e+01]\n",
      " [1.48413159e+02 5.83461743e+14 9.74480345e+09]] \n",
      "\n"
     ]
    }
   ],
   "source": [
    "print(\"# Está é a matriz 2D: \\n\", matriz_2d, '\\n')\n",
    "\n",
    "# Maior → MAX:\n",
    "print(\"# Valor máximo de toda a matriz: \", matriz_2d.max(), '\\n')\n",
    "\n",
    "# Menor → MIN:\n",
    "print(\"# Valor mínimo de toda a matriz: \", matriz_2d.min(), '\\n')\n",
    "\n",
    "# Somar → SUM:\n",
    "print(\"# A soma de toda a matriz: \", matriz_2d.sum(), '\\n')\n",
    "\n",
    "# Média → MEAN:\n",
    "print(\"# A média de toda a matriz: \", round(matriz_2d.mean(),3), '\\n') # ← Arredondar → ROUND(x, 2)\n",
    "\n",
    "# Desvio Padrão (Standard Deviation) → STD:\n",
    "print(\"# O desvio padrão de toda a matriz: \", round(matriz_2d.std(), 4), '\\n')\n",
    "\n",
    "# Raiz Quadrada → SQRT:\n",
    "print(\"# A raiz quadrada de cada item da matriz: \\n\", np.sqrt(matriz_2d), '\\n')\n",
    "\n",
    "# Exponencial → EXP:\n",
    "print(\"# Valor exponencial de cada item da matriz: \\n\", np.exp(matriz_2d), '\\n') # ← calcula a partir da constante de Euler = 2,718281 elevado à variável"
   ]
  },
  {
   "cell_type": "markdown",
   "metadata": {},
   "source": [
    "### Criar Matrizes Tipificadas:"
   ]
  },
  {
   "cell_type": "code",
   "execution_count": 34,
   "metadata": {},
   "outputs": [
    {
     "name": "stdout",
     "output_type": "stream",
     "text": [
      "# Matriz Vazia: significa que elas começam não inicializadas (não que são vazias):\n",
      "[[3403141798744321641 3847594032941326895]\n",
      " [7305459142022554417 3618420625391105846]\n",
      " [7162243148215826231                  54]] \n",
      "\n",
      "# Matriz com valores zerados:\n",
      "[[0. 0. 0.]\n",
      " [0. 0. 0.]\n",
      " [0. 0. 0.]\n",
      " [0. 0. 0.]] \n",
      "\n",
      "# Matriz com valores em um:\n",
      "[[1. 1. 1. 1. 1. 1. 1.]\n",
      " [1. 1. 1. 1. 1. 1. 1.]\n",
      " [1. 1. 1. 1. 1. 1. 1.]\n",
      " [1. 1. 1. 1. 1. 1. 1.]\n",
      " [1. 1. 1. 1. 1. 1. 1.]] \n",
      "\n",
      "# Matriz com valores apenas na diagonal:\n",
      "[[1. 0. 0. 0. 0.]\n",
      " [0. 1. 0. 0. 0.]\n",
      " [0. 0. 1. 0. 0.]\n",
      " [0. 0. 0. 1. 0.]\n",
      " [0. 0. 0. 0. 1.]]\n"
     ]
    }
   ],
   "source": [
    "print(\"# Matriz Vazia: significa que elas começam não inicializadas (não que são vazias):\")\n",
    "vazio = np.empty([3, 2], dtype = int) # os valores se alteram a cada execução\n",
    "print(vazio, '\\n')\n",
    "\n",
    "print(\"# Matriz com valores zerados:\")\n",
    "zero = np.zeros([4, 3])\n",
    "print(zero, '\\n')\n",
    "\n",
    "print(\"# Matriz com valores em um:\")\n",
    "um = np.ones([5, 7])\n",
    "print(um, '\\n')\n",
    "\n",
    "print(\"# Matriz com valores apenas na diagonal:\")\n",
    "diagonal = np.eye(5)\n",
    "print(diagonal)"
   ]
  },
  {
   "cell_type": "markdown",
   "metadata": {},
   "source": [
    "## Matriz **Tridimensional** ou array 3D"
   ]
  },
  {
   "cell_type": "markdown",
   "metadata": {},
   "source": [
    "**Matriz 3D** (`a, b, c`)\n",
    "* **Definição:** Uma matriz 3D é uma coleção de tabelas 2D empilhadas.\n",
    "* **Forma (**`.shape`**):** (`a, b, c`)\n",
    "    * `a`: Número de **blocos** (ou camadas) ⚠️\n",
    "    * `b`: Número de linhas em cada bloco\n",
    "    * `c`: Número de colunas em cada bloco"
   ]
  },
  {
   "cell_type": "markdown",
   "metadata": {},
   "source": [
    "### Visualização da Estrutura:\n",
    "\n",
    "**A matriz 3D pode ser visualizada como dois ou mais blocos 2D empilhados.**"
   ]
  },
  {
   "cell_type": "code",
   "execution_count": 105,
   "metadata": {},
   "outputs": [
    {
     "name": "stdout",
     "output_type": "stream",
     "text": [
      "#Array 3D: \n",
      " [[[ 1  2 13 14]\n",
      "  [ 3  4 15 16]\n",
      "  [ 5  6 17 18]]\n",
      "\n",
      " [[ 7  8 19 20]\n",
      "  [ 9 10 21 22]\n",
      "  [11 12 23 24]]] \n",
      "  \n",
      "#Dimensões:  3 \n",
      "#Forma:  (2, 3, 4) \n",
      "#Tamaho:  24 \n",
      "#Tipo:  int64 \n",
      " a = 2 blocos \n",
      " b = 3 linhas por bloco \n",
      " c = 4 colunas por bloco\n"
     ]
    }
   ],
   "source": [
    "matriz_3d = np.array([\n",
    "    [[1, 2, 13, 14], [3, 4, 15, 16], [5, 6, 17, 18]],\n",
    "    [[7, 8, 19, 20], [9, 10, 21, 22], [11, 12, 23, 24]]\n",
    "])\n",
    "print(\"#Array 3D: \\n\", matriz_3d, \"\\n\",\n",
    "     \" \\n#Dimensões: \", matriz_3d.ndim, \n",
    "     \"\\n#Forma: \" , matriz_3d.shape,\n",
    "     \"\\n#Tamaho: \", matriz_3d.size,\n",
    "     \"\\n#Tipo: \", matriz_3d.dtype, \n",
    "     \"\\n a = 2 blocos \\n b = 3 linhas por bloco \\n c = 4 colunas por bloco\")"
   ]
  },
  {
   "cell_type": "markdown",
   "metadata": {},
   "source": [
    "### Acessando Elementos\n"
   ]
  },
  {
   "cell_type": "code",
   "execution_count": 82,
   "metadata": {},
   "outputs": [
    {
     "name": "stdout",
     "output_type": "stream",
     "text": [
      "# Apenas o primeiro bloco (índice ou index 0): \n",
      " [[ 1  2 13 14]\n",
      " [ 3  4 15 16]\n",
      " [ 5  6 17 18]]\n"
     ]
    }
   ],
   "source": [
    "print(\"# Apenas o primeiro bloco (índice ou index 0): \\n\", matriz_3d[0]) \n",
    "# Saída: [[ 1,  2,  3,  4], [ 5,  6,  7,  8], [ 9, 10, 11, 12]]"
   ]
  },
  {
   "cell_type": "code",
   "execution_count": 93,
   "metadata": {},
   "outputs": [
    {
     "name": "stdout",
     "output_type": "stream",
     "text": [
      "# Apenas o elemento (ou valor ou item) na posição \n",
      " (a bloco = 1, b linha = 2, c coluna = 3): \n",
      " 24\n"
     ]
    }
   ],
   "source": [
    "print(\"# Apenas o elemento (ou valor ou item) na posição \\n (a bloco = 1, b linha = 2, c coluna = 3): \\n\", matriz_3d[1, 2, 3]) \n",
    "# Saída: [[ 1,  2,  3,  4], [ 5,  6,  7,  8], [ 9, 10, 11, 12]]"
   ]
  },
  {
   "cell_type": "markdown",
   "metadata": {},
   "source": [
    "<a href=\"https://ibb.co/MP1qMMT\"><img src=\"https://i.ibb.co/ZcgyWWs/3d.png\" alt=\"3d\" border=\"0\"></a>"
   ]
  },
  {
   "cell_type": "markdown",
   "metadata": {},
   "source": [
    "### Operações"
   ]
  },
  {
   "cell_type": "code",
   "execution_count": 89,
   "metadata": {},
   "outputs": [
    {
     "name": "stdout",
     "output_type": "stream",
     "text": [
      "Somar 10 a todos os elementos: \n",
      " [[[11 12 23 24]\n",
      "  [13 14 25 26]\n",
      "  [15 16 27 28]]\n",
      "\n",
      " [[17 18 29 30]\n",
      "  [19 20 31 32]\n",
      "  [21 22 33 34]]]\n"
     ]
    }
   ],
   "source": [
    "matriz_somada = matriz_3d + 10\n",
    "print(\"Somar 10 a todos os elementos: \\n\", matriz_somada)\n"
   ]
  },
  {
   "cell_type": "markdown",
   "metadata": {},
   "source": [
    "## Demais abordagens e usos"
   ]
  },
  {
   "cell_type": "markdown",
   "metadata": {},
   "source": [
    "### Criar números aleatórios para simulações → RANDOM:"
   ]
  },
  {
   "cell_type": "markdown",
   "metadata": {},
   "source": [
    "#### Números entre 0 e 1:"
   ]
  },
  {
   "cell_type": "code",
   "execution_count": 52,
   "metadata": {},
   "outputs": [
    {
     "name": "stdout",
     "output_type": "stream",
     "text": [
      "[0.60770079 0.63473101 0.14659138 0.20230635 0.29386026] \n",
      "\n"
     ]
    }
   ],
   "source": [
    "random1 = np.random.random(5)\n",
    "print(random1, '\\n')"
   ]
  },
  {
   "cell_type": "markdown",
   "metadata": {},
   "source": [
    "#### Números aleatórios com distribuição normal contendo negativos:"
   ]
  },
  {
   "cell_type": "code",
   "execution_count": 53,
   "metadata": {},
   "outputs": [
    {
     "name": "stdout",
     "output_type": "stream",
     "text": [
      "[ 1.48369578  1.5924015   0.76866796  0.72328951 -0.31309231] \n",
      "\n"
     ]
    }
   ],
   "source": [
    "random2 = np.random.randn(5)\n",
    "print(random2, '\\n')"
   ]
  },
  {
   "cell_type": "markdown",
   "metadata": {},
   "source": [
    "#### Números aleatóricos com (linhas a = 3, colunas b = 4):"
   ]
  },
  {
   "cell_type": "code",
   "execution_count": 54,
   "metadata": {},
   "outputs": [
    {
     "name": "stdout",
     "output_type": "stream",
     "text": [
      "[[9.39077488 3.98624336 8.68979424 5.31992915]\n",
      " [8.93765219 4.55609568 2.52425261 5.827382  ]\n",
      " [3.65553493 8.64654385 7.37778117 0.63311947]] \n",
      "\n"
     ]
    }
   ],
   "source": [
    "random3 = 10 * np.random.random((3, 4)) # ← multiplica-se por 10 para o número ficar tão pequeno\n",
    "print(random3, '\\n')"
   ]
  },
  {
   "cell_type": "markdown",
   "metadata": {},
   "source": [
    "#### Gerar números aleatórios a partir de sementes estáticas:"
   ]
  },
  {
   "cell_type": "code",
   "execution_count": 55,
   "metadata": {},
   "outputs": [
    {
     "name": "stdout",
     "output_type": "stream",
     "text": [
      "[0.51182162 0.9504637  0.14415961]\n"
     ]
    }
   ],
   "source": [
    "semente = np.random.default_rng(1)\n",
    "aleatorio1 = semente.random(3)\n",
    "print(aleatorio1)"
   ]
  },
  {
   "cell_type": "markdown",
   "metadata": {},
   "source": [
    "#### Gerar números aleatórios a partir de números inteiros:"
   ]
  },
  {
   "cell_type": "code",
   "execution_count": 56,
   "metadata": {},
   "outputs": [
    {
     "name": "stdout",
     "output_type": "stream",
     "text": [
      "[[8 9 2 3]\n",
      " [8 4 2 8]\n",
      " [2 4 6 5]]\n"
     ]
    }
   ],
   "source": [
    "aleatorio2 = semente.integers(10, size = (3, 4))\n",
    "print(aleatorio2)\n"
   ]
  },
  {
   "cell_type": "markdown",
   "metadata": {},
   "source": [
    "#### Remover repetições e deixar dados únicos → UNIQUE:"
   ]
  },
  {
   "cell_type": "code",
   "execution_count": 57,
   "metadata": {},
   "outputs": [
    {
     "name": "stdout",
     "output_type": "stream",
     "text": [
      "[11 12 13 14 15 16 17 18 19 20]\n"
     ]
    }
   ],
   "source": [
    "j = np.array([11, 12, 13, 14, 15, 16, 17, 12, 13, 11, 18, 19, 20])\n",
    "j = np.unique(j)\n",
    "print(j)"
   ]
  },
  {
   "cell_type": "markdown",
   "metadata": {},
   "source": [
    "### Extração de linhas e colunas:"
   ]
  },
  {
   "cell_type": "code",
   "execution_count": 58,
   "metadata": {},
   "outputs": [
    {
     "name": "stdout",
     "output_type": "stream",
     "text": [
      "[[4 5]\n",
      " [6 1]\n",
      " [7 4]] \n",
      "\n",
      "Apenas a linha 1:  [4 5]\n",
      "Apenas a linha 2:  [6 1]\n",
      "Apenas a linha 3:  [7 4] \n",
      "\n",
      "Apenas a coluna 1:  [4 6 7]\n",
      "Apenas a coluna 2:  [5 1 4] \n",
      "\n"
     ]
    }
   ],
   "source": [
    "\n",
    "mm = np.array([[4, 5], [6, 1], [7, 4]])\n",
    "print(mm, '\\n')\n",
    "\n",
    "print('Apenas a linha 1: ', mm[0, :])\n",
    "print('Apenas a linha 2: ', mm[1, :])\n",
    "print('Apenas a linha 3: ', mm[2, :], '\\n')\n",
    "\n",
    "print('Apenas a coluna 1: ', mm[:, 0])\n",
    "print('Apenas a coluna 2: ', mm[:, 1], '\\n')\n"
   ]
  },
  {
   "cell_type": "markdown",
   "metadata": {},
   "source": [
    "### Somar e Multiplicar Matrizes:"
   ]
  },
  {
   "cell_type": "code",
   "execution_count": 50,
   "metadata": {},
   "outputs": [
    {
     "name": "stdout",
     "output_type": "stream",
     "text": [
      "Adição: \n",
      " [[2 3]\n",
      " [4 5]] \n",
      "\n",
      "Multiplicação: \n",
      " [[1 2]\n",
      " [3 4]] \n",
      "\n",
      "Soma de matrizes diferentes 2D + 1D: \n",
      " [15 10]\n",
      "    + \n",
      " [[10 20]\n",
      " [30 40]\n",
      " [50 60]]\n",
      "    = \n",
      " [[25 30]\n",
      " [45 50]\n",
      " [65 70]]\n"
     ]
    }
   ],
   "source": [
    "\n",
    "n = np.array([[1, 2], [3, 4]])\n",
    "o = np.array([[1, 1], [1, 1]])\n",
    "\n",
    "# SOMAR:\n",
    "soma = n + o\n",
    "print(\"Adição: \\n\", soma, '\\n')\n",
    "\n",
    "# MULTIPLICAR:\n",
    "multiplica = n * o\n",
    "print(\"Multiplicação: \\n\", multiplica, '\\n')\n",
    "\n",
    "# Exemplo com tamanhos diferentes de matrizes:\n",
    "q = np.array([15, 10])\n",
    "p = np.array([[10, 20], [30, 40], [50, 60]])\n",
    "\n",
    "print(\"Soma de matrizes diferentes 2D + 1D: \\n\", q)\n",
    "print(\"    + \\n\",p)\n",
    "print(\"    = \\n\", p+q)"
   ]
  },
  {
   "cell_type": "markdown",
   "metadata": {},
   "source": [
    "### Arange, Reshape e Transpose:"
   ]
  },
  {
   "cell_type": "markdown",
   "metadata": {},
   "source": [
    "#### Criar uma matriz com 15 elementos → ARANGE:"
   ]
  },
  {
   "cell_type": "code",
   "execution_count": 37,
   "metadata": {},
   "outputs": [
    {
     "name": "stdout",
     "output_type": "stream",
     "text": [
      "# Criar uma matriz com 15 elementos → ARANGE:\n",
      "[ 0  1  2  3  4  5  6  7  8  9 10 11 12 13 14]\n"
     ]
    }
   ],
   "source": [
    "print(\"# Criar uma matriz com 15 elementos → ARANGE:\")\n",
    "f = np.arange(15)\n",
    "print(f)"
   ]
  },
  {
   "cell_type": "markdown",
   "metadata": {},
   "source": [
    "#### Definir forma da matriz (a = 3, b = 5) → RESHAPE:\")"
   ]
  },
  {
   "cell_type": "code",
   "execution_count": 39,
   "metadata": {},
   "outputs": [
    {
     "name": "stdout",
     "output_type": "stream",
     "text": [
      "# Definir forma da matriz 3 x 5 → RESHAPE:\n",
      "[[ 0  1  2  3  4]\n",
      " [ 5  6  7  8  9]\n",
      " [10 11 12 13 14]]\n"
     ]
    }
   ],
   "source": [
    "print(\"# Definir forma da matriz (a = 3, b = 5) → RESHAPE:\")\n",
    "f = np.arange(15).reshape(3, 5)\n",
    "print(f)"
   ]
  },
  {
   "cell_type": "markdown",
   "metadata": {},
   "source": [
    "#### Transposição (a = 5, b = 3) → TRANSPOSE:"
   ]
  },
  {
   "cell_type": "code",
   "execution_count": 46,
   "metadata": {},
   "outputs": [
    {
     "name": "stdout",
     "output_type": "stream",
     "text": [
      "# Transposição (a = 5, b = 3) → TRANSPOSE:\n",
      "[[ 0  5 10]\n",
      " [ 1  6 11]\n",
      " [ 2  7 12]\n",
      " [ 3  8 13]\n",
      " [ 4  9 14]] \n",
      "\n",
      "# OU Transposição (5, 3) → T:\n",
      "[[ 0  5 10]\n",
      " [ 1  6 11]\n",
      " [ 2  7 12]\n",
      " [ 3  8 13]\n",
      " [ 4  9 14]] \n",
      "\n"
     ]
    }
   ],
   "source": [
    "print(\"# Transposição (a = 5, b = 3) → TRANSPOSE:\")\n",
    "h = f.transpose(1, 0)\n",
    "print(h, \"\\n\")\n",
    "\n",
    "print(\"# OU Transposição (5, 3) → T:\")\n",
    "g = f.T\n",
    "print(g, '\\n')\n",
    "\n"
   ]
  },
  {
   "cell_type": "markdown",
   "metadata": {},
   "source": [
    "### Expressões Lógicas:"
   ]
  },
  {
   "cell_type": "markdown",
   "metadata": {},
   "source": [
    "#### Criar uma matriz aleatória (4, 4):"
   ]
  },
  {
   "cell_type": "code",
   "execution_count": 48,
   "metadata": {},
   "outputs": [
    {
     "name": "stdout",
     "output_type": "stream",
     "text": [
      "# Criar uma matriz aleatória (4, 4):\n",
      "[[-1.50833703  1.14059639  1.41392409  1.32387954]\n",
      " [ 0.47204022 -0.21398647  0.39553208 -0.8616048 ]\n",
      " [-0.40431036 -0.43859717 -0.4044113   0.69701933]\n",
      " [-1.6505546  -0.85289633  0.15909073 -0.40642273]] \n",
      "\n",
      "# Validar maiores e menores que 0:\n",
      "[[False  True  True  True]\n",
      " [ True False  True False]\n",
      " [False False False  True]\n",
      " [False False  True False]] \n",
      "\n",
      "# Substituir números por 1 e -1 a partir da validação:\n",
      "[[-1  1  1  1]\n",
      " [ 1 -1  1 -1]\n",
      " [-1 -1 -1  1]\n",
      " [-1 -1  1 -1]]\n"
     ]
    }
   ],
   "source": [
    "print(\"# Criar uma matriz aleatória (4, 4):\")\n",
    "v = np.random.randn(4, 4)\n",
    "print(v)"
   ]
  },
  {
   "cell_type": "markdown",
   "metadata": {},
   "source": [
    "#### Validar maiores e menores que 0:"
   ]
  },
  {
   "cell_type": "code",
   "execution_count": null,
   "metadata": {},
   "outputs": [
    {
     "name": "stdout",
     "output_type": "stream",
     "text": [
      "# Criar uma matriz aleatória (4, 4):\n",
      "[[-1.50833703  1.14059639  1.41392409  1.32387954]\n",
      " [ 0.47204022 -0.21398647  0.39553208 -0.8616048 ]\n",
      " [-0.40431036 -0.43859717 -0.4044113   0.69701933]\n",
      " [-1.6505546  -0.85289633  0.15909073 -0.40642273]] \n",
      "\n",
      "# Validar maiores e menores que 0:\n",
      "[[False  True  True  True]\n",
      " [ True False  True False]\n",
      " [False False False  True]\n",
      " [False False  True False]] \n",
      "\n",
      "# Substituir números por 1 e -1 a partir da validação:\n",
      "[[-1  1  1  1]\n",
      " [ 1 -1  1 -1]\n",
      " [-1 -1 -1  1]\n",
      " [-1 -1  1 -1]]\n"
     ]
    }
   ],
   "source": [
    "print(\"# Validar maiores e menores que 0:\")\n",
    "x = (v > 0)\n",
    "print(x)"
   ]
  },
  {
   "cell_type": "markdown",
   "metadata": {},
   "source": [
    "#### Substituir números por 1 e -1 a partir da validação:"
   ]
  },
  {
   "cell_type": "code",
   "execution_count": null,
   "metadata": {},
   "outputs": [
    {
     "name": "stdout",
     "output_type": "stream",
     "text": [
      "# Criar uma matriz aleatória (4, 4):\n",
      "[[-1.50833703  1.14059639  1.41392409  1.32387954]\n",
      " [ 0.47204022 -0.21398647  0.39553208 -0.8616048 ]\n",
      " [-0.40431036 -0.43859717 -0.4044113   0.69701933]\n",
      " [-1.6505546  -0.85289633  0.15909073 -0.40642273]] \n",
      "\n",
      "# Validar maiores e menores que 0:\n",
      "[[False  True  True  True]\n",
      " [ True False  True False]\n",
      " [False False False  True]\n",
      " [False False  True False]] \n",
      "\n",
      "# Substituir números por 1 e -1 a partir da validação:\n",
      "[[-1  1  1  1]\n",
      " [ 1 -1  1 -1]\n",
      " [-1 -1 -1  1]\n",
      " [-1 -1  1 -1]]\n"
     ]
    }
   ],
   "source": [
    "print(\"# Substituir números por 1 e -1 a partir da validação:\")\n",
    "z = np.where(x > 0, 1, -1)\n",
    "print(z)"
   ]
  },
  {
   "cell_type": "code",
   "execution_count": 18,
   "metadata": {},
   "outputs": [
    {
     "name": "stdout",
     "output_type": "stream",
     "text": [
      "(2, 3, 4)\n",
      "[[[ 1  2  3  4]\n",
      "  [ 5  6  7  8]\n",
      "  [ 9 10 11 12]]\n",
      "\n",
      " [[13 14 15 16]\n",
      "  [17 18 19 20]\n",
      "  [21 22 23 24]]]\n"
     ]
    }
   ],
   "source": [
    "import numpy as np\n",
    "\n",
    "# Criando uma matriz 3D com a forma (2, 3, 4)\n",
    "matriz_3d = np.array([\n",
    "    [\n",
    "        [1, 2, 3, 4],\n",
    "        [5, 6, 7, 8],\n",
    "        [9, 10, 11, 12]\n",
    "    ],\n",
    "    [\n",
    "        [13, 14, 15, 16],\n",
    "        [17, 18, 19, 20],\n",
    "        [21, 22, 23, 24]\n",
    "    ]\n",
    "])\n",
    "\n",
    "print(matriz_3d.shape)\n",
    "print(matriz_3d)\n"
   ]
  }
 ],
 "metadata": {
  "kernelspec": {
   "display_name": "Python 3",
   "language": "python",
   "name": "python3"
  },
  "language_info": {
   "codemirror_mode": {
    "name": "ipython",
    "version": 3
   },
   "file_extension": ".py",
   "mimetype": "text/x-python",
   "name": "python",
   "nbconvert_exporter": "python",
   "pygments_lexer": "ipython3",
   "version": "3.13.0"
  },
  "orig_nbformat": 4
 },
 "nbformat": 4,
 "nbformat_minor": 2
}

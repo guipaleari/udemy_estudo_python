{
 "cells": [
  {
   "cell_type": "markdown",
   "metadata": {},
   "source": [
    "# Estruturas de Decisão"
   ]
  },
  {
   "cell_type": "markdown",
   "metadata": {},
   "source": [
    "## Controlam o fluxo do programa/ da aplicação/ da análise com base em condições específicas.\n",
    "\n"
   ]
  },
  {
   "cell_type": "markdown",
   "metadata": {},
   "source": [
    "### Condição **simples** usando:\n",
    "\n",
    "se → `if () :` <br>\n",
    "então  → `else () :` "
   ]
  },
  {
   "cell_type": "code",
   "execution_count": 2,
   "metadata": {},
   "outputs": [
    {
     "name": "stdout",
     "output_type": "stream",
     "text": [
      "Aprovado\n",
      "Reprovado\n"
     ]
    }
   ],
   "source": [
    "\n",
    "# exemplo 1\n",
    "nota1 = 7\n",
    "if (nota1 >= 7):\n",
    "    print('Aprovado')\n",
    "else:\n",
    "    print('Reprovado')\n",
    "\n",
    "\n",
    "# exemplo 2\n",
    "nota2 = 5\n",
    "if (nota2 >= 7):\n",
    "    print('Aprovado')\n",
    "else:\n",
    "    print('Reprovado')"
   ]
  },
  {
   "cell_type": "markdown",
   "metadata": {},
   "source": [
    "### Condição **concisa** usando a mesma linha:\n",
    "\n",
    "se → `if () :` <br>\n",
    "então  → `else () :` "
   ]
  },
  {
   "cell_type": "code",
   "execution_count": 7,
   "metadata": {},
   "outputs": [
    {
     "name": "stdout",
     "output_type": "stream",
     "text": [
      "maior de idade\n"
     ]
    }
   ],
   "source": [
    "idade = 18\n",
    "categoria = \"maior de idade\" if idade >= 18 else \"menor de idade\"\n",
    "print(categoria)"
   ]
  },
  {
   "cell_type": "markdown",
   "metadata": {},
   "source": [
    "### Condição **elaborada** usando:\n",
    "\n",
    "se → `if () :` <br>\n",
    "senão → `elif () :` <br>\n",
    "então  → `else ():`"
   ]
  },
  {
   "cell_type": "code",
   "execution_count": 6,
   "metadata": {},
   "outputs": [
    {
     "name": "stdout",
     "output_type": "stream",
     "text": [
      "Você é maior de idade.\n"
     ]
    }
   ],
   "source": [
    "idade = 18\n",
    "\n",
    "if idade >= 18:\n",
    "    print(\"Você é maior de idade.\")\n",
    "elif idade >= 13:\n",
    "    print(\"Você é um adolescente.\")\n",
    "else:\n",
    "    print(\"Você é uma criança.\")\n"
   ]
  },
  {
   "cell_type": "code",
   "execution_count": 8,
   "metadata": {},
   "outputs": [
    {
     "name": "stdout",
     "output_type": "stream",
     "text": [
      "Aprovado\n"
     ]
    }
   ],
   "source": [
    "nota = input('Insira a nota do aluno: ')\n",
    "nota = float(nota)\n",
    "\n",
    "if nota <= 4 and nota >= 0:\n",
    "    print('Reprovado')\n",
    "elif nota > 4 and nota <= 6:\n",
    "    print('Exame')\n",
    "elif nota > 6 and nota <= 10:\n",
    "    print('Aprovado')\n",
    "else:\n",
    "    print('Nota Inválida')"
   ]
  },
  {
   "cell_type": "markdown",
   "metadata": {},
   "source": [
    "### Condição **aninhada** usando blocos `if` dentro de outros blocos `if`:"
   ]
  },
  {
   "cell_type": "code",
   "execution_count": 10,
   "metadata": {},
   "outputs": [
    {
     "name": "stdout",
     "output_type": "stream",
     "text": [
      "Aprovado com distinção\n"
     ]
    }
   ],
   "source": [
    "nota = 91\n",
    "\n",
    "if nota >= 70:\n",
    "    if nota >= 90:\n",
    "        print(\"Aprovado com distinção\")\n",
    "    else:\n",
    "        print(\"Aprovado\")\n",
    "else:\n",
    "    print(\"Reprovado\")"
   ]
  }
 ],
 "metadata": {
  "kernelspec": {
   "display_name": "Python 3",
   "language": "python",
   "name": "python3"
  },
  "language_info": {
   "codemirror_mode": {
    "name": "ipython",
    "version": 3
   },
   "file_extension": ".py",
   "mimetype": "text/x-python",
   "name": "python",
   "nbconvert_exporter": "python",
   "pygments_lexer": "ipython3",
   "version": "3.12.4"
  },
  "orig_nbformat": 4
 },
 "nbformat": 4,
 "nbformat_minor": 2
}

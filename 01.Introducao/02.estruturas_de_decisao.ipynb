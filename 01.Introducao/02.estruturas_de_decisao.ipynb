{
 "cells": [
  {
   "cell_type": "code",
   "execution_count": 1,
   "metadata": {},
   "outputs": [
    {
     "name": "stdout",
     "output_type": "stream",
     "text": [
      "Aprovado\n",
      "Reprovado\n"
     ]
    }
   ],
   "source": [
    "# Condição simples usando o Se → IF:\n",
    "nota1 = 7\n",
    "if nota1 >= 7:\n",
    "    print('Aprovado')\n",
    "else:\n",
    "    print('Reprovado')\n",
    "\n",
    "nota2 = 5\n",
    "if nota2 >= 7:\n",
    "    print('Aprovado')\n",
    "else:\n",
    "    print('Reprovado')"
   ]
  },
  {
   "cell_type": "code",
   "execution_count": 16,
   "metadata": {},
   "outputs": [
    {
     "name": "stdout",
     "output_type": "stream",
     "text": [
      "Reprovado\n"
     ]
    }
   ],
   "source": [
    "# Condição elaborada usando o Se, Talvez e Senão  → IF, ELIF, ELSE:\n",
    "\n",
    "nota = input('Insira a nota do aluno: ')\n",
    "nota = float(nota)\n",
    "\n",
    "if nota <= 4 and nota >= 0:\n",
    "    print('Reprovado')\n",
    "elif nota > 4 and nota <= 6:\n",
    "    print('Exame')\n",
    "elif nota > 6 and nota <= 10:\n",
    "    print('Aprovado')\n",
    "else:\n",
    "    print('Nota Inválida')"
   ]
  }
 ],
 "metadata": {
  "kernelspec": {
   "display_name": "Python 3.9.12 ('base')",
   "language": "python",
   "name": "python3"
  },
  "language_info": {
   "codemirror_mode": {
    "name": "ipython",
    "version": 3
   },
   "file_extension": ".py",
   "mimetype": "text/x-python",
   "name": "python",
   "nbconvert_exporter": "python",
   "pygments_lexer": "ipython3",
   "version": "3.9.12"
  },
  "orig_nbformat": 4,
  "vscode": {
   "interpreter": {
    "hash": "bb1809f004956f83e96d80832f161ee3c7ade7e4954ac58ab47f4200d7846305"
   }
  }
 },
 "nbformat": 4,
 "nbformat_minor": 2
}

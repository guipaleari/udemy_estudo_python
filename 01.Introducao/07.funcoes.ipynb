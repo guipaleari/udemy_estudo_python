{
 "cells": [
  {
   "cell_type": "markdown",
   "metadata": {},
   "source": [
    "# Função\n",
    "Uma função é um bloco de códigos que só é executado quando é chamado.<br>\n",
    "É como uma receita: você tem os ingredientes (dados) e as instruções de preparação (código) que produzem um prato específico (resultado).\n",
    "\n",
    "**Por que usar funções?**\n",
    "* Reutilização de código: escreva uma única vez, use muitas vezes\n",
    "* Organização: divida o código em partes menores e mais gerenciáevis\n",
    "* Legibilidade: torna o código mais fácil de ler e entender\n",
    "\n",
    "**Componentes da Função:**\n",
    "* `def`: Palavra-chave que define uma função.\n",
    "* `nome_da_funcao`: Nome dado à função.\n",
    "* `parametros`: Valores de entrada que a função pode receber.\n",
    "* _Bloco de Código_: Conjunto de instruções que a função executa.\n",
    "* `return`: Palavra-chave que retorna um valor da função.\n",
    "\n",
    "**Sintaxe:**"
   ]
  },
  {
   "cell_type": "code",
   "execution_count": 1,
   "metadata": {},
   "outputs": [],
   "source": [
    "def nome_da_funcao(parametros):\n",
    "    # Bloco de código\n",
    "    return resultado\n"
   ]
  },
  {
   "cell_type": "markdown",
   "metadata": {},
   "source": [
    "## ❇️ Exemplo Simples\n",
    "Imagine uma função que soma dois números:"
   ]
  },
  {
   "cell_type": "code",
   "execution_count": 8,
   "metadata": {},
   "outputs": [],
   "source": [
    "def somar (a, b):\n",
    "    resultado = a + b\n",
    "    return resultado"
   ]
  },
  {
   "cell_type": "code",
   "execution_count": 9,
   "metadata": {},
   "outputs": [
    {
     "data": {
      "text/plain": [
       "5"
      ]
     },
     "execution_count": 9,
     "metadata": {},
     "output_type": "execute_result"
    }
   ],
   "source": [
    "somar(2, 3)"
   ]
  },
  {
   "cell_type": "markdown",
   "metadata": {},
   "source": [
    "## Função **sem** parâmetro:\n",
    "funcao(_) ← vazio"
   ]
  },
  {
   "cell_type": "code",
   "execution_count": 10,
   "metadata": {},
   "outputs": [],
   "source": [
    "def dizer_oi():\n",
    "    print(\"Oi\")"
   ]
  },
  {
   "cell_type": "code",
   "execution_count": 12,
   "metadata": {},
   "outputs": [
    {
     "name": "stdout",
     "output_type": "stream",
     "text": [
      "Oi\n"
     ]
    }
   ],
   "source": [
    "dizer_oi()"
   ]
  },
  {
   "cell_type": "markdown",
   "metadata": {},
   "source": [
    "## Função **com** parâmetro **padrão**:\n",
    "funcao(nome=\"amigo\") ← definir valores padrão para os parâmetros"
   ]
  },
  {
   "cell_type": "code",
   "execution_count": 16,
   "metadata": {},
   "outputs": [],
   "source": [
    "def cumprimentar(nome=\"amigo\"):\n",
    "    print(f\"Oi, {nome}!\") # ← f traz a variávei dentro no nome"
   ]
  },
  {
   "cell_type": "code",
   "execution_count": 21,
   "metadata": {},
   "outputs": [
    {
     "name": "stdout",
     "output_type": "stream",
     "text": [
      "Oi, amigo!\n",
      "Oi, Gui!\n"
     ]
    }
   ],
   "source": [
    "cumprimentar()\n",
    "\n",
    "cumprimentar(\"Gui\")"
   ]
  },
  {
   "cell_type": "markdown",
   "metadata": {},
   "source": [
    "## Função **com** parâmetro **variável**\n",
    "funcao(*numeros) funções que aceitam um número variável de parâmetros"
   ]
  },
  {
   "cell_type": "code",
   "execution_count": 24,
   "metadata": {},
   "outputs": [],
   "source": [
    "def somar_todos(*numeros): # * permite inserir mais de uma variável\n",
    "    return sum(numeros)"
   ]
  },
  {
   "cell_type": "code",
   "execution_count": 25,
   "metadata": {},
   "outputs": [
    {
     "name": "stdout",
     "output_type": "stream",
     "text": [
      "10\n"
     ]
    }
   ],
   "source": [
    "print(somar_todos(1, 2, 3, 4))"
   ]
  },
  {
   "cell_type": "markdown",
   "metadata": {},
   "source": [
    "## Função anhinhada\n",
    "definir funções dentro de outras funções"
   ]
  },
  {
   "cell_type": "code",
   "execution_count": 32,
   "metadata": {},
   "outputs": [],
   "source": [
    "def funcao_externa():\n",
    "    def funcao_interna():\n",
    "        print(\"Olá do interior!\")\n",
    "    funcao_interna()\n"
   ]
  },
  {
   "cell_type": "code",
   "execution_count": 34,
   "metadata": {},
   "outputs": [
    {
     "name": "stdout",
     "output_type": "stream",
     "text": [
      "Olá do interior!\n"
     ]
    }
   ],
   "source": [
    "funcao_externa()"
   ]
  },
  {
   "cell_type": "markdown",
   "metadata": {},
   "source": [
    "## Mais Exemplos"
   ]
  },
  {
   "cell_type": "code",
   "execution_count": 3,
   "metadata": {},
   "outputs": [
    {
     "name": "stdout",
     "output_type": "stream",
     "text": [
      "Esta é uma função\n"
     ]
    }
   ],
   "source": [
    "# Definir uma função → DEF:\n",
    "def imprimir():\n",
    "    print('Esta é uma função')\n",
    "\n",
    "imprimir()"
   ]
  },
  {
   "cell_type": "code",
   "execution_count": 21,
   "metadata": {},
   "outputs": [
    {
     "name": "stdout",
     "output_type": "stream",
     "text": [
      "Imprimir este texto\n"
     ]
    }
   ],
   "source": [
    "# Definir uma função com uma variável → DEF:\n",
    "def imprimir(txt):\n",
    "    print(txt)\n",
    "    \n",
    "imprimir('Imprimir este texto')"
   ]
  },
  {
   "cell_type": "code",
   "execution_count": 6,
   "metadata": {},
   "outputs": [
    {
     "name": "stdout",
     "output_type": "stream",
     "text": [
      "9\n"
     ]
    }
   ],
   "source": [
    "# Retornar o valor da função → RETURN:\n",
    "def potencia(n):\n",
    "    return n*n\n",
    "\n",
    "x = potencia(3) # ← armazenar o RETURN na variável x\n",
    "print(x)"
   ]
  },
  {
   "cell_type": "code",
   "execution_count": 22,
   "metadata": {},
   "outputs": [
    {
     "name": "stdout",
     "output_type": "stream",
     "text": [
      "10\n",
      "11\n",
      "12\n",
      "13\n",
      "14\n",
      "15\n",
      "16\n",
      "17\n",
      "18\n",
      "19\n",
      "20\n",
      "\n",
      "\n",
      "1\n",
      "2\n",
      "3\n",
      "4\n",
      "5\n",
      "6\n",
      "7\n",
      "8\n",
      "9\n",
      "10\n"
     ]
    }
   ],
   "source": [
    "# Função com mais de um parâmetro e com valores já pré-determinados (default):\n",
    "def intervalo(inicio = 1, fim = 10):\n",
    "    for n in range(inicio, fim+1):\n",
    "        print(n)\n",
    "\n",
    "x = intervalo() # → não precisa inserir o intervalo, pois já está usando os valores padrão\n",
    "\n",
    "y = intervalo(10, 20) # → ao inserir o intervalo, os valores subescrevem os valores padrão\n",
    "print(\"\\n\")"
   ]
  }
 ],
 "metadata": {
  "kernelspec": {
   "display_name": "Python 3",
   "language": "python",
   "name": "python3"
  },
  "language_info": {
   "codemirror_mode": {
    "name": "ipython",
    "version": 3
   },
   "file_extension": ".py",
   "mimetype": "text/x-python",
   "name": "python",
   "nbconvert_exporter": "python",
   "pygments_lexer": "ipython3",
   "version": "3.13.0"
  },
  "orig_nbformat": 4,
  "vscode": {
   "interpreter": {
    "hash": "5238573367df39f7286bb46f9ff5f08f63a01a80960060ce41e3c79b190280fa"
   }
  }
 },
 "nbformat": 4,
 "nbformat_minor": 2
}

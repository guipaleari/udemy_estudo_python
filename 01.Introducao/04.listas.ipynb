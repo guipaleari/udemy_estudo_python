{
 "cells": [
  {
   "cell_type": "markdown",
   "metadata": {},
   "source": [
    "# **Listas**"
   ]
  },
  {
   "cell_type": "markdown",
   "metadata": {},
   "source": [
    "## São estruturas de dados que armazenam múltiplos itens em uma única variável. <br> Elas são bastante versáteis e úteis em diversas situações."
   ]
  },
  {
   "cell_type": "markdown",
   "metadata": {},
   "source": [
    "### Criando Listas:"
   ]
  },
  {
   "cell_type": "markdown",
   "metadata": {},
   "source": [
    "#### Lista de números"
   ]
  },
  {
   "cell_type": "code",
   "execution_count": 32,
   "metadata": {},
   "outputs": [
    {
     "name": "stdout",
     "output_type": "stream",
     "text": [
      "Lista de números:  [1, 2, 3, 4, 5] \n",
      "\n"
     ]
    }
   ],
   "source": [
    "numeros = [1, 2, 3, 4, 5]\n",
    "print(\"Lista de números: \", numeros, \"\\n\")"
   ]
  },
  {
   "cell_type": "markdown",
   "metadata": {},
   "source": [
    "#### Lista de strings"
   ]
  },
  {
   "cell_type": "code",
   "execution_count": 33,
   "metadata": {},
   "outputs": [
    {
     "name": "stdout",
     "output_type": "stream",
     "text": [
      "Lista de nomes:  ['Ana', 'Bruno', 'Carlos']\n"
     ]
    }
   ],
   "source": [
    "nomes = [\"Ana\", \"Bruno\", \"Carlos\"]\n",
    "print(\"Lista de nomes: \", nomes)"
   ]
  },
  {
   "cell_type": "markdown",
   "metadata": {},
   "source": [
    "#### Lista mista"
   ]
  },
  {
   "cell_type": "code",
   "execution_count": 34,
   "metadata": {},
   "outputs": [
    {
     "name": "stdout",
     "output_type": "stream",
     "text": [
      "Lista de números:  [1, 'Olá', 3.5, True]\n"
     ]
    }
   ],
   "source": [
    "mista = [1, \"Olá\", 3.5, True]\n",
    "print(\"Lista de números: \", mista)"
   ]
  },
  {
   "cell_type": "markdown",
   "metadata": {},
   "source": [
    "### Acessando Elementos:"
   ]
  },
  {
   "cell_type": "markdown",
   "metadata": {},
   "source": [
    "#### Acessa o primeiro elemento"
   ]
  },
  {
   "cell_type": "code",
   "execution_count": 35,
   "metadata": {},
   "outputs": [
    {
     "name": "stdout",
     "output_type": "stream",
     "text": [
      "Ana\n"
     ]
    }
   ],
   "source": [
    "print(nomes[0])  # Output: Ana"
   ]
  },
  {
   "cell_type": "markdown",
   "metadata": {},
   "source": [
    "#### Acessa o segundo elemento"
   ]
  },
  {
   "cell_type": "code",
   "execution_count": 36,
   "metadata": {},
   "outputs": [
    {
     "name": "stdout",
     "output_type": "stream",
     "text": [
      "Bruno\n"
     ]
    }
   ],
   "source": [
    "print(nomes[1])  # Output: Ana"
   ]
  },
  {
   "cell_type": "markdown",
   "metadata": {},
   "source": [
    "#### Acessa o último elemento"
   ]
  },
  {
   "cell_type": "code",
   "execution_count": 37,
   "metadata": {},
   "outputs": [
    {
     "name": "stdout",
     "output_type": "stream",
     "text": [
      "Carlos\n"
     ]
    }
   ],
   "source": [
    "print(nomes[-1])  # Output: Carlos"
   ]
  },
  {
   "cell_type": "markdown",
   "metadata": {},
   "source": [
    "### Modificando Listas:"
   ]
  },
  {
   "cell_type": "markdown",
   "metadata": {},
   "source": [
    "#### Modifica o segundo elemento"
   ]
  },
  {
   "cell_type": "code",
   "execution_count": 38,
   "metadata": {},
   "outputs": [
    {
     "name": "stdout",
     "output_type": "stream",
     "text": [
      "['Ana', 'Beatriz', 'Carlos']\n"
     ]
    }
   ],
   "source": [
    "nomes[1] = \"Beatriz\"\n",
    "print(nomes)  # Output: [\"Ana\", \"Beatriz\", \"Carlos\"]"
   ]
  },
  {
   "cell_type": "markdown",
   "metadata": {},
   "source": [
    "#### Adiciona um elemento ao final"
   ]
  },
  {
   "cell_type": "code",
   "execution_count": 39,
   "metadata": {},
   "outputs": [
    {
     "name": "stdout",
     "output_type": "stream",
     "text": [
      "['Ana', 'Beatriz', 'Carlos', 'Daniel']\n"
     ]
    }
   ],
   "source": [
    "nomes.append(\"Daniel\")\n",
    "print(nomes)  # Output: [\"Ana\", \"Beatriz\", \"Carlos\", \"Daniel\"]"
   ]
  },
  {
   "cell_type": "markdown",
   "metadata": {},
   "source": [
    "### Removendo Elementos:"
   ]
  },
  {
   "cell_type": "markdown",
   "metadata": {},
   "source": [
    "#### Remove o segundo elemento"
   ]
  },
  {
   "cell_type": "code",
   "execution_count": 40,
   "metadata": {},
   "outputs": [
    {
     "name": "stdout",
     "output_type": "stream",
     "text": [
      "['Ana', 'Carlos', 'Daniel']\n"
     ]
    }
   ],
   "source": [
    "nomes.pop(1)\n",
    "print(nomes)  # Output: [\"Ana\", \"Carlos\", \"Daniel\"]"
   ]
  },
  {
   "cell_type": "markdown",
   "metadata": {},
   "source": [
    "#### Remove um elemento específico"
   ]
  },
  {
   "cell_type": "code",
   "execution_count": 41,
   "metadata": {},
   "outputs": [
    {
     "name": "stdout",
     "output_type": "stream",
     "text": [
      "['Ana', 'Daniel']\n"
     ]
    }
   ],
   "source": [
    "nomes.remove(\"Carlos\")\n",
    "print(nomes)  # Output: [\"Ana\", \"Daniel\"]"
   ]
  },
  {
   "cell_type": "markdown",
   "metadata": {},
   "source": [
    "### Iterando sobre Listas:"
   ]
  },
  {
   "cell_type": "code",
   "execution_count": 42,
   "metadata": {},
   "outputs": [
    {
     "name": "stdout",
     "output_type": "stream",
     "text": [
      "Ana\n",
      "Daniel\n"
     ]
    }
   ],
   "source": [
    "for nome in nomes:\n",
    "    print(nome)\n",
    "# Output:\n",
    "# Ana\n",
    "# Daniel\n"
   ]
  },
  {
   "cell_type": "markdown",
   "metadata": {},
   "source": [
    "### Funções Úteis:"
   ]
  },
  {
   "cell_type": "markdown",
   "metadata": {},
   "source": [
    "#### Tamanho da lista"
   ]
  },
  {
   "cell_type": "code",
   "execution_count": 43,
   "metadata": {},
   "outputs": [
    {
     "name": "stdout",
     "output_type": "stream",
     "text": [
      "2\n"
     ]
    }
   ],
   "source": [
    "print(len(nomes))  # Output: 2"
   ]
  },
  {
   "cell_type": "markdown",
   "metadata": {},
   "source": [
    "#### Verifica se um item está na lista"
   ]
  },
  {
   "cell_type": "code",
   "execution_count": 44,
   "metadata": {},
   "outputs": [
    {
     "name": "stdout",
     "output_type": "stream",
     "text": [
      "True\n"
     ]
    }
   ],
   "source": [
    "print(\"Ana\" in nomes)  # Output: True"
   ]
  },
  {
   "cell_type": "markdown",
   "metadata": {},
   "source": [
    "#### Ordena a lista"
   ]
  },
  {
   "cell_type": "code",
   "execution_count": 45,
   "metadata": {},
   "outputs": [
    {
     "name": "stdout",
     "output_type": "stream",
     "text": [
      "[1, 2, 3, 4, 5]\n"
     ]
    }
   ],
   "source": [
    "numeros.sort()\n",
    "print(numeros)  # Output: [1, 2, 3, 4, 5]"
   ]
  },
  {
   "cell_type": "markdown",
   "metadata": {},
   "source": [
    "### Mais Funções Úteis: em resumo"
   ]
  },
  {
   "cell_type": "markdown",
   "metadata": {},
   "source": [
    "#### criar listas"
   ]
  },
  {
   "cell_type": "code",
   "execution_count": 46,
   "metadata": {},
   "outputs": [
    {
     "name": "stdout",
     "output_type": "stream",
     "text": [
      "Lista 1:  [1, 2, 3, 4, 5]\n",
      "Lista 2:  [1, 2.1, '3', '4', True]\n",
      "Lista 3:  [1, 2.1, [11, 12, 13], 'a', False]\n",
      "Lista 4:  [1, 2, 3, 4, 5, 6, 7, 8, 9, 10]\n",
      " Tamanho da lista 1:  5 \n",
      " Tamanho da lista 2:  5 \n",
      " Tamanho da lista 3:  5  ← a lista dentro da lista é considerada um único elemento\n",
      " Tamanho da lista 4:  10\n"
     ]
    }
   ],
   "source": [
    "# Lista simples:\n",
    "lista1 = [1, 2, 3, 4, 5]\n",
    "print('Lista 1: ', lista1)\n",
    "\n",
    "# Lista mista:\n",
    "lista2 = [1, 2.1, \"3\", '4', True]\n",
    "print('Lista 2: ',lista2)\n",
    "\n",
    "# Lista mista com lista dentro:\n",
    "lista3 = [1, 2.1, [11, 12, 13], 'a', False]\n",
    "print('Lista 3: ', lista3)\n",
    "\n",
    "# Lista usando o RANGE:\n",
    "lista4 = list(range(1, 11))\n",
    "print('Lista 4: ', lista4)\n",
    "\n",
    "# Medir o comprimento da lista:\n",
    "print(' Tamanho da lista 1: ', len(lista1), '\\n',\n",
    "'Tamanho da lista 2: ', len(lista2), '\\n',\n",
    "'Tamanho da lista 3: ', len(lista3), ' ← a lista dentro da lista é considerada um único elemento\\n',\n",
    "'Tamanho da lista 4: ', len(lista4))"
   ]
  },
  {
   "cell_type": "markdown",
   "metadata": {},
   "source": [
    "#### Acessar um elemento da lista:"
   ]
  },
  {
   "cell_type": "code",
   "execution_count": 47,
   "metadata": {},
   "outputs": [
    {
     "name": "stdout",
     "output_type": "stream",
     "text": [
      "Acessando o primeiro item na posição zero:  1 \n",
      "\n",
      "Acessando o segundo item na posição um:  2.1 \n",
      "\n",
      "Acessando o terceiro item na posição dois:  [11, 12, 13] \n",
      "(trazendo a lista dentro da lista)\n"
     ]
    }
   ],
   "source": [
    "print('Acessando o primeiro item na posição zero: ', lista1[0], '\\n')\n",
    "print('Acessando o segundo item na posição um: ', lista2[1], '\\n')\n",
    "print('Acessando o terceiro item na posição dois: ', lista3[2], '\\n(trazendo a lista dentro da lista)')"
   ]
  },
  {
   "cell_type": "markdown",
   "metadata": {},
   "source": [
    "#### Alterando determinado elemento pela posição na lista:"
   ]
  },
  {
   "cell_type": "code",
   "execution_count": 48,
   "metadata": {},
   "outputs": [
    {
     "name": "stdout",
     "output_type": "stream",
     "text": [
      "[10, 2, 3, 4, 5]\n"
     ]
    }
   ],
   "source": [
    "lista1[0] = 10 # de 1 → para 10\n",
    "print(lista1)"
   ]
  },
  {
   "cell_type": "markdown",
   "metadata": {},
   "source": [
    "#### Percorrendo a lista:"
   ]
  },
  {
   "cell_type": "code",
   "execution_count": 49,
   "metadata": {},
   "outputs": [
    {
     "name": "stdout",
     "output_type": "stream",
     "text": [
      "[1, 2, 3, 4, 5, 6, 7, 8, 9, 10]\n",
      "[1, 2, 3, 4, 5, 6, 7, 8, 9, 10]\n",
      "[1, 2, 3, 4, 5, 6, 7, 8, 9, 10]\n",
      "[1, 2, 3, 4, 5, 6, 7, 8, 9, 10]\n",
      "[1, 2, 3, 4, 5, 6, 7, 8, 9, 10]\n",
      "[1, 2, 3, 4, 5, 6, 7, 8, 9, 10]\n",
      "[1, 2, 3, 4, 5, 6, 7, 8, 9, 10]\n",
      "[1, 2, 3, 4, 5, 6, 7, 8, 9, 10]\n",
      "[1, 2, 3, 4, 5, 6, 7, 8, 9, 10]\n",
      "[1, 2, 3, 4, 5, 6, 7, 8, 9, 10]\n",
      "\n",
      "\n",
      "1\n",
      "2\n",
      "3\n",
      "4\n",
      "5\n",
      "6\n",
      "7\n",
      "8\n",
      "9\n",
      "10\n",
      "\n",
      "\n",
      "2\n",
      "3\n",
      "4\n",
      "5\n",
      "6\n",
      "7\n",
      "8\n",
      "9\n",
      "10\n",
      "11\n"
     ]
    }
   ],
   "source": [
    "for n in range(0, len(lista4)):\n",
    "    print(lista4)\n",
    "print('\\n')\n",
    "\n",
    "for n in range(0, len(lista4)):\n",
    "    print(lista4[n])\n",
    "print('\\n')\n",
    "\n",
    "for n in range(0, len(lista4)):\n",
    "    print(lista4[n]+1)"
   ]
  }
 ],
 "metadata": {
  "kernelspec": {
   "display_name": "Python 3",
   "language": "python",
   "name": "python3"
  },
  "language_info": {
   "codemirror_mode": {
    "name": "ipython",
    "version": 3
   },
   "file_extension": ".py",
   "mimetype": "text/x-python",
   "name": "python",
   "nbconvert_exporter": "python",
   "pygments_lexer": "ipython3",
   "version": "3.12.4"
  },
  "orig_nbformat": 4
 },
 "nbformat": 4,
 "nbformat_minor": 2
}

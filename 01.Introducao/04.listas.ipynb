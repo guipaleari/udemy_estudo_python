{
 "cells": [
  {
   "cell_type": "markdown",
   "metadata": {},
   "source": [
    "# **Listas**"
   ]
  },
  {
   "cell_type": "markdown",
   "metadata": {},
   "source": [
    "## São estruturas de dados que armazenam múltiplos itens em uma única variável. \n",
    "## Elas são bastante versáteis e úteis em diversas situações."
   ]
  },
  {
   "cell_type": "markdown",
   "metadata": {},
   "source": [
    "### Criando Listas:"
   ]
  },
  {
   "cell_type": "code",
   "execution_count": 22,
   "metadata": {},
   "outputs": [
    {
     "data": {
      "text/plain": [
       "[1, 'Olá', 3.5, True]"
      ]
     },
     "execution_count": 22,
     "metadata": {},
     "output_type": "execute_result"
    }
   ],
   "source": [
    "# Lista de números\n",
    "numeros = [1, 2, 3, 4, 5]\n",
    "print(\"Lista de números: \", numeros, \"\\n\")\n",
    "\n",
    "# Lista de strings\n",
    "nomes = [\"Ana\", \"Bruno\", \"Carlos\"]\n",
    "\n",
    "# Lista mista\n",
    "mista = [1, \"Olá\", 3.5, True]"
   ]
  },
  {
   "cell_type": "markdown",
   "metadata": {},
   "source": [
    "### Exibindo listas"
   ]
  },
  {
   "cell_type": "code",
   "execution_count": 27,
   "metadata": {},
   "outputs": [
    {
     "name": "stdout",
     "output_type": "stream",
     "text": [
      "Lista de números:  [1, 2, 3, 4, 5] \n",
      "\n",
      "Lista de números:  ['Ana', 'Bruno', 'Carlos'] \n",
      "\n",
      "Lista de números:  [1, 'Olá', 3.5, True]\n"
     ]
    }
   ],
   "source": [
    "\n",
    "\n",
    "\n",
    "\n",
    "print(\"Lista de números: \", mista)\n"
   ]
  },
  {
   "cell_type": "markdown",
   "metadata": {},
   "source": [
    "### Acessando Elementos:"
   ]
  },
  {
   "cell_type": "code",
   "execution_count": 28,
   "metadata": {},
   "outputs": [
    {
     "name": "stdout",
     "output_type": "stream",
     "text": [
      "Ana\n",
      "Carlos\n"
     ]
    }
   ],
   "source": [
    "# Acessa o primeiro elemento\n",
    "print(nomes[0])  # Output: Ana\n",
    "\n",
    "# Acessa o último elemento\n",
    "print(nomes[-1])  # Output: Carlos\n"
   ]
  },
  {
   "cell_type": "markdown",
   "metadata": {},
   "source": [
    "### Modificando Listas:"
   ]
  },
  {
   "cell_type": "code",
   "execution_count": 13,
   "metadata": {},
   "outputs": [
    {
     "name": "stdout",
     "output_type": "stream",
     "text": [
      "['Ana', 'Beatriz', 'Carlos']\n",
      "['Ana', 'Beatriz', 'Carlos', 'Daniel']\n"
     ]
    }
   ],
   "source": [
    "# Modifica o segundo elemento\n",
    "nomes[1] = \"Beatriz\"\n",
    "print(nomes)  # Output: [\"Ana\", \"Beatriz\", \"Carlos\"]\n",
    "\n",
    "# Adiciona um elemento ao final\n",
    "nomes.append(\"Daniel\")\n",
    "print(nomes)  # Output: [\"Ana\", \"Beatriz\", \"Carlos\", \"Daniel\"]\n"
   ]
  },
  {
   "cell_type": "markdown",
   "metadata": {},
   "source": [
    "### Removendo Elementos:"
   ]
  },
  {
   "cell_type": "code",
   "execution_count": 14,
   "metadata": {},
   "outputs": [
    {
     "name": "stdout",
     "output_type": "stream",
     "text": [
      "['Ana', 'Carlos', 'Daniel']\n",
      "['Ana', 'Daniel']\n"
     ]
    }
   ],
   "source": [
    "# Remove o segundo elemento\n",
    "nomes.pop(1)\n",
    "print(nomes)  # Output: [\"Ana\", \"Carlos\", \"Daniel\"]\n",
    "\n",
    "# Remove um elemento específico\n",
    "nomes.remove(\"Carlos\")\n",
    "print(nomes)  # Output: [\"Ana\", \"Daniel\"]\n"
   ]
  },
  {
   "cell_type": "markdown",
   "metadata": {},
   "source": [
    "### Iterando sobre Listas:"
   ]
  },
  {
   "cell_type": "code",
   "execution_count": 15,
   "metadata": {},
   "outputs": [
    {
     "name": "stdout",
     "output_type": "stream",
     "text": [
      "Ana\n",
      "Daniel\n"
     ]
    }
   ],
   "source": [
    "for nome in nomes:\n",
    "    print(nome)\n",
    "# Output:\n",
    "# Ana\n",
    "# Daniel\n"
   ]
  },
  {
   "cell_type": "markdown",
   "metadata": {},
   "source": [
    "### Funções Úteis:"
   ]
  },
  {
   "cell_type": "code",
   "execution_count": 16,
   "metadata": {},
   "outputs": [
    {
     "name": "stdout",
     "output_type": "stream",
     "text": [
      "2\n",
      "True\n",
      "[1, 2, 3, 4, 5]\n"
     ]
    }
   ],
   "source": [
    "# Tamanho da lista\n",
    "print(len(nomes))  # Output: 2\n",
    "\n",
    "# Verifica se um item está na lista\n",
    "print(\"Ana\" in nomes)  # Output: True\n",
    "\n",
    "# Ordena a lista\n",
    "numeros.sort()\n",
    "print(numeros)  # Output: [1, 2, 3, 4, 5]\n"
   ]
  },
  {
   "cell_type": "markdown",
   "metadata": {},
   "source": [
    "### Mais  Funções Úteis:"
   ]
  },
  {
   "cell_type": "code",
   "execution_count": 17,
   "metadata": {},
   "outputs": [
    {
     "name": "stdout",
     "output_type": "stream",
     "text": [
      "Lista 1:  [1, 2, 3, 4, 5]\n",
      "Lista 2:  [1, 2.1, '3', '4', True]\n",
      "Lista 3:  [1, 2.1, [11, 12, 13], 'a', False]\n",
      "Lista 4:  [1, 2, 3, 4, 5, 6, 7, 8, 9, 10]\n",
      " Tamanho da lista 1:  5 \n",
      " Tamanho da lista 2:  5 \n",
      " Tamanho da lista 3:  5  ← a lista dentro da lista é considerada um único elemento\n",
      " Tamanho da lista 4:  10\n"
     ]
    }
   ],
   "source": [
    "# Lista simples:\n",
    "lista1 = [1, 2, 3, 4, 5]\n",
    "print('Lista 1: ', lista1)\n",
    "\n",
    "# Lista mista:\n",
    "lista2 = [1, 2.1, \"3\", '4', True]\n",
    "print('Lista 2: ',lista2)\n",
    "\n",
    "# Lista mista com lista dentro:\n",
    "lista3 = [1, 2.1, [11, 12, 13], 'a', False]\n",
    "print('Lista 3: ', lista3)\n",
    "\n",
    "# Lista usando o RANGE:\n",
    "lista4 = list(range(1, 11))\n",
    "print('Lista 4: ', lista4)\n",
    "\n",
    "# Medir o comprimento da lista:\n",
    "print(' Tamanho da lista 1: ', len(lista1), '\\n',\n",
    "'Tamanho da lista 2: ', len(lista2), '\\n',\n",
    "'Tamanho da lista 3: ', len(lista3), ' ← a lista dentro da lista é considerada um único elemento\\n',\n",
    "'Tamanho da lista 4: ', len(lista4))"
   ]
  },
  {
   "cell_type": "code",
   "execution_count": 18,
   "metadata": {},
   "outputs": [
    {
     "name": "stdout",
     "output_type": "stream",
     "text": [
      "Acessando o primeiro item na posição zero:  1 \n",
      "\n",
      "Acessando o segundo item na posição um:  2.1 \n",
      "\n",
      "Acessando o terceiro item na posição dois:  [11, 12, 13] \n",
      "(trazendo a lista dentro da lista)\n"
     ]
    }
   ],
   "source": [
    "# Acessar um elemento da lista:\n",
    "print('Acessando o primeiro item na posição zero: ', lista1[0], '\\n')\n",
    "print('Acessando o segundo item na posição um: ', lista2[1], '\\n')\n",
    "print('Acessando o terceiro item na posição dois: ', lista3[2], '\\n(trazendo a lista dentro da lista)')"
   ]
  },
  {
   "cell_type": "code",
   "execution_count": 19,
   "metadata": {},
   "outputs": [
    {
     "name": "stdout",
     "output_type": "stream",
     "text": [
      "[10, 2, 3, 4, 5]\n"
     ]
    }
   ],
   "source": [
    "# Alterando determinado elemento pela posição na lista:\n",
    "lista1[0] = 10 # de 1 → para 10\n",
    "print(lista1)"
   ]
  },
  {
   "cell_type": "code",
   "execution_count": 20,
   "metadata": {},
   "outputs": [
    {
     "name": "stdout",
     "output_type": "stream",
     "text": [
      "[1, 2, 3, 4, 5, 6, 7, 8, 9, 10]\n",
      "[1, 2, 3, 4, 5, 6, 7, 8, 9, 10]\n",
      "[1, 2, 3, 4, 5, 6, 7, 8, 9, 10]\n",
      "[1, 2, 3, 4, 5, 6, 7, 8, 9, 10]\n",
      "[1, 2, 3, 4, 5, 6, 7, 8, 9, 10]\n",
      "[1, 2, 3, 4, 5, 6, 7, 8, 9, 10]\n",
      "[1, 2, 3, 4, 5, 6, 7, 8, 9, 10]\n",
      "[1, 2, 3, 4, 5, 6, 7, 8, 9, 10]\n",
      "[1, 2, 3, 4, 5, 6, 7, 8, 9, 10]\n",
      "[1, 2, 3, 4, 5, 6, 7, 8, 9, 10]\n",
      "\n",
      "\n",
      "1\n",
      "2\n",
      "3\n",
      "4\n",
      "5\n",
      "6\n",
      "7\n",
      "8\n",
      "9\n",
      "10\n",
      "\n",
      "\n",
      "2\n",
      "3\n",
      "4\n",
      "5\n",
      "6\n",
      "7\n",
      "8\n",
      "9\n",
      "10\n",
      "11\n"
     ]
    }
   ],
   "source": [
    "# Percorrendo a lista:\n",
    "for n in range(0, len(lista4)):\n",
    "    print(lista4)\n",
    "print('\\n')\n",
    "\n",
    "for n in range(0, len(lista4)):\n",
    "    print(lista4[n])\n",
    "print('\\n')\n",
    "\n",
    "for n in range(0, len(lista4)):\n",
    "    print(lista4[n]+1)"
   ]
  }
 ],
 "metadata": {
  "kernelspec": {
   "display_name": "Python 3",
   "language": "python",
   "name": "python3"
  },
  "language_info": {
   "codemirror_mode": {
    "name": "ipython",
    "version": 3
   },
   "file_extension": ".py",
   "mimetype": "text/x-python",
   "name": "python",
   "nbconvert_exporter": "python",
   "pygments_lexer": "ipython3",
   "version": "3.12.4"
  },
  "orig_nbformat": 4
 },
 "nbformat": 4,
 "nbformat_minor": 2
}

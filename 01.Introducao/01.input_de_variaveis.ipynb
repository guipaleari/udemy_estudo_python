{
 "cells": [
  {
   "cell_type": "markdown",
   "metadata": {},
   "source": [
    "# Variáveis e input de valores\n",
    "\n"
   ]
  },
  {
   "cell_type": "markdown",
   "metadata": {},
   "source": [
    "## **Varáveis:** são nomes que armazenam dados.\n",
    "💡 Para averiguar o tipo da variável, basta usar o comando \"type\":"
   ]
  },
  {
   "cell_type": "markdown",
   "metadata": {},
   "source": [
    "### Inteiro:\n",
    "\n"
   ]
  },
  {
   "cell_type": "code",
   "execution_count": 53,
   "metadata": {},
   "outputs": [
    {
     "name": "stdout",
     "output_type": "stream",
     "text": [
      "Inteiro: 1\n",
      "<class 'int'>\n"
     ]
    }
   ],
   "source": [
    "x = 1\n",
    "print('Inteiro:', x)\n",
    "print(type(x))"
   ]
  },
  {
   "cell_type": "markdown",
   "metadata": {},
   "source": [
    "### Float:\n",
    "\n"
   ]
  },
  {
   "cell_type": "code",
   "execution_count": 54,
   "metadata": {},
   "outputs": [
    {
     "name": "stdout",
     "output_type": "stream",
     "text": [
      "#Float: 1.1\n",
      "<class 'float'>\n"
     ]
    }
   ],
   "source": [
    "y = 1.1\n",
    "print('#Float:', y)\n",
    "print(type(y))"
   ]
  },
  {
   "cell_type": "markdown",
   "metadata": {},
   "source": [
    "### String:\n",
    "\n"
   ]
  },
  {
   "cell_type": "code",
   "execution_count": 55,
   "metadata": {},
   "outputs": [
    {
     "name": "stdout",
     "output_type": "stream",
     "text": [
      "#String: Python\n",
      "<class 'str'>\n"
     ]
    }
   ],
   "source": [
    "z = 'Python'\n",
    "print('#String:', z)\n",
    "print(type(z))"
   ]
  },
  {
   "cell_type": "markdown",
   "metadata": {},
   "source": [
    "### Lógica:\n",
    "\n"
   ]
  },
  {
   "cell_type": "code",
   "execution_count": 56,
   "metadata": {},
   "outputs": [
    {
     "name": "stdout",
     "output_type": "stream",
     "text": [
      "#Lógica: True\n",
      "#Lógica: False\n",
      "<class 'bool'> <class 'bool'>\n"
     ]
    }
   ],
   "source": [
    "a = True\n",
    "b = False\n",
    "print('#Lógica:', a)\n",
    "print('#Lógica:', b)\n",
    "print(type(a), type(b))\n"
   ]
  },
  {
   "cell_type": "markdown",
   "metadata": {},
   "source": [
    "#### ❇️ Exemplos:\n",
    "\n"
   ]
  },
  {
   "cell_type": "markdown",
   "metadata": {},
   "source": [
    "##### cálculo simples com variáveis\n",
    "\n"
   ]
  },
  {
   "cell_type": "code",
   "execution_count": 57,
   "metadata": {},
   "outputs": [
    {
     "name": "stdout",
     "output_type": "stream",
     "text": [
      "30.0\n"
     ]
    }
   ],
   "source": [
    "x = 10\n",
    "y = 20\n",
    "z = 100\n",
    "w = (x + y) * z /100\n",
    "print(w)"
   ]
  },
  {
   "cell_type": "markdown",
   "metadata": {},
   "source": [
    "##### cálculo simples com variáveis com exibição de texto no Terminal Console:\n",
    "\n",
    "\n"
   ]
  },
  {
   "cell_type": "code",
   "execution_count": 58,
   "metadata": {},
   "outputs": [
    {
     "name": "stdout",
     "output_type": "stream",
     "text": [
      "Este texto será exibido no console: \n",
      "10 \n",
      "\n",
      "Agora este texto com duas variáveis:  10  +  20  =  30\n"
     ]
    }
   ],
   "source": [
    "print('Este texto será exibido no console: ')\n",
    "print(x, '\\n') #'\\n' quebra de linha\n",
    "\n",
    "print('Agora este texto com duas variáveis: ', x, \" + \", y, ' = ', x+y)"
   ]
  },
  {
   "cell_type": "markdown",
   "metadata": {},
   "source": [
    "## **Input**: abre um campo para o usuário digitar algum valor que será armazenado dentro de uma variável"
   ]
  },
  {
   "cell_type": "markdown",
   "metadata": {},
   "source": [
    "### Entrada de valores para o usuário digitar:"
   ]
  },
  {
   "cell_type": "code",
   "execution_count": 59,
   "metadata": {},
   "outputs": [
    {
     "name": "stdout",
     "output_type": "stream",
     "text": [
      "Digite um número: \n",
      "<class 'str'>\n"
     ]
    }
   ],
   "source": [
    "print('Digite um número: ')\n",
    "i = input()\n",
    "print(type(i))"
   ]
  },
  {
   "cell_type": "markdown",
   "metadata": {},
   "source": [
    "#### De forma simplificada:"
   ]
  },
  {
   "cell_type": "code",
   "execution_count": 60,
   "metadata": {},
   "outputs": [
    {
     "name": "stdout",
     "output_type": "stream",
     "text": [
      "<class 'str'>\n"
     ]
    }
   ],
   "source": [
    "i = input(\"Digite um número: \")\n",
    "print(type(i))"
   ]
  },
  {
   "cell_type": "markdown",
   "metadata": {},
   "source": [
    "#### De forma mais simplificada ainda:"
   ]
  },
  {
   "cell_type": "code",
   "execution_count": 61,
   "metadata": {},
   "outputs": [
    {
     "name": "stdout",
     "output_type": "stream",
     "text": [
      "Digite um outro número:  10\n",
      "<class 'str'>\n"
     ]
    }
   ],
   "source": [
    "input(print(\"Digite um outro número: \", i))\n",
    "print(type(i))"
   ]
  },
  {
   "cell_type": "markdown",
   "metadata": {},
   "source": [
    "### Agora convertendo os valores inseridos:"
   ]
  },
  {
   "cell_type": "code",
   "execution_count": 62,
   "metadata": {},
   "outputs": [
    {
     "name": "stdout",
     "output_type": "stream",
     "text": [
      "<class 'str'>\n"
     ]
    }
   ],
   "source": [
    "var = input('Digite um outro valor novamente: ')\n",
    "print(type(var))"
   ]
  },
  {
   "cell_type": "markdown",
   "metadata": {},
   "source": [
    "#### Para inteiro:"
   ]
  },
  {
   "cell_type": "code",
   "execution_count": 63,
   "metadata": {},
   "outputs": [
    {
     "name": "stdout",
     "output_type": "stream",
     "text": [
      "<class 'int'>\n"
     ]
    }
   ],
   "source": [
    "var = int(var)\n",
    "print(type(var))"
   ]
  },
  {
   "cell_type": "markdown",
   "metadata": {},
   "source": [
    "#### Para decimal:"
   ]
  },
  {
   "cell_type": "code",
   "execution_count": 64,
   "metadata": {},
   "outputs": [
    {
     "name": "stdout",
     "output_type": "stream",
     "text": [
      "<class 'float'>\n"
     ]
    }
   ],
   "source": [
    "var = float(var)\n",
    "print(type(var))"
   ]
  },
  {
   "cell_type": "markdown",
   "metadata": {},
   "source": [
    "### Navegando no tipo de variáveis em texto (string):"
   ]
  },
  {
   "cell_type": "markdown",
   "metadata": {},
   "source": [
    "#### É como se o texto estivesse escrito em uma folha quadriculada, onde cada letra fica em um quadradinho (matriz)"
   ]
  },
  {
   "cell_type": "code",
   "execution_count": 77,
   "metadata": {},
   "outputs": [
    {
     "name": "stdout",
     "output_type": "stream",
     "text": [
      "<class 'str'>\n"
     ]
    }
   ],
   "source": [
    "nome = \"Guilherme Paleari\"\n",
    "print(type(nome))"
   ]
  },
  {
   "cell_type": "markdown",
   "metadata": {},
   "source": [
    "#### neste caso, é exibido todo o conteúdo"
   ]
  },
  {
   "cell_type": "code",
   "execution_count": 78,
   "metadata": {},
   "outputs": [
    {
     "name": "stdout",
     "output_type": "stream",
     "text": [
      "Guilherme Paleari\n"
     ]
    }
   ],
   "source": [
    "print(nome)"
   ]
  },
  {
   "cell_type": "markdown",
   "metadata": {},
   "source": [
    "#### aqui é exibido quadradinho por quadradinho"
   ]
  },
  {
   "cell_type": "code",
   "execution_count": 80,
   "metadata": {},
   "outputs": [
    {
     "name": "stdout",
     "output_type": "stream",
     "text": [
      "G\n",
      "u\n",
      "i\n",
      "P\n"
     ]
    }
   ],
   "source": [
    "print(nome[0]) \n",
    "print(nome[1]) \n",
    "print(nome[2]) \n",
    "print(nome[10]) "
   ]
  },
  {
   "cell_type": "markdown",
   "metadata": {},
   "source": [
    "#### aqui é exibida uma sequência finita de quadradinhos"
   ]
  },
  {
   "cell_type": "code",
   "execution_count": 81,
   "metadata": {},
   "outputs": [
    {
     "name": "stdout",
     "output_type": "stream",
     "text": [
      "Gui\n"
     ]
    }
   ],
   "source": [
    "print(nome[0:3]) #aqui é exibida uma sequência finita de quadradinhos"
   ]
  },
  {
   "cell_type": "markdown",
   "metadata": {},
   "source": [
    "#### aqui é exibida a partir de um quadradinho em diante"
   ]
  },
  {
   "cell_type": "code",
   "execution_count": 84,
   "metadata": {},
   "outputs": [
    {
     "name": "stdout",
     "output_type": "stream",
     "text": [
      "Paleari\n"
     ]
    }
   ],
   "source": [
    "print(nome[10:])"
   ]
  },
  {
   "cell_type": "markdown",
   "metadata": {},
   "source": [
    "#### aqui conta a quantidade de quadradinhos\n",
    "⚠️ incluindo espaços e caracteres especiais"
   ]
  },
  {
   "cell_type": "code",
   "execution_count": 85,
   "metadata": {},
   "outputs": [
    {
     "name": "stdout",
     "output_type": "stream",
     "text": [
      "17\n"
     ]
    }
   ],
   "source": [
    "print(len(nome)) "
   ]
  },
  {
   "cell_type": "markdown",
   "metadata": {},
   "source": [
    "#### aqui padrozinha a Caixa Alta em maiúsculo, minúsculo ou mesclado"
   ]
  },
  {
   "cell_type": "code",
   "execution_count": 87,
   "metadata": {},
   "outputs": [
    {
     "name": "stdout",
     "output_type": "stream",
     "text": [
      "guilherme paleari\n",
      "GUILHERME PALEARI\n",
      "Guilherme paleari\n"
     ]
    }
   ],
   "source": [
    "print(nome.lower()) #tudo minúsculo\n",
    "print(nome.upper()) #tudo maiúsculo\n",
    "print(nome.capitalize()) #primeira maiúscula"
   ]
  },
  {
   "cell_type": "markdown",
   "metadata": {},
   "source": []
  },
  {
   "cell_type": "code",
   "execution_count": 72,
   "metadata": {},
   "outputs": [
    {
     "name": "stdout",
     "output_type": "stream",
     "text": [
      "Paulo\n",
      "10\n",
      "joão paulo\n",
      "JOÃO PAULO\n",
      "João paulo\n",
      "True\n",
      "3\n",
      "2\n",
      "True\n",
      "False\n"
     ]
    }
   ],
   "source": [
    "print(nome[5:])\n",
    "print(len(nome)) #aqui conta a quantidade de quadradinhos\n",
    "print(nome.lower()) #aqui padrozinha o conteúdo todo em minúsculo\n",
    "print(nome.upper()) #aqui padrozinha o conteúdo todo em maiúsculo\n",
    "print(nome.capitalize()) #aqui deixa apenas a primeira em maiúscula\n",
    "print('J' in nome) #valida se há 'J' no nome\n",
    "print(nome.count('o')) #conta a quantidade de 'o' no nome\n",
    "print(nome.count('a') + nome.count('ã')) #soma a quantidade de caracteres diferentes\n",
    "print(nome.startswith('J')) #valida se o conteúdo começa com J\n",
    "print(nome.endswith('J')) #valida se o conteúdo termina com J"
   ]
  },
  {
   "cell_type": "markdown",
   "metadata": {},
   "source": []
  },
  {
   "cell_type": "code",
   "execution_count": 73,
   "metadata": {},
   "outputs": [
    {
     "name": "stdout",
     "output_type": "stream",
     "text": [
      "Paulo\n",
      "10\n",
      "joão paulo\n",
      "JOÃO PAULO\n",
      "João paulo\n",
      "True\n",
      "3\n",
      "2\n",
      "True\n",
      "False\n"
     ]
    }
   ],
   "source": [
    "print(nome[5:])\n",
    "print(len(nome)) #aqui conta a quantidade de quadradinhos\n",
    "print(nome.lower()) #aqui padrozinha o conteúdo todo em minúsculo\n",
    "print(nome.upper()) #aqui padrozinha o conteúdo todo em maiúsculo\n",
    "print(nome.capitalize()) #aqui deixa apenas a primeira em maiúscula\n",
    "print('J' in nome) #valida se há 'J' no nome\n",
    "print(nome.count('o')) #conta a quantidade de 'o' no nome\n",
    "print(nome.count('a') + nome.count('ã')) #soma a quantidade de caracteres diferentes\n",
    "print(nome.startswith('J')) #valida se o conteúdo começa com J\n",
    "print(nome.endswith('J')) #valida se o conteúdo termina com J"
   ]
  },
  {
   "cell_type": "markdown",
   "metadata": {},
   "source": []
  },
  {
   "cell_type": "code",
   "execution_count": 74,
   "metadata": {},
   "outputs": [
    {
     "name": "stdout",
     "output_type": "stream",
     "text": [
      "Paulo\n",
      "10\n",
      "joão paulo\n",
      "JOÃO PAULO\n",
      "João paulo\n",
      "True\n",
      "3\n",
      "2\n",
      "True\n",
      "False\n"
     ]
    }
   ],
   "source": [
    "print(nome[5:])\n",
    "print(len(nome)) #aqui conta a quantidade de quadradinhos\n",
    "print(nome.lower()) #aqui padrozinha o conteúdo todo em minúsculo\n",
    "print(nome.upper()) #aqui padrozinha o conteúdo todo em maiúsculo\n",
    "print(nome.capitalize()) #aqui deixa apenas a primeira em maiúscula\n",
    "print('J' in nome) #valida se há 'J' no nome\n",
    "print(nome.count('o')) #conta a quantidade de 'o' no nome\n",
    "print(nome.count('a') + nome.count('ã')) #soma a quantidade de caracteres diferentes\n",
    "print(nome.startswith('J')) #valida se o conteúdo começa com J\n",
    "print(nome.endswith('J')) #valida se o conteúdo termina com J"
   ]
  },
  {
   "cell_type": "markdown",
   "metadata": {},
   "source": []
  },
  {
   "cell_type": "code",
   "execution_count": 75,
   "metadata": {},
   "outputs": [
    {
     "name": "stdout",
     "output_type": "stream",
     "text": [
      "Paulo\n",
      "10\n",
      "joão paulo\n",
      "JOÃO PAULO\n",
      "João paulo\n",
      "True\n",
      "3\n",
      "2\n",
      "True\n",
      "False\n"
     ]
    }
   ],
   "source": [
    "print(nome[5:])\n",
    "print(len(nome)) #aqui conta a quantidade de quadradinhos\n",
    "print(nome.lower()) #aqui padrozinha o conteúdo todo em minúsculo\n",
    "print(nome.upper()) #aqui padrozinha o conteúdo todo em maiúsculo\n",
    "print(nome.capitalize()) #aqui deixa apenas a primeira em maiúscula\n",
    "print('J' in nome) #valida se há 'J' no nome\n",
    "print(nome.count('o')) #conta a quantidade de 'o' no nome\n",
    "print(nome.count('a') + nome.count('ã')) #soma a quantidade de caracteres diferentes\n",
    "print(nome.startswith('J')) #valida se o conteúdo começa com J\n",
    "print(nome.endswith('J')) #valida se o conteúdo termina com J"
   ]
  },
  {
   "cell_type": "markdown",
   "metadata": {},
   "source": []
  },
  {
   "cell_type": "code",
   "execution_count": 76,
   "metadata": {},
   "outputs": [
    {
     "name": "stdout",
     "output_type": "stream",
     "text": [
      "Paulo\n",
      "10\n",
      "joão paulo\n",
      "JOÃO PAULO\n",
      "João paulo\n",
      "True\n",
      "3\n",
      "2\n",
      "True\n",
      "False\n"
     ]
    }
   ],
   "source": [
    "print(nome[5:])\n",
    "print(len(nome)) #aqui conta a quantidade de quadradinhos\n",
    "print(nome.lower()) #aqui padrozinha o conteúdo todo em minúsculo\n",
    "print(nome.upper()) #aqui padrozinha o conteúdo todo em maiúsculo\n",
    "print(nome.capitalize()) #aqui deixa apenas a primeira em maiúscula\n",
    "print('J' in nome) #valida se há 'J' no nome\n",
    "print(nome.count('o')) #conta a quantidade de 'o' no nome\n",
    "print(nome.count('a') + nome.count('ã')) #soma a quantidade de caracteres diferentes\n",
    "print(nome.startswith('J')) #valida se o conteúdo começa com J\n",
    "print(nome.endswith('J')) #valida se o conteúdo termina com J"
   ]
  }
 ],
 "metadata": {
  "kernelspec": {
   "display_name": "Python 3",
   "language": "python",
   "name": "python3"
  },
  "language_info": {
   "codemirror_mode": {
    "name": "ipython",
    "version": 3
   },
   "file_extension": ".py",
   "mimetype": "text/x-python",
   "name": "python",
   "nbconvert_exporter": "python",
   "pygments_lexer": "ipython3",
   "version": "3.12.4"
  },
  "orig_nbformat": 4,
  "vscode": {
   "interpreter": {
    "hash": "5238573367df39f7286bb46f9ff5f08f63a01a80960060ce41e3c79b190280fa"
   }
  }
 },
 "nbformat": 4,
 "nbformat_minor": 2
}

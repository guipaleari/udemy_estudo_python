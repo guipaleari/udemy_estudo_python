{
 "cells": [
  {
   "cell_type": "markdown",
   "metadata": {},
   "source": [
    "# Lista, Tupla, Set (conjunto) e Dicionário\n",
    "\n",
    "<img src = \"https://miro.medium.com/v2/resize:fit:820/1*Bx2CVgoDxRk4ud85UzS4xA.png\"\n",
    "    width = \"500\"\n",
    "    height = \"400\" />\n",
    "\n"
   ]
  },
  {
   "cell_type": "markdown",
   "metadata": {},
   "source": [
    "## Listas \n",
    "\n",
    "Imagine que você tem uma fileira de brinquedos bem organizados e cada brinquedo tem seu lugar exato onde você pode adicionar ou remover brinquedos de qualquer posição na fileira e você também pode ter brinquedos repetidos.\n",
    "\n",
    "**Quando usar:** Quando você precisa de uma coleção ordenada de itens que pode mudar de tamanho e onde duplicatas são permitidas.\n",
    "\n",
    "**Definição:** Coleção ordenada de itens que pode conter duplicatas.\n",
    "\n",
    "**Sintaxe:** `[item1, item2, item3]`\n",
    "\n",
    "**Exemplo:** \n",
    "\n",
    "minha_lista = [\"carro\", \"boneca\", \"bola\", \"carro\"]\n",
    "\n",
    "**Uso:** Guardar uma sequência de itens que pode ser acessada e modificada facilmente, além de permitir duplicatas e alterações de tamanho."
   ]
  },
  {
   "cell_type": "markdown",
   "metadata": {},
   "source": [
    "### Criando Listas:"
   ]
  },
  {
   "cell_type": "markdown",
   "metadata": {},
   "source": [
    "#### Lista de números"
   ]
  },
  {
   "cell_type": "code",
   "execution_count": null,
   "metadata": {},
   "outputs": [
    {
     "name": "stdout",
     "output_type": "stream",
     "text": [
      "Lista de números:  [1, 2, 3, 4, 5] \n",
      "\n"
     ]
    }
   ],
   "source": [
    "numeros = [1, 2, 3, 4, 5]\n",
    "print(\"Lista de números: \", numeros, \"\\n\")"
   ]
  },
  {
   "cell_type": "markdown",
   "metadata": {},
   "source": [
    "#### Lista de strings"
   ]
  },
  {
   "cell_type": "code",
   "execution_count": null,
   "metadata": {},
   "outputs": [
    {
     "name": "stdout",
     "output_type": "stream",
     "text": [
      "Lista de nomes:  ['Ana', 'Bruno', 'Carlos']\n"
     ]
    }
   ],
   "source": [
    "nomes = [\"Ana\", \"Bruno\", \"Carlos\"]\n",
    "print(\"Lista de nomes: \", nomes)"
   ]
  },
  {
   "cell_type": "markdown",
   "metadata": {},
   "source": [
    "#### Lista mista"
   ]
  },
  {
   "cell_type": "code",
   "execution_count": null,
   "metadata": {},
   "outputs": [
    {
     "name": "stdout",
     "output_type": "stream",
     "text": [
      "Lista de números:  [1, 'Olá', 3.5, True]\n"
     ]
    }
   ],
   "source": [
    "mista = [1, \"Olá\", 3.5, True]\n",
    "print(\"Lista de números: \", mista)"
   ]
  },
  {
   "cell_type": "markdown",
   "metadata": {},
   "source": [
    "### Acessando Elementos:"
   ]
  },
  {
   "cell_type": "markdown",
   "metadata": {},
   "source": [
    "#### Acessa o primeiro elemento"
   ]
  },
  {
   "cell_type": "code",
   "execution_count": null,
   "metadata": {},
   "outputs": [
    {
     "name": "stdout",
     "output_type": "stream",
     "text": [
      "Ana\n"
     ]
    }
   ],
   "source": [
    "print(nomes[0])  # Output: Ana"
   ]
  },
  {
   "cell_type": "markdown",
   "metadata": {},
   "source": [
    "#### Acessa o segundo elemento"
   ]
  },
  {
   "cell_type": "code",
   "execution_count": null,
   "metadata": {},
   "outputs": [
    {
     "name": "stdout",
     "output_type": "stream",
     "text": [
      "Bruno\n"
     ]
    }
   ],
   "source": [
    "print(nomes[1])  # Output: Ana"
   ]
  },
  {
   "cell_type": "markdown",
   "metadata": {},
   "source": [
    "#### Acessa o último elemento"
   ]
  },
  {
   "cell_type": "code",
   "execution_count": null,
   "metadata": {},
   "outputs": [
    {
     "name": "stdout",
     "output_type": "stream",
     "text": [
      "Carlos\n"
     ]
    }
   ],
   "source": [
    "print(nomes[-1])  # Output: Carlos"
   ]
  },
  {
   "cell_type": "markdown",
   "metadata": {},
   "source": [
    "### Modificando Listas:"
   ]
  },
  {
   "cell_type": "markdown",
   "metadata": {},
   "source": [
    "#### Modifica o segundo elemento"
   ]
  },
  {
   "cell_type": "code",
   "execution_count": null,
   "metadata": {},
   "outputs": [
    {
     "name": "stdout",
     "output_type": "stream",
     "text": [
      "['Ana', 'Beatriz', 'Carlos']\n"
     ]
    }
   ],
   "source": [
    "nomes[1] = \"Beatriz\"\n",
    "print(nomes)  # Output: [\"Ana\", \"Beatriz\", \"Carlos\"]"
   ]
  },
  {
   "cell_type": "markdown",
   "metadata": {},
   "source": [
    "#### Adiciona um elemento ao final"
   ]
  },
  {
   "cell_type": "code",
   "execution_count": null,
   "metadata": {},
   "outputs": [
    {
     "name": "stdout",
     "output_type": "stream",
     "text": [
      "['Ana', 'Beatriz', 'Carlos', 'Daniel']\n"
     ]
    }
   ],
   "source": [
    "nomes.append(\"Daniel\")\n",
    "print(nomes)  # Output: [\"Ana\", \"Beatriz\", \"Carlos\", \"Daniel\"]"
   ]
  },
  {
   "cell_type": "markdown",
   "metadata": {},
   "source": [
    "### Removendo Elementos:"
   ]
  },
  {
   "cell_type": "markdown",
   "metadata": {},
   "source": [
    "#### Remove o segundo elemento"
   ]
  },
  {
   "cell_type": "code",
   "execution_count": null,
   "metadata": {},
   "outputs": [
    {
     "name": "stdout",
     "output_type": "stream",
     "text": [
      "['Ana', 'Carlos', 'Daniel']\n"
     ]
    }
   ],
   "source": [
    "nomes.pop(1)\n",
    "print(nomes)  # Output: [\"Ana\", \"Carlos\", \"Daniel\"]"
   ]
  },
  {
   "cell_type": "markdown",
   "metadata": {},
   "source": [
    "#### Remove um elemento específico"
   ]
  },
  {
   "cell_type": "code",
   "execution_count": null,
   "metadata": {},
   "outputs": [
    {
     "name": "stdout",
     "output_type": "stream",
     "text": [
      "['Ana', 'Daniel']\n"
     ]
    }
   ],
   "source": [
    "nomes.remove(\"Carlos\")\n",
    "print(nomes)  # Output: [\"Ana\", \"Daniel\"]"
   ]
  },
  {
   "cell_type": "markdown",
   "metadata": {},
   "source": [
    "### Iterando sobre Listas:"
   ]
  },
  {
   "cell_type": "code",
   "execution_count": null,
   "metadata": {},
   "outputs": [
    {
     "name": "stdout",
     "output_type": "stream",
     "text": [
      "Ana\n",
      "Daniel\n"
     ]
    }
   ],
   "source": [
    "for nome in nomes:\n",
    "    print(nome)\n",
    "# Output:\n",
    "# Ana\n",
    "# Daniel\n"
   ]
  },
  {
   "cell_type": "markdown",
   "metadata": {},
   "source": [
    "### Funções Úteis:"
   ]
  },
  {
   "cell_type": "markdown",
   "metadata": {},
   "source": [
    "#### Tamanho da lista"
   ]
  },
  {
   "cell_type": "code",
   "execution_count": null,
   "metadata": {},
   "outputs": [
    {
     "name": "stdout",
     "output_type": "stream",
     "text": [
      "2\n"
     ]
    }
   ],
   "source": [
    "print(len(nomes))  # Output: 2"
   ]
  },
  {
   "cell_type": "markdown",
   "metadata": {},
   "source": [
    "#### Verifica se um item está na lista"
   ]
  },
  {
   "cell_type": "code",
   "execution_count": null,
   "metadata": {},
   "outputs": [
    {
     "name": "stdout",
     "output_type": "stream",
     "text": [
      "True\n"
     ]
    }
   ],
   "source": [
    "print(\"Ana\" in nomes)  # Output: True"
   ]
  },
  {
   "cell_type": "markdown",
   "metadata": {},
   "source": [
    "#### Ordena a lista"
   ]
  },
  {
   "cell_type": "code",
   "execution_count": null,
   "metadata": {},
   "outputs": [
    {
     "name": "stdout",
     "output_type": "stream",
     "text": [
      "[1, 2, 3, 4, 5]\n"
     ]
    }
   ],
   "source": [
    "numeros.sort()\n",
    "print(numeros)  # Output: [1, 2, 3, 4, 5]"
   ]
  },
  {
   "cell_type": "markdown",
   "metadata": {},
   "source": [
    "### Mais Funções Úteis: em resumo"
   ]
  },
  {
   "cell_type": "markdown",
   "metadata": {},
   "source": [
    "#### criar listas"
   ]
  },
  {
   "cell_type": "code",
   "execution_count": null,
   "metadata": {},
   "outputs": [
    {
     "name": "stdout",
     "output_type": "stream",
     "text": [
      "Lista 1:  [1, 2, 3, 4, 5]\n",
      "Lista 2:  [1, 2.1, '3', '4', True]\n",
      "Lista 3:  [1, 2.1, [11, 12, 13], 'a', False]\n",
      "Lista 4:  [1, 2, 3, 4, 5, 6, 7, 8, 9, 10]\n",
      " Tamanho da lista 1:  5 \n",
      " Tamanho da lista 2:  5 \n",
      " Tamanho da lista 3:  5  ← a lista dentro da lista é considerada um único elemento\n",
      " Tamanho da lista 4:  10\n"
     ]
    }
   ],
   "source": [
    "# Lista simples:\n",
    "lista1 = [1, 2, 3, 4, 5]\n",
    "print('Lista 1: ', lista1)\n",
    "\n",
    "# Lista mista:\n",
    "lista2 = [1, 2.1, \"3\", '4', True]\n",
    "print('Lista 2: ',lista2)\n",
    "\n",
    "# Lista mista com lista dentro:\n",
    "lista3 = [1, 2.1, [11, 12, 13], 'a', False]\n",
    "print('Lista 3: ', lista3)\n",
    "\n",
    "# Lista usando o RANGE:\n",
    "lista4 = list(range(1, 11))\n",
    "print('Lista 4: ', lista4)\n",
    "\n",
    "# Medir o comprimento da lista:\n",
    "print(' Tamanho da lista 1: ', len(lista1), '\\n',\n",
    "'Tamanho da lista 2: ', len(lista2), '\\n',\n",
    "'Tamanho da lista 3: ', len(lista3), ' ← a lista dentro da lista é considerada um único elemento\\n',\n",
    "'Tamanho da lista 4: ', len(lista4))"
   ]
  },
  {
   "cell_type": "markdown",
   "metadata": {},
   "source": [
    "#### Acessar um elemento da lista:"
   ]
  },
  {
   "cell_type": "code",
   "execution_count": null,
   "metadata": {},
   "outputs": [
    {
     "name": "stdout",
     "output_type": "stream",
     "text": [
      "Acessando o primeiro item na posição zero:  1 \n",
      "\n",
      "Acessando o segundo item na posição um:  2.1 \n",
      "\n",
      "Acessando o terceiro item na posição dois:  [11, 12, 13] \n",
      "(trazendo a lista dentro da lista)\n"
     ]
    }
   ],
   "source": [
    "print('Acessando o primeiro item na posição zero: ', lista1[0], '\\n')\n",
    "print('Acessando o segundo item na posição um: ', lista2[1], '\\n')\n",
    "print('Acessando o terceiro item na posição dois: ', lista3[2], '\\n(trazendo a lista dentro da lista)')"
   ]
  },
  {
   "cell_type": "markdown",
   "metadata": {},
   "source": [
    "#### Alterando determinado elemento pela posição na lista:"
   ]
  },
  {
   "cell_type": "code",
   "execution_count": null,
   "metadata": {},
   "outputs": [
    {
     "name": "stdout",
     "output_type": "stream",
     "text": [
      "[10, 2, 3, 4, 5]\n"
     ]
    }
   ],
   "source": [
    "lista1[0] = 10 # de 1 → para 10\n",
    "print(lista1)"
   ]
  },
  {
   "cell_type": "markdown",
   "metadata": {},
   "source": [
    "#### Percorrendo a lista:"
   ]
  },
  {
   "cell_type": "code",
   "execution_count": null,
   "metadata": {},
   "outputs": [
    {
     "name": "stdout",
     "output_type": "stream",
     "text": [
      "[1, 2, 3, 4, 5, 6, 7, 8, 9, 10]\n",
      "[1, 2, 3, 4, 5, 6, 7, 8, 9, 10]\n",
      "[1, 2, 3, 4, 5, 6, 7, 8, 9, 10]\n",
      "[1, 2, 3, 4, 5, 6, 7, 8, 9, 10]\n",
      "[1, 2, 3, 4, 5, 6, 7, 8, 9, 10]\n",
      "[1, 2, 3, 4, 5, 6, 7, 8, 9, 10]\n",
      "[1, 2, 3, 4, 5, 6, 7, 8, 9, 10]\n",
      "[1, 2, 3, 4, 5, 6, 7, 8, 9, 10]\n",
      "[1, 2, 3, 4, 5, 6, 7, 8, 9, 10]\n",
      "[1, 2, 3, 4, 5, 6, 7, 8, 9, 10]\n",
      "\n",
      "\n",
      "1\n",
      "2\n",
      "3\n",
      "4\n",
      "5\n",
      "6\n",
      "7\n",
      "8\n",
      "9\n",
      "10\n",
      "\n",
      "\n",
      "2\n",
      "3\n",
      "4\n",
      "5\n",
      "6\n",
      "7\n",
      "8\n",
      "9\n",
      "10\n",
      "11\n"
     ]
    }
   ],
   "source": [
    "for n in range(0, len(lista4)):\n",
    "    print(lista4)\n",
    "print('\\n')\n",
    "\n",
    "for n in range(0, len(lista4)):\n",
    "    print(lista4[n])\n",
    "print('\\n')\n",
    "\n",
    "for n in range(0, len(lista4)):\n",
    "    print(lista4[n]+1)"
   ]
  },
  {
   "cell_type": "markdown",
   "metadata": {},
   "source": [
    "## Tupla:\n",
    "Uma tupla é como uma fila de brinquedos que você não pode mudar. Eles estão todos em uma ordem fixa, e essa ordem nunca vai mudar.\n",
    "\n",
    "**Quando usar:** Quando você tem uma sequência de brinquedos que nunca vai mudar.\n",
    "\n",
    "**Definição:** Coleção ordenada e imutável de itens.\n",
    "\n",
    "**Sintaxe:** `(item1, item2, item3)`\n",
    "\n",
    "**Exemplo:**\n",
    "\n",
    "`minha_tupla = (10, 20, 30)`\n",
    "\n",
    "**Uso:** Armazenar dados que não devem mudar.\n"
   ]
  },
  {
   "cell_type": "markdown",
   "metadata": {},
   "source": [
    "## Set (conjunto):\n",
    "\n",
    "Um set é como um baú de tesouros onde cada brinquedo é único e não importa a ordem, mas você nunca terá dois brinquedos iguais lá dentro.\n",
    "\n",
    "**Quando usar:** Quando você quer ter certeza de que não há brinquedos repetidos.\n",
    "\n",
    "**Definição:** Coleção não ordenada de itens únicos.\n",
    "\n",
    "**Sintaxe:** `{item1, item2, item3}`\n",
    "\n",
    "**Exemplo:**\n",
    "\n",
    "`meu_set = {1, 2, 3, 4, 5}`\n",
    "\n",
    "**Uso:** Remover duplicatas, operações matemáticas como união e interseção."
   ]
  },
  {
   "cell_type": "markdown",
   "metadata": {},
   "source": [
    "## Dicionário:\n",
    "\n",
    "Um dicionário é como uma caixa com divisórias e etiquetas, onde cada divisão tem uma etiqueta (chave) e, dentro, tem um brinquedo específico (valor).\n",
    "Para encontrar um brinquedo, basta olhar a etiqueta e pronto!\n",
    "\n",
    "**Quando usar:** Quando você precisa encontrar e guardar brinquedos específicos rapidamente.\n",
    "\n",
    "**Definição:** Coleção de pares chave-valor.\n",
    "\n",
    "**Sintaxe:** `{chave: valor, chave2: valor2}`\n",
    "\n",
    "**Exemplo:**\n",
    "\n",
    "`meu_dict = {\"nome\": \"Ana\", \"idade\": 25}`\n",
    "\n",
    "**Uso:** Rápido acesso a dados através de chaves únicas."
   ]
  },
  {
   "cell_type": "markdown",
   "metadata": {},
   "source": [
    "### ❇️ **Exemplo:**"
   ]
  },
  {
   "cell_type": "code",
   "execution_count": 5,
   "metadata": {},
   "outputs": [
    {
     "name": "stdout",
     "output_type": "stream",
     "text": [
      "{'João': 6.0, 'Maria': 8.0, 'Pedro': 6.5} \n",
      "\n"
     ]
    }
   ],
   "source": [
    "notas = {'João': 6.0, 'Maria': 8.0, 'Pedro': 6.5}\n",
    "print(notas,'\\n')"
   ]
  },
  {
   "cell_type": "markdown",
   "metadata": {},
   "source": [
    "### Exibir o valor do elemento de acordo com a chave:"
   ]
  },
  {
   "cell_type": "code",
   "execution_count": 6,
   "metadata": {},
   "outputs": [
    {
     "name": "stdout",
     "output_type": "stream",
     "text": [
      "6.0\n",
      "8.0\n",
      "6.5\n"
     ]
    }
   ],
   "source": [
    "print(notas['João'])\n",
    "print(notas['Maria'])\n",
    "print(notas['Pedro'])"
   ]
  },
  {
   "cell_type": "markdown",
   "metadata": {},
   "source": [
    "### Exibir apenas as chaves do dicionário → KEYS:"
   ]
  },
  {
   "cell_type": "code",
   "execution_count": 7,
   "metadata": {},
   "outputs": [
    {
     "data": {
      "text/plain": [
       "dict_keys(['João', 'Maria', 'Pedro'])"
      ]
     },
     "execution_count": 7,
     "metadata": {},
     "output_type": "execute_result"
    }
   ],
   "source": [
    "notas.keys()"
   ]
  },
  {
   "cell_type": "markdown",
   "metadata": {},
   "source": [
    "### Exibir apenas os valores do dicionário → VALUES:"
   ]
  },
  {
   "cell_type": "code",
   "execution_count": 8,
   "metadata": {},
   "outputs": [
    {
     "data": {
      "text/plain": [
       "dict_values([6.0, 8.0, 6.5])"
      ]
     },
     "execution_count": 8,
     "metadata": {},
     "output_type": "execute_result"
    }
   ],
   "source": [
    "notas.values()"
   ]
  },
  {
   "cell_type": "markdown",
   "metadata": {},
   "source": [
    "### Testar logicamente a existência de elementos no dicionário:"
   ]
  },
  {
   "cell_type": "code",
   "execution_count": 9,
   "metadata": {},
   "outputs": [
    {
     "name": "stdout",
     "output_type": "stream",
     "text": [
      "True\n",
      "False\n"
     ]
    }
   ],
   "source": [
    "print('João' in notas)\n",
    "print('Fernando' in notas)"
   ]
  },
  {
   "cell_type": "markdown",
   "metadata": {},
   "source": [
    "### Deletar um elemento do dicionário → DEL:"
   ]
  },
  {
   "cell_type": "code",
   "execution_count": 10,
   "metadata": {},
   "outputs": [
    {
     "name": "stdout",
     "output_type": "stream",
     "text": [
      "{'Maria': 8.0, 'Pedro': 6.5}\n"
     ]
    }
   ],
   "source": [
    "del notas['João']\n",
    "print(notas)"
   ]
  },
  {
   "cell_type": "markdown",
   "metadata": {},
   "source": [
    "### Incluir um elemento ao dicionário:"
   ]
  },
  {
   "cell_type": "code",
   "execution_count": 11,
   "metadata": {},
   "outputs": [
    {
     "name": "stdout",
     "output_type": "stream",
     "text": [
      "{'Maria': 8.0, 'Pedro': 6.5, 'Ana': 9}\n"
     ]
    }
   ],
   "source": [
    "notas['Ana'] = 9\n",
    "print(notas)"
   ]
  },
  {
   "cell_type": "markdown",
   "metadata": {},
   "source": [
    "### Buscar um valor e, se não encontrar, mostrar um segundo parâmetro → GET:"
   ]
  },
  {
   "cell_type": "code",
   "execution_count": 12,
   "metadata": {},
   "outputs": [
    {
     "data": {
      "text/plain": [
       "'Não encontrado.'"
      ]
     },
     "execution_count": 12,
     "metadata": {},
     "output_type": "execute_result"
    }
   ],
   "source": [
    "notas.get('Ana', \"Não encontrado.\") #traz a nota 9\n",
    "notas.get('Geraldo', \"Não encontrado.\")"
   ]
  },
  {
   "cell_type": "markdown",
   "metadata": {},
   "source": [
    "### ❇️ Exemplo:\n",
    "Lembrando que Sets são conjuntos não ordenados de elementos NÃO repetidos:"
   ]
  },
  {
   "cell_type": "code",
   "execution_count": 13,
   "metadata": {},
   "outputs": [
    {
     "name": "stdout",
     "output_type": "stream",
     "text": [
      "{'Sqoop', 'Hive', 'Spark'}\n"
     ]
    }
   ],
   "source": [
    "bigdata = {'Spark', 'Hive', 'Sqoop'} # ← tal como o dicionário, usá-se a estrutura de chaves\n",
    "print(bigdata)"
   ]
  },
  {
   "cell_type": "markdown",
   "metadata": {},
   "source": [
    "### Verificar existência de elemento no SETS:"
   ]
  },
  {
   "cell_type": "code",
   "execution_count": 14,
   "metadata": {},
   "outputs": [
    {
     "name": "stdout",
     "output_type": "stream",
     "text": [
      "True\n"
     ]
    }
   ],
   "source": [
    "print('Spark' in bigdata)"
   ]
  },
  {
   "cell_type": "markdown",
   "metadata": {},
   "source": [
    "### Adicionar elemento no Set → ADD:"
   ]
  },
  {
   "cell_type": "code",
   "execution_count": 15,
   "metadata": {},
   "outputs": [
    {
     "data": {
      "text/plain": [
       "{'Hadoop', 'Hive', 'Spark', 'Sqoop'}"
      ]
     },
     "execution_count": 15,
     "metadata": {},
     "output_type": "execute_result"
    }
   ],
   "source": [
    "bigdata.add('Hadoop')\n",
    "bigdata"
   ]
  },
  {
   "cell_type": "markdown",
   "metadata": {},
   "source": [
    "### Mensurar o número de elementos:"
   ]
  },
  {
   "cell_type": "code",
   "execution_count": 16,
   "metadata": {},
   "outputs": [
    {
     "name": "stdout",
     "output_type": "stream",
     "text": [
      "4\n"
     ]
    }
   ],
   "source": [
    "print(len(bigdata))"
   ]
  },
  {
   "cell_type": "code",
   "execution_count": 17,
   "metadata": {},
   "outputs": [
    {
     "data": {
      "text/plain": [
       "{'Hadoop', 'Hive', 'Spark', 'Sqoop'}"
      ]
     },
     "execution_count": 17,
     "metadata": {},
     "output_type": "execute_result"
    }
   ],
   "source": [
    "bigdata.add('Spark')\n",
    "bigdata"
   ]
  },
  {
   "cell_type": "markdown",
   "metadata": {},
   "source": [
    "### ❇️ **Exemplo:**\n",
    "São listas que não podem ser alteradas"
   ]
  },
  {
   "cell_type": "code",
   "execution_count": 18,
   "metadata": {},
   "outputs": [
    {
     "data": {
      "text/plain": [
       "(1, 2, 3, 4, 5, 6, 7)"
      ]
     },
     "execution_count": 18,
     "metadata": {},
     "output_type": "execute_result"
    }
   ],
   "source": [
    "## ⚠️ listas usam [] e tuplas usam () \n",
    "tupla = (1, 2, 3, 4, 5, 6, 7)\n",
    "tupla"
   ]
  },
  {
   "cell_type": "markdown",
   "metadata": {},
   "source": [
    "### Resgatar elemento da tupla por posição:"
   ]
  },
  {
   "cell_type": "code",
   "execution_count": 19,
   "metadata": {},
   "outputs": [
    {
     "name": "stdout",
     "output_type": "stream",
     "text": [
      "O elemento na quarta posição, a partir de zero, é:  5\n"
     ]
    }
   ],
   "source": [
    "print('O elemento na quarta posição, a partir de zero, é: ', tupla[4]) # ← lembrando que se começa em zero"
   ]
  },
  {
   "cell_type": "markdown",
   "metadata": {},
   "source": [
    "### Dicionário em que cada chave é uma tupla que recebe um valor único:"
   ]
  },
  {
   "cell_type": "code",
   "execution_count": 20,
   "metadata": {},
   "outputs": [
    {
     "data": {
      "text/plain": [
       "{(0, 1): 0,\n",
       " (1, 2): 1,\n",
       " (2, 3): 2,\n",
       " (3, 4): 3,\n",
       " (4, 5): 4,\n",
       " (5, 6): 5,\n",
       " (6, 7): 6,\n",
       " (7, 8): 7,\n",
       " (8, 9): 8,\n",
       " (9, 10): 9}"
      ]
     },
     "execution_count": 20,
     "metadata": {},
     "output_type": "execute_result"
    }
   ],
   "source": [
    "dicionario = {(0, 1): 0, (1, 2): 1, (2, 3): 2, (3, 4): 3, (4, 5): 4, (5, 6): 5, (6, 7): 6, (7, 8): 7, (8, 9): 8, (9, 10): 9}\n",
    "dicionario"
   ]
  },
  {
   "cell_type": "markdown",
   "metadata": {},
   "source": [
    "### Verificar o TYPE:"
   ]
  },
  {
   "cell_type": "code",
   "execution_count": 21,
   "metadata": {},
   "outputs": [
    {
     "name": "stdout",
     "output_type": "stream",
     "text": [
      "<class 'dict'>\n",
      "<class 'set'>\n",
      "<class 'tuple'>\n",
      "<class 'dict'>\n"
     ]
    }
   ],
   "source": [
    "print(type(notas))\n",
    "print(type(bigdata))\n",
    "print(type(tupla))\n",
    "print(type(dicionario))"
   ]
  }
 ],
 "metadata": {
  "kernelspec": {
   "display_name": "Python 3",
   "language": "python",
   "name": "python3"
  },
  "language_info": {
   "codemirror_mode": {
    "name": "ipython",
    "version": 3
   },
   "file_extension": ".py",
   "mimetype": "text/x-python",
   "name": "python",
   "nbconvert_exporter": "python",
   "pygments_lexer": "ipython3",
   "version": "3.12.4"
  },
  "orig_nbformat": 4
 },
 "nbformat": 4,
 "nbformat_minor": 2
}

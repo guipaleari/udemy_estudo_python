{
 "cells": [
  {
   "cell_type": "markdown",
   "metadata": {},
   "source": [
    "# Loc e iLoc"
   ]
  },
  {
   "cell_type": "markdown",
   "metadata": {},
   "source": [
    "São métodos usados para acessar linhas e colunas em DataFrames do Pandas, uma biblioteca essencial para a manipulação de dados em Python.\n",
    "\n",
    "* `loc`: Usa rótulos (labels) ou nomes para selecionar dados.\n",
    "Útil quando se sabe os rótulos exatos das linhas e colunas.\n",
    "\n",
    "* `iloc`: Usa índices (posições inteiras) para selecionar dados.\n",
    "Útil quando se trabalha com posições de índice numéricas."
   ]
  },
  {
   "cell_type": "code",
   "execution_count": 4,
   "metadata": {},
   "outputs": [
    {
     "name": "stdout",
     "output_type": "stream",
     "text": [
      "     Nome  Idade          Cidade\n",
      "0     Ana     23       São Paulo\n",
      "1    João     30  Rio de Janeiro\n",
      "2   Maria     35  Belo Horizonte\n",
      "3  Carlos     40        Brasília\n",
      "4    José     22        Curitiba\n"
     ]
    }
   ],
   "source": [
    "import pandas as pd\n",
    "\n",
    "# Criar um DataFrame de exemplo\n",
    "data = {\n",
    "    'Nome': ['Ana', 'João', 'Maria', 'Carlos', 'José'],\n",
    "    'Idade': [23, 30, 35, 40, 22],\n",
    "    'Cidade': ['São Paulo', 'Rio de Janeiro', 'Belo Horizonte', 'Brasília', 'Curitiba']\n",
    "}\n",
    "df = pd.DataFrame(data)\n",
    "\n",
    "print(df)"
   ]
  },
  {
   "cell_type": "markdown",
   "metadata": {},
   "source": [
    "## Usando `loc`"
   ]
  },
  {
   "cell_type": "markdown",
   "metadata": {},
   "source": [
    "Acessar Linhas por Índice de Rótulo"
   ]
  },
  {
   "cell_type": "code",
   "execution_count": 5,
   "metadata": {},
   "outputs": [
    {
     "name": "stdout",
     "output_type": "stream",
     "text": [
      "Nome               Maria\n",
      "Idade                 35\n",
      "Cidade    Belo Horizonte\n",
      "Name: 2, dtype: object\n"
     ]
    }
   ],
   "source": [
    "# Acessar a linha com rótulo 2\n",
    "linha_2 = df.loc[2]\n",
    "print(linha_2)\n"
   ]
  },
  {
   "cell_type": "markdown",
   "metadata": {},
   "source": [
    "Acessar Linhas e Colunas Especificadas"
   ]
  },
  {
   "cell_type": "code",
   "execution_count": 6,
   "metadata": {},
   "outputs": [
    {
     "name": "stdout",
     "output_type": "stream",
     "text": [
      "Brasília\n"
     ]
    }
   ],
   "source": [
    "# Acessar a célula específica na linha com rótulo 3 e coluna 'Cidade'\n",
    "cidade_3 = df.loc[3, 'Cidade']\n",
    "print(cidade_3)\n"
   ]
  },
  {
   "cell_type": "markdown",
   "metadata": {},
   "source": [
    "Acessar um Intervalo de Linhas e Colunas"
   ]
  },
  {
   "cell_type": "code",
   "execution_count": 7,
   "metadata": {},
   "outputs": [
    {
     "name": "stdout",
     "output_type": "stream",
     "text": [
      "     Nome  Idade\n",
      "1    João     30\n",
      "2   Maria     35\n",
      "3  Carlos     40\n"
     ]
    }
   ],
   "source": [
    "# Acessar linhas com rótulos de 1 a 3 e colunas 'Nome' e 'Idade'\n",
    "subset_loc = df.loc[1:3, ['Nome', 'Idade']]\n",
    "print(subset_loc)\n"
   ]
  },
  {
   "cell_type": "markdown",
   "metadata": {},
   "source": [
    "## Usando `iloc`"
   ]
  },
  {
   "cell_type": "markdown",
   "metadata": {},
   "source": [
    "Acessar Linhas por Índice de Posição"
   ]
  },
  {
   "cell_type": "code",
   "execution_count": 8,
   "metadata": {},
   "outputs": [
    {
     "name": "stdout",
     "output_type": "stream",
     "text": [
      "Nome               Maria\n",
      "Idade                 35\n",
      "Cidade    Belo Horizonte\n",
      "Name: 2, dtype: object\n"
     ]
    }
   ],
   "source": [
    "# Acessar a linha na posição 2 (a terceira linha, pois o índice começa em 0)\n",
    "linha_2_iloc = df.iloc[2]\n",
    "print(linha_2_iloc)"
   ]
  },
  {
   "cell_type": "markdown",
   "metadata": {},
   "source": [
    "Acessar Linhas e Colunas Especificadas por Índices de Posição"
   ]
  },
  {
   "cell_type": "code",
   "execution_count": 9,
   "metadata": {},
   "outputs": [
    {
     "name": "stdout",
     "output_type": "stream",
     "text": [
      "Brasília\n"
     ]
    }
   ],
   "source": [
    "# Acessar a célula específica na linha 3 e coluna 2 (índice começa em 0)\n",
    "cidade_3_iloc = df.iloc[3, 2]\n",
    "print(cidade_3_iloc)\n"
   ]
  },
  {
   "cell_type": "markdown",
   "metadata": {},
   "source": [
    "Acessar um Intervalo de Linhas e Colunas por Índices de Posição"
   ]
  },
  {
   "cell_type": "code",
   "execution_count": 10,
   "metadata": {},
   "outputs": [
    {
     "name": "stdout",
     "output_type": "stream",
     "text": [
      "     Nome  Idade\n",
      "1    João     30\n",
      "2   Maria     35\n",
      "3  Carlos     40\n"
     ]
    }
   ],
   "source": [
    "# Acessar linhas nas posições 1 a 3 e colunas nas posições 0 e 1\n",
    "subset_iloc = df.iloc[1:4, 0:2]\n",
    "print(subset_iloc)\n"
   ]
  },
  {
   "cell_type": "markdown",
   "metadata": {},
   "source": [
    "`:` significa pegar tudo"
   ]
  },
  {
   "cell_type": "code",
   "execution_count": 14,
   "metadata": {},
   "outputs": [
    {
     "name": "stdout",
     "output_type": "stream",
     "text": [
      "     Nome  Idade\n",
      "0     Ana     23\n",
      "1    João     30\n",
      "2   Maria     35\n",
      "3  Carlos     40\n",
      "4    José     22\n"
     ]
    }
   ],
   "source": [
    "# Acessar linhas nas posições 1 a 3 e colunas nas posições 0 e 1\n",
    "subset_iloc = df.iloc[:, 0:2]\n",
    "print(subset_iloc)\n"
   ]
  },
  {
   "cell_type": "code",
   "execution_count": 15,
   "metadata": {},
   "outputs": [
    {
     "name": "stdout",
     "output_type": "stream",
     "text": [
      "[['Ana' 23]\n",
      " ['João' 30]\n",
      " ['Maria' 35]\n",
      " ['Carlos' 40]\n",
      " ['José' 22]]\n"
     ]
    }
   ],
   "source": [
    "# Acessar linhas nas posições 1 a 3 e colunas nas posições 0 e 1\n",
    "subset_iloc = df.iloc[:, 0:2].values\n",
    "print(subset_iloc)\n"
   ]
  },
  {
   "cell_type": "code",
   "execution_count": null,
   "metadata": {},
   "outputs": [
    {
     "name": "stdout",
     "output_type": "stream",
     "text": [
      "     Nome  Idade          Cidade\n",
      "1    João     30  Rio de Janeiro\n",
      "2   Maria     35  Belo Horizonte\n",
      "3  Carlos     40        Brasília\n"
     ]
    }
   ],
   "source": [
    "# Acessar linhas nas posições 1 a 3 e colunas nas posições 0 e 1\n",
    "subset_iloc = df.iloc[1:4, :]\n",
    "print(subset_iloc)\n",
    "\n"
   ]
  },
  {
   "cell_type": "code",
   "execution_count": 16,
   "metadata": {},
   "outputs": [
    {
     "name": "stdout",
     "output_type": "stream",
     "text": [
      "[['João' 30 'Rio de Janeiro']\n",
      " ['Maria' 35 'Belo Horizonte']\n",
      " ['Carlos' 40 'Brasília']]\n"
     ]
    }
   ],
   "source": [
    "# Acessar linhas nas posições 1 a 3 e colunas nas posições 0 e 1\n",
    "subset_iloc = df.iloc[1:4, :].values\n",
    "print(subset_iloc)\n",
    "\n"
   ]
  }
 ],
 "metadata": {
  "kernelspec": {
   "display_name": "Python 3",
   "language": "python",
   "name": "python3"
  },
  "language_info": {
   "codemirror_mode": {
    "name": "ipython",
    "version": 3
   },
   "file_extension": ".py",
   "mimetype": "text/x-python",
   "name": "python",
   "nbconvert_exporter": "python",
   "pygments_lexer": "ipython3",
   "version": "3.13.0"
  }
 },
 "nbformat": 4,
 "nbformat_minor": 2
}

{
 "cells": [
  {
   "cell_type": "markdown",
   "metadata": {},
   "source": [
    "# Distribuição Binominal"
   ]
  },
  {
   "cell_type": "markdown",
   "metadata": {},
   "source": [
    "A distribuição binomial é uma distribuição de probabilidade discreta que descreve o número de sucessos em uma sequência de experimentos independentes, onde cada experimento tem dois resultados possíveis (sucesso ou falha)."
   ]
  },
  {
   "cell_type": "markdown",
   "metadata": {},
   "source": [
    "1. Importando Bibliotecas Necessárias"
   ]
  },
  {
   "cell_type": "code",
   "execution_count": 23,
   "metadata": {},
   "outputs": [],
   "source": [
    "import pandas as pd\n",
    "import numpy as np\n",
    "import matplotlib.pyplot as plt\n",
    "from scipy.stats import binom"
   ]
  },
  {
   "cell_type": "markdown",
   "metadata": {},
   "source": [
    "2. Definindo Parâmetros da Distribuição\n"
   ]
  },
  {
   "cell_type": "code",
   "execution_count": 4,
   "metadata": {},
   "outputs": [],
   "source": [
    "n = 10  # Número de experimentos\n",
    "p = 0.5 # Probabilidade de sucesso\n"
   ]
  },
  {
   "cell_type": "markdown",
   "metadata": {},
   "source": [
    "3. Gerando e Plotando a Distribuição Binomial"
   ]
  },
  {
   "cell_type": "code",
   "execution_count": 5,
   "metadata": {},
   "outputs": [
    {
     "data": {
      "image/png": "[encoded data removed]",
      "text/plain": [
       "<Figure size 640x480 with 1 Axes>"
      ]
     },
     "metadata": {},
     "output_type": "display_data"
    }
   ],
   "source": [
    "# Valores possíveis de k (número de sucessos)\n",
    "k = np.arange(0, n+1)\n",
    "\n",
    "# Distribuição binomial\n",
    "binomial = binom.pmf(k, n, p)\n",
    "\n",
    "# Plotando a distribuição\n",
    "plt.bar(k+  binomial)\n",
    "plt.title('Distribuição Binomial')\n",
    "plt.xlabel('Número de Sucessos')\n",
    "plt.ylabel('Probabilidade')\n",
    "plt.show()\n"
   ]
  },
  {
   "cell_type": "markdown",
   "metadata": {},
   "source": [
    "**↑ Interpretação:**\n",
    "* Eixo X (Número de Sucessos): Mostra o número de sucessos possíveis em n experimentos.\n",
    "* Eixo Y (Probabilidade): Mostra a probabilidade de cada número de sucessos."
   ]
  },
  {
   "cell_type": "markdown",
   "metadata": {},
   "source": [
    "**Calculando Probabilidades Específicas**\n",
    "\n",
    "Podemos calcular a probabilidade de obter um certo número de sucessos usando binom.pmf para a função de massa de probabilidade ou binom.cdf para a função de distribuição acumulada."
   ]
  },
  {
   "cell_type": "code",
   "execution_count": 6,
   "metadata": {},
   "outputs": [
    {
     "name": "stdout",
     "output_type": "stream",
     "text": [
      "Probabilidade de exatamente 5 sucessos: 0.24609375\n",
      "Probabilidade de no máximo 5 sucessos: 0.623046875\n"
     ]
    }
   ],
   "source": [
    "# Probabilidade de exatamente 5 sucessos\n",
    "prob_5_sucessos = binom.pmf(5+  n+  p)\n",
    "print(f\"Probabilidade de exatamente 5 sucessos: {prob_5_sucessos}\")\n",
    "\n",
    "# Probabilidade de no máximo 5 sucessos\n",
    "prob_max_5_sucessos = binom.cdf(5, n, p)\n",
    "print(f\"Probabilidade de no máximo 5 sucessos: {prob_max_5_sucessos}\")\n"
   ]
  },
  {
   "cell_type": "markdown",
   "metadata": {},
   "source": [
    "### **❇️ Exemplos:** eventos, experimentos e probabilidades"
   ]
  },
  {
   "cell_type": "markdown",
   "metadata": {},
   "source": [
    "#### Moeda"
   ]
  },
  {
   "cell_type": "markdown",
   "metadata": {},
   "source": [
    "Jogar uma moeda 5 vezes, qual a probabilidade de dar cara 3 vezes?"
   ]
  },
  {
   "cell_type": "code",
   "execution_count": 17,
   "metadata": {},
   "outputs": [
    {
     "data": {
      "text/plain": [
       "np.float64(0.31)"
      ]
     },
     "execution_count": 17,
     "metadata": {},
     "output_type": "execute_result"
    }
   ],
   "source": [
    "prob = binom.pmf(3, 5, 0.5)\n",
    "round(prob, 2)"
   ]
  },
  {
   "cell_type": "markdown",
   "metadata": {},
   "source": [
    "#### Semáforo"
   ]
  },
  {
   "cell_type": "markdown",
   "metadata": {},
   "source": [
    "Passar por 4 semáforos de 4 tempos, qual a probabilidade de pegar o sinal verde?<br>\n",
    "0, 1, 2, 3 ou 4 vezes seguidas?"
   ]
  },
  {
   "cell_type": "code",
   "execution_count": null,
   "metadata": {},
   "outputs": [
    {
     "name": "stdout",
     "output_type": "stream",
     "text": [
      "0.32 %\n",
      "0.42 %\n",
      "0.21 %\n",
      "0.05 %\n",
      "0.0 %\n",
      "1.0 %\n"
     ]
    }
   ],
   "source": [
    "zero = binom.pmf(0, 4, 0.25)\n",
    "um = binom.pmf(1, 4, 0.25)\n",
    "dois = binom.pmf(2, 4, 0.25)\n",
    "tres = binom.pmf(3, 4, 0.25)\n",
    "quatro = binom.pmf(4, 4, 0.25)\n",
    "\n",
    "semaforo = (zero + um + dois + tres + quatro) #Probabilidade acumulativa\n",
    "\n",
    "\n",
    "print(round(zero, 2),\"%\")\n",
    "print(round(um, 2),\"%\")\n",
    "print(round(dois, 2),\"%\")\n",
    "print(round(tres, 2),\"%\")\n",
    "print(round(quatro, 2),\"%\")\n",
    "print(round(semaforo, 2),\"%\")"
   ]
  },
  {
   "cell_type": "markdown",
   "metadata": {},
   "source": [
    "E se forem sinais de dois tempos?"
   ]
  },
  {
   "cell_type": "code",
   "execution_count": 14,
   "metadata": {},
   "outputs": [
    {
     "data": {
      "text/plain": [
       "np.float64(0.0625)"
      ]
     },
     "execution_count": 14,
     "metadata": {},
     "output_type": "execute_result"
    }
   ],
   "source": [
    "binom.pmf(4, 4, 0.5)"
   ]
  },
  {
   "cell_type": "markdown",
   "metadata": {},
   "source": [
    "Probabilidade 3 sinals (não mais 4)"
   ]
  },
  {
   "cell_type": "code",
   "execution_count": null,
   "metadata": {},
   "outputs": [
    {
     "data": {
      "text/plain": [
       "np.float64(0.99609375)"
      ]
     },
     "execution_count": 11,
     "metadata": {},
     "output_type": "execute_result"
    }
   ],
   "source": [
    "binom.cdf(3, 4, 0.25)"
   ]
  },
  {
   "cell_type": "markdown",
   "metadata": {},
   "source": [
    "#### Concurso"
   ]
  },
  {
   "cell_type": "markdown",
   "metadata": {},
   "source": [
    "Concurso com 12 questões, qual a probabilidade de acertar 7 questões considerando que cada questão tem 4 ternativas?"
   ]
  },
  {
   "cell_type": "code",
   "execution_count": null,
   "metadata": {},
   "outputs": [
    {
     "data": {
      "text/plain": [
       "np.float64(1.1471271514892587)"
      ]
     },
     "execution_count": 12,
     "metadata": {},
     "output_type": "execute_result"
    }
   ],
   "source": [
    "binom.pmf(7, 12, 0.25) * 100"
   ]
  },
  {
   "cell_type": "markdown",
   "metadata": {},
   "source": [
    "Probabilidade de acertar as 12 questões"
   ]
  },
  {
   "cell_type": "code",
   "execution_count": null,
   "metadata": {},
   "outputs": [
    {
     "data": {
      "text/plain": [
       "np.float64(5.9604644775390625e-06)"
      ]
     },
     "execution_count": 13,
     "metadata": {},
     "output_type": "execute_result"
    }
   ],
   "source": [
    "binom.pmf(12, 12, 0.25) * 100"
   ]
  }
 ],
 "metadata": {
  "kernelspec": {
   "display_name": "Python 3",
   "language": "python",
   "name": "python3"
  },
  "language_info": {
   "codemirror_mode": {
    "name": "ipython",
    "version": 3
   },
   "file_extension": ".py",
   "mimetype": "text/x-python",
   "name": "python",
   "nbconvert_exporter": "python",
   "pygments_lexer": "ipython3",
   "version": "3.13.0"
  },
  "orig_nbformat": 4
 },
 "nbformat": 4,
 "nbformat_minor": 2
}

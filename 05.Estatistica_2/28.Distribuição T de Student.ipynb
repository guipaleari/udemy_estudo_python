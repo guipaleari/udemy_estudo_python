{
 "cells": [
  {
   "attachments": {},
   "cell_type": "markdown",
   "metadata": {},
   "source": [
    "# Distribuição T Student"
   ]
  },
  {
   "cell_type": "markdown",
   "metadata": {},
   "source": [
    "É usada quando queremos saber a média de uma população e temos apenas uma pequena amostra dela. Imagine que você tem uma cesta com apenas 10 bananas e quer saber a média do peso de todas as bananas na feira inteira. \n",
    "\n",
    "Suponha que você queira estimar a média do peso de todas as bananas em uma feira com base em uma amostra de 10 bananas. Você pesou cada banana e obteve os seguintes valores em gramas: 120, 130, 140, 150, 160, 170, 180, 190, 200, 210. A média da amostra é 165. \n",
    "\n",
    "Para uma amostra de 10 bananas e um nível de confiança de 95%, α/2 é igual a 0,025. Podemos encontrar o valor de t na tabela da distribuição t-Student com 9 graus de liberdade (n-1) e um nível de significância de 0,025, que é igual a 2,262. \n"
   ]
  },
  {
   "cell_type": "code",
   "execution_count": 2,
   "metadata": {},
   "outputs": [],
   "source": [
    "from scipy.stats import t"
   ]
  },
  {
   "attachments": {},
   "cell_type": "markdown",
   "metadata": {},
   "source": [
    "#### ❇️ Exemplo: Média de salário dos cientistas de dados RS 75 por hora\n",
    "Amostra com 9 funcionários e desvio padrão 10"
   ]
  },
  {
   "cell_type": "markdown",
   "metadata": {},
   "source": [
    "Qual é a probabilidade de selecionar um cientista de daddos e o salário ser menor que R$80/h?"
   ]
  },
  {
   "cell_type": "code",
   "execution_count": 6,
   "metadata": {},
   "outputs": [
    {
     "name": "stdout",
     "output_type": "stream",
     "text": [
      "A probabilidade de selecionar um cientista de dados e o salário ser menor que R$80/h é de 0.91 %\n"
     ]
    }
   ],
   "source": [
    "menor = t.cdf(1.5, 8) #CDF = Cumulative Distribution Function of the given RV | Esquerda distribuição\n",
    "print(\"A probabilidade de selecionar um cientista de dados e o salário ser menor que R$80/h é de\", round(menor, 2),\"%\") "
   ]
  },
  {
   "cell_type": "markdown",
   "metadata": {},
   "source": [
    "Qual a probabilidade do salário ser maior que 80?"
   ]
  },
  {
   "cell_type": "code",
   "execution_count": null,
   "metadata": {},
   "outputs": [
    {
     "name": "stdout",
     "output_type": "stream",
     "text": [
      "A probabilidade de selecionar um cientista de dados e o salário ser maior que R$80/h é de 0.09 %\n"
     ]
    }
   ],
   "source": [
    "maior = t.sf(1.5, 8) #SF = Direita distribuição\n",
    "print(\"A probabilidade de selecionar um cientista de dados e o salário ser maior que R$80/h é de\", round(maior, 2),\"%\") "
   ]
  },
  {
   "cell_type": "markdown",
   "metadata": {},
   "source": [
    "Somatório da execução dos dois códigos acima (lado esquerdo + lado direito da distribuição):"
   ]
  },
  {
   "cell_type": "code",
   "execution_count": 22,
   "metadata": {},
   "outputs": [
    {
     "name": "stdout",
     "output_type": "stream",
     "text": [
      "1\n"
     ]
    }
   ],
   "source": [
    "print(round(t.cdf(1.5, 8) + t.sf(1.5, 8)))"
   ]
  }
 ],
 "metadata": {
  "kernelspec": {
   "display_name": "Python 3",
   "language": "python",
   "name": "python3"
  },
  "language_info": {
   "codemirror_mode": {
    "name": "ipython",
    "version": 3
   },
   "file_extension": ".py",
   "mimetype": "text/x-python",
   "name": "python",
   "nbconvert_exporter": "python",
   "pygments_lexer": "ipython3",
   "version": "3.13.0"
  },
  "orig_nbformat": 4
 },
 "nbformat": 4,
 "nbformat_minor": 2
}

{
 "cells": [
  {
   "cell_type": "markdown",
   "metadata": {},
   "source": [
    "# Distribuição de Poisson\n",
    "Mede a probabilidade da ocorrência de eventos em intervalo de tempo, em vez de um certo número de experimentos.\n",
    "Os eventos a cada intervalo devem ser independentes"
   ]
  },
  {
   "cell_type": "markdown",
   "metadata": {},
   "source": [
    "❇️ Exemplo: O número de acidentes de carros que ocorrem por dia é de 2 acidentes."
   ]
  },
  {
   "cell_type": "code",
   "execution_count": 3,
   "metadata": {},
   "outputs": [],
   "source": [
    "#Média de acidentes de carro =  2/dia\n",
    "from scipy.stats import poisson"
   ]
  },
  {
   "cell_type": "markdown",
   "metadata": {},
   "source": [
    "**Probabilidade pontual:** qual é a probabilidade de ocorrerem 3 acidentes no dia?"
   ]
  },
  {
   "cell_type": "code",
   "execution_count": 6,
   "metadata": {},
   "outputs": [
    {
     "name": "stdout",
     "output_type": "stream",
     "text": [
      "A probabilidade de ocorrerem 3 acidentes no dia é de 0.18 %\n"
     ]
    }
   ],
   "source": [
    "pontual = poisson.pmf(3, 2)\n",
    "print(\"A probabilidade de ocorrerem 3 acidentes no dia é de\", round(pontual, 2), \"%\")"
   ]
  },
  {
   "cell_type": "markdown",
   "metadata": {},
   "source": [
    "**Probabilidade cumulativa:** qual é a probabilidade de ocorrerem 3 ou menos acidentes no dia?\""
   ]
  },
  {
   "cell_type": "code",
   "execution_count": 9,
   "metadata": {},
   "outputs": [
    {
     "name": "stdout",
     "output_type": "stream",
     "text": [
      "A probabilidade de ocorrerem 3 acidentes ou menos no dia é de 0.86 %\n"
     ]
    }
   ],
   "source": [
    "cumulativa = poisson.cdf(3, 2)\n",
    "print(\"A probabilidade de ocorrerem 3 acidentes ou menos no dia é de\", round(cumulativa, 2), \"%\")"
   ]
  },
  {
   "cell_type": "markdown",
   "metadata": {},
   "source": [
    "**Probabilidade \"maior que\":** qual é a probabilidade de ocorrerem mais de 3 acidentes no dia?"
   ]
  },
  {
   "cell_type": "code",
   "execution_count": 10,
   "metadata": {},
   "outputs": [
    {
     "name": "stdout",
     "output_type": "stream",
     "text": [
      "A probabilidade de ocorrerem mais de 3 acidentes no dia é de 0.14 %\n"
     ]
    }
   ],
   "source": [
    "maior = poisson.sf(3, 2)\n",
    "print(\"A probabilidade de ocorrerem mais de 3 acidentes no dia é de\", round(maior, 2), \"%\")"
   ]
  }
 ],
 "metadata": {
  "kernelspec": {
   "display_name": "Python 3",
   "language": "python",
   "name": "python3"
  },
  "language_info": {
   "codemirror_mode": {
    "name": "ipython",
    "version": 3
   },
   "file_extension": ".py",
   "mimetype": "text/x-python",
   "name": "python",
   "nbconvert_exporter": "python",
   "pygments_lexer": "ipython3",
   "version": "3.13.0"
  },
  "orig_nbformat": 4
 },
 "nbformat": 4,
 "nbformat_minor": 2
}

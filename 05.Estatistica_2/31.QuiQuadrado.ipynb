{
 "cells": [
  {
   "cell_type": "markdown",
   "metadata": {},
   "source": [
    "# Qui-Quadrado"
   ]
  },
  {
   "cell_type": "markdown",
   "metadata": {},
   "source": [
    "O teste do qui-quadrado é utilizado para determinar se há uma associação significativa entre duas variáveis categóricas.<br>\n",
    "Ele compara as frequências observadas com as frequências esperadas em uma tabela de contingência. \n",
    "<a url = \"https://medium.com/@matheusventura/teste-qui-quadrado-a95cb5ba8c66\">ref</a>"
   ]
  },
  {
   "cell_type": "code",
   "execution_count": 1,
   "metadata": {},
   "outputs": [],
   "source": [
    "import pandas as pd\n",
    "import numpy as np\n",
    "from scipy.stats import chi2_contingency"
   ]
  },
  {
   "cell_type": "markdown",
   "metadata": {},
   "source": [
    "**Criando uma Tabela de Contingência**\n",
    "\n",
    "Primeiro, precisamos de uma tabela de contingência, que mostra a contagem de ocorrências para cada combinação de categorias das variáveis.\n",
    "\n",
    "Exemplo de tabela de contingência (dados fictícios sobre frequência de uma pesquisa):"
   ]
  },
  {
   "cell_type": "code",
   "execution_count": 2,
   "metadata": {},
   "outputs": [
    {
     "name": "stdout",
     "output_type": "stream",
     "text": [
      "         Categoria_A  Categoria_B  Categoria_C\n",
      "Grupo_1           10           20           30\n",
      "Grupo_2           20           15           35\n",
      "Grupo_3           30           25           15\n"
     ]
    }
   ],
   "source": [
    "# Criando uma tabela de contingência de exemplo\n",
    "dados = {\n",
    "    'Categoria_A': [10, 20, 30],\n",
    "    'Categoria_B': [20, 15, 25],\n",
    "    'Categoria_C': [30, 35, 15]\n",
    "}\n",
    "\n",
    "# Convertendo para DataFrame\n",
    "df = pd.DataFrame(dados, index=['Grupo_1', 'Grupo_2', 'Grupo_3'])\n",
    "print(df)"
   ]
  },
  {
   "cell_type": "markdown",
   "metadata": {},
   "source": [
    "**Executando o Teste Qui-Quadrado**\n",
    "\n",
    "Usamos a função chi2_contingency da scipy para realizar o teste qui-quadrado."
   ]
  },
  {
   "cell_type": "code",
   "execution_count": 3,
   "metadata": {},
   "outputs": [
    {
     "name": "stdout",
     "output_type": "stream",
     "text": [
      "Qui-Quadrado: 19.444444444444443\n",
      "p-valor: 0.0006426541863608164\n",
      "Graus de Liberdade: 4\n",
      "Frequências Esperadas:\n",
      "[[18. 18. 24.]\n",
      " [21. 21. 28.]\n",
      " [21. 21. 28.]]\n"
     ]
    }
   ],
   "source": [
    "# Calculando o teste qui-quadrado\n",
    "chi2, p, dof, expected = chi2_contingency(df)\n",
    "\n",
    "print(\"Qui-Quadrado:\", chi2)\n",
    "print(\"p-valor:\", p)\n",
    "print(\"Graus de Liberdade:\", dof)\n",
    "print(\"Frequências Esperadas:\")\n",
    "print(expected)\n"
   ]
  },
  {
   "cell_type": "markdown",
   "metadata": {},
   "source": [
    "**↑ Interpretação dos Resultados**\n",
    "* **Qui-Quadrado:** O valor do qui-quadrado calculado.\n",
    "* **p-valor:** A probabilidade de observar um valor tão extremo quanto o observado, assumindo que a hipótese nula é verdadeira. Um p-valor menor que 0.05 geralmente indica que podemos rejeitar a hipótese nula.\n",
    "* **Graus de Liberdade:** O número de categorias menos um, ajustado para o número de variáveis.\n",
    "* **Frequências Esperadas:** A tabela de frequências esperadas sob a hipótese nula."
   ]
  },
  {
   "cell_type": "markdown",
   "metadata": {},
   "source": [
    "**❇️ Exemplo:**"
   ]
  },
  {
   "cell_type": "code",
   "execution_count": null,
   "metadata": {},
   "outputs": [
    {
     "data": {
      "text/plain": [
       "array([[19,  6],\n",
       "       [43, 32]])"
      ]
     },
     "execution_count": 4,
     "metadata": {},
     "output_type": "execute_result"
    }
   ],
   "source": [
    "#*segundo valor é o pvalue\n",
    "#Valor de p maior que 0,05 não há evidências de diferença significativa (hipótese nula): não há diferença significativa\n",
    "novela = np.array([[19, 6], [43, 32]])\n",
    "novela"
   ]
  },
  {
   "cell_type": "code",
   "execution_count": 5,
   "metadata": {},
   "outputs": [
    {
     "data": {
      "text/plain": [
       "Chi2ContingencyResult(statistic=np.float64(2.037351443123939), pvalue=np.float64(0.15347667161786666), dof=1, expected_freq=array([[15.5,  9.5],\n",
       "       [46.5, 28.5]]))"
      ]
     },
     "execution_count": 5,
     "metadata": {},
     "output_type": "execute_result"
    }
   ],
   "source": [
    "chi2_contingency(novela)"
   ]
  },
  {
   "cell_type": "code",
   "execution_count": 6,
   "metadata": {},
   "outputs": [
    {
     "data": {
      "text/plain": [
       "array([[22,  3],\n",
       "       [43, 32]])"
      ]
     },
     "execution_count": 6,
     "metadata": {},
     "output_type": "execute_result"
    }
   ],
   "source": [
    "#Podemos rejeitar a hipótese nula em favor da hipótese alternativa: há diferença significativa\n",
    "novela2 = np.array([[22, 3], [43, 32]])\n",
    "novela2"
   ]
  },
  {
   "cell_type": "code",
   "execution_count": 7,
   "metadata": {},
   "outputs": [
    {
     "data": {
      "text/plain": [
       "Chi2ContingencyResult(statistic=np.float64(6.461538461538461), pvalue=np.float64(0.011023416388221425), dof=1, expected_freq=array([[16.25,  8.75],\n",
       "       [48.75, 26.25]]))"
      ]
     },
     "execution_count": 7,
     "metadata": {},
     "output_type": "execute_result"
    }
   ],
   "source": [
    "chi2_contingency(novela2)"
   ]
  }
 ],
 "metadata": {
  "kernelspec": {
   "display_name": "Python 3",
   "language": "python",
   "name": "python3"
  },
  "language_info": {
   "codemirror_mode": {
    "name": "ipython",
    "version": 3
   },
   "file_extension": ".py",
   "mimetype": "text/x-python",
   "name": "python",
   "nbconvert_exporter": "python",
   "pygments_lexer": "ipython3",
   "version": "3.13.0"
  },
  "orig_nbformat": 4
 },
 "nbformat": 4,
 "nbformat_minor": 2
}
